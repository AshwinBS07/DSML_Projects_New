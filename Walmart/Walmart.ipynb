{
 "cells": [
  {
   "cell_type": "code",
   "execution_count": 1,
   "id": "e4bd1fd0",
   "metadata": {},
   "outputs": [
    {
     "name": "stderr",
     "output_type": "stream",
     "text": [
      "Downloading...\n",
      "From: https://drive.google.com/uc?id=1Q1WhNBSNDWTJdPM2M-gYvvZMo_3sMws6\n",
      "To: C:\\Users\\Asus\\my python\\DSML\\walmart.csv\n",
      "\n",
      "  0%|          | 0.00/23.0M [00:00<?, ?B/s]\n",
      "  2%|2         | 524k/23.0M [00:00<00:04, 4.79MB/s]\n",
      "  9%|9         | 2.10M/23.0M [00:00<00:02, 9.63MB/s]\n",
      " 20%|##        | 4.72M/23.0M [00:00<00:01, 15.9MB/s]\n",
      " 30%|##9       | 6.82M/23.0M [00:00<00:01, 14.7MB/s]\n",
      " 36%|###6      | 8.39M/23.0M [00:00<00:01, 14.0MB/s]\n",
      " 43%|####3     | 9.96M/23.0M [00:00<00:00, 13.5MB/s]\n",
      " 50%|#####     | 11.5M/23.0M [00:00<00:00, 13.2MB/s]\n",
      " 57%|#####6    | 13.1M/23.0M [00:00<00:00, 13.0MB/s]\n",
      " 64%|######3   | 14.7M/23.0M [00:01<00:00, 12.9MB/s]\n",
      " 71%|#######   | 16.3M/23.0M [00:01<00:00, 12.8MB/s]\n",
      " 77%|#######7  | 17.8M/23.0M [00:01<00:00, 13.2MB/s]\n",
      " 84%|########4 | 19.4M/23.0M [00:01<00:00, 12.5MB/s]\n",
      " 91%|#########1| 21.0M/23.0M [00:01<00:00, 12.1MB/s]\n",
      " 98%|#########7| 22.5M/23.0M [00:01<00:00, 12.2MB/s]\n",
      "100%|##########| 23.0M/23.0M [00:01<00:00, 12.8MB/s]\n"
     ]
    }
   ],
   "source": [
    "!gdown 1Q1WhNBSNDWTJdPM2M-gYvvZMo_3sMws6"
   ]
  },
  {
   "cell_type": "code",
   "execution_count": 2,
   "id": "7b47df04",
   "metadata": {},
   "outputs": [],
   "source": [
    "import numpy as np\n",
    "import pandas as pd\n",
    "import matplotlib.pyplot as plt\n",
    "import seaborn as sns\n",
    "from scipy.stats import norm,binom"
   ]
  },
  {
   "cell_type": "code",
   "execution_count": 3,
   "id": "6d0c24e0",
   "metadata": {},
   "outputs": [
    {
     "data": {
      "text/html": [
       "<div>\n",
       "<style scoped>\n",
       "    .dataframe tbody tr th:only-of-type {\n",
       "        vertical-align: middle;\n",
       "    }\n",
       "\n",
       "    .dataframe tbody tr th {\n",
       "        vertical-align: top;\n",
       "    }\n",
       "\n",
       "    .dataframe thead th {\n",
       "        text-align: right;\n",
       "    }\n",
       "</style>\n",
       "<table border=\"1\" class=\"dataframe\">\n",
       "  <thead>\n",
       "    <tr style=\"text-align: right;\">\n",
       "      <th></th>\n",
       "      <th>User_ID</th>\n",
       "      <th>Product_ID</th>\n",
       "      <th>Gender</th>\n",
       "      <th>Age</th>\n",
       "      <th>Occupation</th>\n",
       "      <th>City_Category</th>\n",
       "      <th>Stay_In_Current_City_Years</th>\n",
       "      <th>Marital_Status</th>\n",
       "      <th>Product_Category</th>\n",
       "      <th>Purchase</th>\n",
       "    </tr>\n",
       "  </thead>\n",
       "  <tbody>\n",
       "    <tr>\n",
       "      <th>0</th>\n",
       "      <td>1000001</td>\n",
       "      <td>P00069042</td>\n",
       "      <td>F</td>\n",
       "      <td>0-17</td>\n",
       "      <td>10</td>\n",
       "      <td>A</td>\n",
       "      <td>2</td>\n",
       "      <td>0</td>\n",
       "      <td>3</td>\n",
       "      <td>8370</td>\n",
       "    </tr>\n",
       "    <tr>\n",
       "      <th>1</th>\n",
       "      <td>1000001</td>\n",
       "      <td>P00248942</td>\n",
       "      <td>F</td>\n",
       "      <td>0-17</td>\n",
       "      <td>10</td>\n",
       "      <td>A</td>\n",
       "      <td>2</td>\n",
       "      <td>0</td>\n",
       "      <td>1</td>\n",
       "      <td>15200</td>\n",
       "    </tr>\n",
       "    <tr>\n",
       "      <th>2</th>\n",
       "      <td>1000001</td>\n",
       "      <td>P00087842</td>\n",
       "      <td>F</td>\n",
       "      <td>0-17</td>\n",
       "      <td>10</td>\n",
       "      <td>A</td>\n",
       "      <td>2</td>\n",
       "      <td>0</td>\n",
       "      <td>12</td>\n",
       "      <td>1422</td>\n",
       "    </tr>\n",
       "    <tr>\n",
       "      <th>3</th>\n",
       "      <td>1000001</td>\n",
       "      <td>P00085442</td>\n",
       "      <td>F</td>\n",
       "      <td>0-17</td>\n",
       "      <td>10</td>\n",
       "      <td>A</td>\n",
       "      <td>2</td>\n",
       "      <td>0</td>\n",
       "      <td>12</td>\n",
       "      <td>1057</td>\n",
       "    </tr>\n",
       "    <tr>\n",
       "      <th>4</th>\n",
       "      <td>1000002</td>\n",
       "      <td>P00285442</td>\n",
       "      <td>M</td>\n",
       "      <td>55+</td>\n",
       "      <td>16</td>\n",
       "      <td>C</td>\n",
       "      <td>4+</td>\n",
       "      <td>0</td>\n",
       "      <td>8</td>\n",
       "      <td>7969</td>\n",
       "    </tr>\n",
       "    <tr>\n",
       "      <th>...</th>\n",
       "      <td>...</td>\n",
       "      <td>...</td>\n",
       "      <td>...</td>\n",
       "      <td>...</td>\n",
       "      <td>...</td>\n",
       "      <td>...</td>\n",
       "      <td>...</td>\n",
       "      <td>...</td>\n",
       "      <td>...</td>\n",
       "      <td>...</td>\n",
       "    </tr>\n",
       "    <tr>\n",
       "      <th>550063</th>\n",
       "      <td>1006033</td>\n",
       "      <td>P00372445</td>\n",
       "      <td>M</td>\n",
       "      <td>51-55</td>\n",
       "      <td>13</td>\n",
       "      <td>B</td>\n",
       "      <td>1</td>\n",
       "      <td>1</td>\n",
       "      <td>20</td>\n",
       "      <td>368</td>\n",
       "    </tr>\n",
       "    <tr>\n",
       "      <th>550064</th>\n",
       "      <td>1006035</td>\n",
       "      <td>P00375436</td>\n",
       "      <td>F</td>\n",
       "      <td>26-35</td>\n",
       "      <td>1</td>\n",
       "      <td>C</td>\n",
       "      <td>3</td>\n",
       "      <td>0</td>\n",
       "      <td>20</td>\n",
       "      <td>371</td>\n",
       "    </tr>\n",
       "    <tr>\n",
       "      <th>550065</th>\n",
       "      <td>1006036</td>\n",
       "      <td>P00375436</td>\n",
       "      <td>F</td>\n",
       "      <td>26-35</td>\n",
       "      <td>15</td>\n",
       "      <td>B</td>\n",
       "      <td>4+</td>\n",
       "      <td>1</td>\n",
       "      <td>20</td>\n",
       "      <td>137</td>\n",
       "    </tr>\n",
       "    <tr>\n",
       "      <th>550066</th>\n",
       "      <td>1006038</td>\n",
       "      <td>P00375436</td>\n",
       "      <td>F</td>\n",
       "      <td>55+</td>\n",
       "      <td>1</td>\n",
       "      <td>C</td>\n",
       "      <td>2</td>\n",
       "      <td>0</td>\n",
       "      <td>20</td>\n",
       "      <td>365</td>\n",
       "    </tr>\n",
       "    <tr>\n",
       "      <th>550067</th>\n",
       "      <td>1006039</td>\n",
       "      <td>P00371644</td>\n",
       "      <td>F</td>\n",
       "      <td>46-50</td>\n",
       "      <td>0</td>\n",
       "      <td>B</td>\n",
       "      <td>4+</td>\n",
       "      <td>1</td>\n",
       "      <td>20</td>\n",
       "      <td>490</td>\n",
       "    </tr>\n",
       "  </tbody>\n",
       "</table>\n",
       "<p>550068 rows × 10 columns</p>\n",
       "</div>"
      ],
      "text/plain": [
       "        User_ID Product_ID Gender    Age  Occupation City_Category  \\\n",
       "0       1000001  P00069042      F   0-17          10             A   \n",
       "1       1000001  P00248942      F   0-17          10             A   \n",
       "2       1000001  P00087842      F   0-17          10             A   \n",
       "3       1000001  P00085442      F   0-17          10             A   \n",
       "4       1000002  P00285442      M    55+          16             C   \n",
       "...         ...        ...    ...    ...         ...           ...   \n",
       "550063  1006033  P00372445      M  51-55          13             B   \n",
       "550064  1006035  P00375436      F  26-35           1             C   \n",
       "550065  1006036  P00375436      F  26-35          15             B   \n",
       "550066  1006038  P00375436      F    55+           1             C   \n",
       "550067  1006039  P00371644      F  46-50           0             B   \n",
       "\n",
       "       Stay_In_Current_City_Years  Marital_Status  Product_Category  Purchase  \n",
       "0                               2               0                 3      8370  \n",
       "1                               2               0                 1     15200  \n",
       "2                               2               0                12      1422  \n",
       "3                               2               0                12      1057  \n",
       "4                              4+               0                 8      7969  \n",
       "...                           ...             ...               ...       ...  \n",
       "550063                          1               1                20       368  \n",
       "550064                          3               0                20       371  \n",
       "550065                         4+               1                20       137  \n",
       "550066                          2               0                20       365  \n",
       "550067                         4+               1                20       490  \n",
       "\n",
       "[550068 rows x 10 columns]"
      ]
     },
     "execution_count": 3,
     "metadata": {},
     "output_type": "execute_result"
    }
   ],
   "source": [
    "df = pd.read_csv(\"walmart.csv\")\n",
    "df"
   ]
  },
  {
   "cell_type": "code",
   "execution_count": 4,
   "id": "04e03de7",
   "metadata": {},
   "outputs": [
    {
     "data": {
      "text/html": [
       "<div>\n",
       "<style scoped>\n",
       "    .dataframe tbody tr th:only-of-type {\n",
       "        vertical-align: middle;\n",
       "    }\n",
       "\n",
       "    .dataframe tbody tr th {\n",
       "        vertical-align: top;\n",
       "    }\n",
       "\n",
       "    .dataframe thead th {\n",
       "        text-align: right;\n",
       "    }\n",
       "</style>\n",
       "<table border=\"1\" class=\"dataframe\">\n",
       "  <thead>\n",
       "    <tr style=\"text-align: right;\">\n",
       "      <th></th>\n",
       "      <th>User_ID</th>\n",
       "      <th>Occupation</th>\n",
       "      <th>Marital_Status</th>\n",
       "      <th>Product_Category</th>\n",
       "      <th>Purchase</th>\n",
       "    </tr>\n",
       "  </thead>\n",
       "  <tbody>\n",
       "    <tr>\n",
       "      <th>count</th>\n",
       "      <td>5.500680e+05</td>\n",
       "      <td>550068.000000</td>\n",
       "      <td>550068.000000</td>\n",
       "      <td>550068.000000</td>\n",
       "      <td>550068.000000</td>\n",
       "    </tr>\n",
       "    <tr>\n",
       "      <th>mean</th>\n",
       "      <td>1.003029e+06</td>\n",
       "      <td>8.076707</td>\n",
       "      <td>0.409653</td>\n",
       "      <td>5.404270</td>\n",
       "      <td>9263.968713</td>\n",
       "    </tr>\n",
       "    <tr>\n",
       "      <th>std</th>\n",
       "      <td>1.727592e+03</td>\n",
       "      <td>6.522660</td>\n",
       "      <td>0.491770</td>\n",
       "      <td>3.936211</td>\n",
       "      <td>5023.065394</td>\n",
       "    </tr>\n",
       "    <tr>\n",
       "      <th>min</th>\n",
       "      <td>1.000001e+06</td>\n",
       "      <td>0.000000</td>\n",
       "      <td>0.000000</td>\n",
       "      <td>1.000000</td>\n",
       "      <td>12.000000</td>\n",
       "    </tr>\n",
       "    <tr>\n",
       "      <th>25%</th>\n",
       "      <td>1.001516e+06</td>\n",
       "      <td>2.000000</td>\n",
       "      <td>0.000000</td>\n",
       "      <td>1.000000</td>\n",
       "      <td>5823.000000</td>\n",
       "    </tr>\n",
       "    <tr>\n",
       "      <th>50%</th>\n",
       "      <td>1.003077e+06</td>\n",
       "      <td>7.000000</td>\n",
       "      <td>0.000000</td>\n",
       "      <td>5.000000</td>\n",
       "      <td>8047.000000</td>\n",
       "    </tr>\n",
       "    <tr>\n",
       "      <th>75%</th>\n",
       "      <td>1.004478e+06</td>\n",
       "      <td>14.000000</td>\n",
       "      <td>1.000000</td>\n",
       "      <td>8.000000</td>\n",
       "      <td>12054.000000</td>\n",
       "    </tr>\n",
       "    <tr>\n",
       "      <th>max</th>\n",
       "      <td>1.006040e+06</td>\n",
       "      <td>20.000000</td>\n",
       "      <td>1.000000</td>\n",
       "      <td>20.000000</td>\n",
       "      <td>23961.000000</td>\n",
       "    </tr>\n",
       "  </tbody>\n",
       "</table>\n",
       "</div>"
      ],
      "text/plain": [
       "            User_ID     Occupation  Marital_Status  Product_Category  \\\n",
       "count  5.500680e+05  550068.000000   550068.000000     550068.000000   \n",
       "mean   1.003029e+06       8.076707        0.409653          5.404270   \n",
       "std    1.727592e+03       6.522660        0.491770          3.936211   \n",
       "min    1.000001e+06       0.000000        0.000000          1.000000   \n",
       "25%    1.001516e+06       2.000000        0.000000          1.000000   \n",
       "50%    1.003077e+06       7.000000        0.000000          5.000000   \n",
       "75%    1.004478e+06      14.000000        1.000000          8.000000   \n",
       "max    1.006040e+06      20.000000        1.000000         20.000000   \n",
       "\n",
       "            Purchase  \n",
       "count  550068.000000  \n",
       "mean     9263.968713  \n",
       "std      5023.065394  \n",
       "min        12.000000  \n",
       "25%      5823.000000  \n",
       "50%      8047.000000  \n",
       "75%     12054.000000  \n",
       "max     23961.000000  "
      ]
     },
     "execution_count": 4,
     "metadata": {},
     "output_type": "execute_result"
    }
   ],
   "source": [
    "df.describe()"
   ]
  },
  {
   "cell_type": "code",
   "execution_count": 5,
   "id": "bdd6ffb9",
   "metadata": {},
   "outputs": [
    {
     "name": "stdout",
     "output_type": "stream",
     "text": [
      "<class 'pandas.core.frame.DataFrame'>\n",
      "RangeIndex: 550068 entries, 0 to 550067\n",
      "Data columns (total 10 columns):\n",
      " #   Column                      Non-Null Count   Dtype \n",
      "---  ------                      --------------   ----- \n",
      " 0   User_ID                     550068 non-null  int64 \n",
      " 1   Product_ID                  550068 non-null  object\n",
      " 2   Gender                      550068 non-null  object\n",
      " 3   Age                         550068 non-null  object\n",
      " 4   Occupation                  550068 non-null  int64 \n",
      " 5   City_Category               550068 non-null  object\n",
      " 6   Stay_In_Current_City_Years  550068 non-null  object\n",
      " 7   Marital_Status              550068 non-null  int64 \n",
      " 8   Product_Category            550068 non-null  int64 \n",
      " 9   Purchase                    550068 non-null  int64 \n",
      "dtypes: int64(5), object(5)\n",
      "memory usage: 42.0+ MB\n"
     ]
    }
   ],
   "source": [
    "df.info()"
   ]
  },
  {
   "cell_type": "markdown",
   "id": "3bb218ec",
   "metadata": {},
   "source": [
    "It looks like there are no missing records in this data set."
   ]
  },
  {
   "cell_type": "code",
   "execution_count": 6,
   "id": "893272f1",
   "metadata": {},
   "outputs": [
    {
     "data": {
      "text/plain": [
       "Gender\n",
       "F    8734.565765\n",
       "M    9437.526040\n",
       "Name: Purchase, dtype: float64"
      ]
     },
     "execution_count": 6,
     "metadata": {},
     "output_type": "execute_result"
    }
   ],
   "source": [
    "df_new = df.copy()\n",
    "df_new.groupby([\"Gender\"])[\"Purchase\"].mean()"
   ]
  },
  {
   "cell_type": "markdown",
   "id": "a88db2d7",
   "metadata": {},
   "source": [
    "The sample average per transaction of Male customers is more than Female customers, but we have to make sure if this is true for the whole population."
   ]
  },
  {
   "cell_type": "code",
   "execution_count": 7,
   "id": "fa2f79c3",
   "metadata": {},
   "outputs": [],
   "source": [
    "# male = df[df[\"Gender\"]==\"M\"]\n",
    "# female = df[df[\"Gender\"]==\"F\"]\n",
    "# sns.kdeplot(data = male,x=\"Purchase\")"
   ]
  },
  {
   "cell_type": "code",
   "execution_count": 8,
   "id": "277fcf59",
   "metadata": {},
   "outputs": [
    {
     "name": "stderr",
     "output_type": "stream",
     "text": [
      "C:\\Users\\Asus\\anaconda3\\lib\\site-packages\\seaborn\\_decorators.py:36: FutureWarning: Pass the following variable as a keyword arg: x. From version 0.12, the only valid positional argument will be `data`, and passing other arguments without an explicit keyword will result in an error or misinterpretation.\n",
      "  warnings.warn(\n"
     ]
    },
    {
     "data": {
      "text/plain": [
       "<AxesSubplot:xlabel='Purchase'>"
      ]
     },
     "execution_count": 8,
     "metadata": {},
     "output_type": "execute_result"
    },
    {
     "data": {
      "image/png": "[encoded data removed]",
      "text/plain": [
       "<Figure size 432x288 with 1 Axes>"
      ]
     },
     "metadata": {
      "needs_background": "light"
     },
     "output_type": "display_data"
    }
   ],
   "source": [
    "sns.boxplot(df[\"Purchase\"])"
   ]
  },
  {
   "cell_type": "markdown",
   "id": "06f214a2",
   "metadata": {},
   "source": [
    "There are some outliers in the Purchase feature of the data set."
   ]
  },
  {
   "cell_type": "code",
   "execution_count": 9,
   "id": "2612f427",
   "metadata": {},
   "outputs": [
    {
     "data": {
      "image/png": "[encoded data removed]",
      "text/plain": [
       "<Figure size 720x432 with 1 Axes>"
      ]
     },
     "metadata": {
      "needs_background": "light"
     },
     "output_type": "display_data"
    }
   ],
   "source": [
    "plt.figure(figsize=(10, 6))\n",
    "sns.histplot(data=df, x='Purchase', kde=True)\n",
    "plt.show()"
   ]
  },
  {
   "cell_type": "code",
   "execution_count": 10,
   "id": "91686772",
   "metadata": {},
   "outputs": [
    {
     "data": {
      "image/png": "[encoded data removed]",
      "text/plain": [
       "<Figure size 1008x1008 with 4 Axes>"
      ]
     },
     "metadata": {
      "needs_background": "light"
     },
     "output_type": "display_data"
    }
   ],
   "source": [
    "fig, axes = plt.subplots(nrows=2, ncols=2, figsize=(14, 14))\n",
    "sns.countplot(data=df, x='Gender', ax=axes[0,0])\n",
    "sns.countplot(data=df, x='Occupation', ax=axes[0,1])\n",
    "sns.countplot(data=df, x='City_Category', ax=axes[1,0])\n",
    "sns.countplot(data=df, x='Marital_Status', ax=axes[1,1])\n",
    "plt.show()\n"
   ]
  },
  {
   "cell_type": "code",
   "execution_count": 11,
   "id": "3113bed0",
   "metadata": {},
   "outputs": [
    {
     "data": {
      "text/plain": [
       "0    59.034701\n",
       "1    40.965299\n",
       "Name: Marital_Status, dtype: float64"
      ]
     },
     "execution_count": 11,
     "metadata": {},
     "output_type": "execute_result"
    }
   ],
   "source": [
    "df[\"Marital_Status\"].value_counts(normalize=True)*100"
   ]
  },
  {
   "cell_type": "code",
   "execution_count": 12,
   "id": "5c066143",
   "metadata": {},
   "outputs": [
    {
     "data": {
      "text/plain": [
       "M    75.310507\n",
       "F    24.689493\n",
       "Name: Gender, dtype: float64"
      ]
     },
     "execution_count": 12,
     "metadata": {},
     "output_type": "execute_result"
    }
   ],
   "source": [
    "df[\"Gender\"].value_counts(normalize=True)*100"
   ]
  },
  {
   "cell_type": "markdown",
   "id": "506c34df",
   "metadata": {},
   "source": [
    "The above plots are self explanatory. \n",
    "- We see the given sample has more data from male population and Unmarried people.\n",
    "- There are 20 different occupations.\n",
    "- Almost 60% are unmarried and 40% are married.\n",
    "- 75% are Men and 25% are Women"
   ]
  },
  {
   "cell_type": "code",
   "execution_count": 13,
   "id": "809fde89",
   "metadata": {},
   "outputs": [
    {
     "data": {
      "image/png": "[encoded data removed]",
      "text/plain": [
       "<Figure size 720x504 with 1 Axes>"
      ]
     },
     "metadata": {
      "needs_background": "light"
     },
     "output_type": "display_data"
    }
   ],
   "source": [
    "plt.figure(figsize=(10, 7))\n",
    "sns.countplot(data=df, x='Product_Category')\n",
    "plt.show()"
   ]
  },
  {
   "cell_type": "markdown",
   "id": "1f455e94",
   "metadata": {},
   "source": [
    "- There are 20 different product category\n",
    "- Product Category 1,5 and 8 have the highest purchasing frequency"
   ]
  },
  {
   "cell_type": "code",
   "execution_count": 14,
   "id": "9cd62263",
   "metadata": {},
   "outputs": [
    {
     "data": {
      "text/plain": [
       "26-35    39.919974\n",
       "36-45    19.999891\n",
       "18-25    18.117760\n",
       "46-50     8.308246\n",
       "51-55     6.999316\n",
       "55+       3.909335\n",
       "0-17      2.745479\n",
       "Name: Age, dtype: float64"
      ]
     },
     "execution_count": 14,
     "metadata": {},
     "output_type": "execute_result"
    }
   ],
   "source": [
    "plotData = df['Age'].value_counts(normalize=True)*100\n",
    "plotData"
   ]
  },
  {
   "cell_type": "code",
   "execution_count": 15,
   "id": "bbe1f4e6",
   "metadata": {},
   "outputs": [
    {
     "data": {
      "image/png": "[encoded data removed]",
      "text/plain": [
       "<Figure size 432x504 with 1 Axes>"
      ]
     },
     "metadata": {},
     "output_type": "display_data"
    }
   ],
   "source": [
    "plt.figure(figsize=(6,7))\n",
    "plt.pie(x=plotData.values, labels=plotData.index, autopct='%.0f%%')\n",
    "plt.title(\"Age\")\n",
    "plt.show()"
   ]
  },
  {
   "cell_type": "markdown",
   "id": "de47e1c2",
   "metadata": {},
   "source": [
    "Almost 40% from the sample are between age 26-35 followed bu 35-45 with almost 20% and 18% are 18-25."
   ]
  },
  {
   "cell_type": "code",
   "execution_count": 16,
   "id": "53df6a2b",
   "metadata": {},
   "outputs": [
    {
     "data": {
      "image/png": "[encoded data removed]",
      "text/plain": [
       "<Figure size 432x504 with 1 Axes>"
      ]
     },
     "metadata": {},
     "output_type": "display_data"
    }
   ],
   "source": [
    "plt.figure(figsize=(6,7))\n",
    "data = df['Stay_In_Current_City_Years'].value_counts(normalize=True)*100\n",
    "plt.pie(x=data.values, labels=data.index, autopct='%.0f%%')\n",
    "plt.title(\"Stay_In_Current_City_Years\")\n",
    "plt.show()"
   ]
  },
  {
   "cell_type": "code",
   "execution_count": 17,
   "id": "ff68c5df",
   "metadata": {},
   "outputs": [
    {
     "data": {
      "image/png": "[encoded data removed]",
      "text/plain": [
       "<Figure size 1440x1440 with 6 Axes>"
      ]
     },
     "metadata": {
      "needs_background": "light"
     },
     "output_type": "display_data"
    }
   ],
   "source": [
    "columns = ['Gender', 'Age', 'Occupation', 'Stay_In_Current_City_Years', 'Marital_Status', 'Product_Category']\n",
    "\n",
    "fig,axes = plt.subplots(nrows=3,ncols =2,figsize=(20,20))\n",
    "k = 0\n",
    "for i in range(3):\n",
    "    for j in range(2):\n",
    "        sns.boxplot(data = df,y=\"Purchase\",x=columns[k],ax=axes[i,j])\n",
    "        axes[i,j].set_title(f\"Product VS {columns[k]}\",fontsize=15)\n",
    "        k+=1\n",
    "plt.show()"
   ]
  },
  {
   "cell_type": "markdown",
   "id": "e8fe135e",
   "metadata": {},
   "source": [
    "- For the first 5 boxplots ['Gender', 'Age', 'Occupation', 'City_Category', 'Stay_In_Current_City_Years'] therer is no significant difference in the median but they differ slightly in Inter Quartile Range.\n",
    "- In the last plot Product Category, We see a hige difference in median values for each category.\n",
    "- All these bivariate plots show the presence of outliers."
   ]
  },
  {
   "cell_type": "code",
   "execution_count": 18,
   "id": "7f84c0db",
   "metadata": {},
   "outputs": [
    {
     "data": {
      "text/html": [
       "<div>\n",
       "<style scoped>\n",
       "    .dataframe tbody tr th:only-of-type {\n",
       "        vertical-align: middle;\n",
       "    }\n",
       "\n",
       "    .dataframe tbody tr th {\n",
       "        vertical-align: top;\n",
       "    }\n",
       "\n",
       "    .dataframe thead th {\n",
       "        text-align: right;\n",
       "    }\n",
       "</style>\n",
       "<table border=\"1\" class=\"dataframe\">\n",
       "  <thead>\n",
       "    <tr style=\"text-align: right;\">\n",
       "      <th></th>\n",
       "      <th></th>\n",
       "      <th>value</th>\n",
       "    </tr>\n",
       "    <tr>\n",
       "      <th>variable</th>\n",
       "      <th>value</th>\n",
       "      <th></th>\n",
       "    </tr>\n",
       "  </thead>\n",
       "  <tbody>\n",
       "    <tr>\n",
       "      <th rowspan=\"7\" valign=\"top\">Age</th>\n",
       "      <th>0-17</th>\n",
       "      <td>0.027455</td>\n",
       "    </tr>\n",
       "    <tr>\n",
       "      <th>18-25</th>\n",
       "      <td>0.181178</td>\n",
       "    </tr>\n",
       "    <tr>\n",
       "      <th>26-35</th>\n",
       "      <td>0.399200</td>\n",
       "    </tr>\n",
       "    <tr>\n",
       "      <th>36-45</th>\n",
       "      <td>0.199999</td>\n",
       "    </tr>\n",
       "    <tr>\n",
       "      <th>46-50</th>\n",
       "      <td>0.083082</td>\n",
       "    </tr>\n",
       "    <tr>\n",
       "      <th>51-55</th>\n",
       "      <td>0.069993</td>\n",
       "    </tr>\n",
       "    <tr>\n",
       "      <th>55+</th>\n",
       "      <td>0.039093</td>\n",
       "    </tr>\n",
       "    <tr>\n",
       "      <th rowspan=\"3\" valign=\"top\">City_Category</th>\n",
       "      <th>A</th>\n",
       "      <td>0.268549</td>\n",
       "    </tr>\n",
       "    <tr>\n",
       "      <th>B</th>\n",
       "      <td>0.420263</td>\n",
       "    </tr>\n",
       "    <tr>\n",
       "      <th>C</th>\n",
       "      <td>0.311189</td>\n",
       "    </tr>\n",
       "    <tr>\n",
       "      <th rowspan=\"2\" valign=\"top\">Gender</th>\n",
       "      <th>F</th>\n",
       "      <td>0.246895</td>\n",
       "    </tr>\n",
       "    <tr>\n",
       "      <th>M</th>\n",
       "      <td>0.753105</td>\n",
       "    </tr>\n",
       "    <tr>\n",
       "      <th rowspan=\"2\" valign=\"top\">Marital_Status</th>\n",
       "      <th>0</th>\n",
       "      <td>0.590347</td>\n",
       "    </tr>\n",
       "    <tr>\n",
       "      <th>1</th>\n",
       "      <td>0.409653</td>\n",
       "    </tr>\n",
       "    <tr>\n",
       "      <th rowspan=\"21\" valign=\"top\">Occupation</th>\n",
       "      <th>0</th>\n",
       "      <td>0.126599</td>\n",
       "    </tr>\n",
       "    <tr>\n",
       "      <th>1</th>\n",
       "      <td>0.086218</td>\n",
       "    </tr>\n",
       "    <tr>\n",
       "      <th>2</th>\n",
       "      <td>0.048336</td>\n",
       "    </tr>\n",
       "    <tr>\n",
       "      <th>3</th>\n",
       "      <td>0.032087</td>\n",
       "    </tr>\n",
       "    <tr>\n",
       "      <th>4</th>\n",
       "      <td>0.131453</td>\n",
       "    </tr>\n",
       "    <tr>\n",
       "      <th>5</th>\n",
       "      <td>0.022137</td>\n",
       "    </tr>\n",
       "    <tr>\n",
       "      <th>6</th>\n",
       "      <td>0.037005</td>\n",
       "    </tr>\n",
       "    <tr>\n",
       "      <th>7</th>\n",
       "      <td>0.107501</td>\n",
       "    </tr>\n",
       "    <tr>\n",
       "      <th>8</th>\n",
       "      <td>0.002811</td>\n",
       "    </tr>\n",
       "    <tr>\n",
       "      <th>9</th>\n",
       "      <td>0.011437</td>\n",
       "    </tr>\n",
       "    <tr>\n",
       "      <th>10</th>\n",
       "      <td>0.023506</td>\n",
       "    </tr>\n",
       "    <tr>\n",
       "      <th>11</th>\n",
       "      <td>0.021063</td>\n",
       "    </tr>\n",
       "    <tr>\n",
       "      <th>12</th>\n",
       "      <td>0.056682</td>\n",
       "    </tr>\n",
       "    <tr>\n",
       "      <th>13</th>\n",
       "      <td>0.014049</td>\n",
       "    </tr>\n",
       "    <tr>\n",
       "      <th>14</th>\n",
       "      <td>0.049647</td>\n",
       "    </tr>\n",
       "    <tr>\n",
       "      <th>15</th>\n",
       "      <td>0.022115</td>\n",
       "    </tr>\n",
       "    <tr>\n",
       "      <th>16</th>\n",
       "      <td>0.046123</td>\n",
       "    </tr>\n",
       "    <tr>\n",
       "      <th>17</th>\n",
       "      <td>0.072796</td>\n",
       "    </tr>\n",
       "    <tr>\n",
       "      <th>18</th>\n",
       "      <td>0.012039</td>\n",
       "    </tr>\n",
       "    <tr>\n",
       "      <th>19</th>\n",
       "      <td>0.015382</td>\n",
       "    </tr>\n",
       "    <tr>\n",
       "      <th>20</th>\n",
       "      <td>0.061014</td>\n",
       "    </tr>\n",
       "    <tr>\n",
       "      <th rowspan=\"20\" valign=\"top\">Product_Category</th>\n",
       "      <th>1</th>\n",
       "      <td>0.255201</td>\n",
       "    </tr>\n",
       "    <tr>\n",
       "      <th>2</th>\n",
       "      <td>0.043384</td>\n",
       "    </tr>\n",
       "    <tr>\n",
       "      <th>3</th>\n",
       "      <td>0.036746</td>\n",
       "    </tr>\n",
       "    <tr>\n",
       "      <th>4</th>\n",
       "      <td>0.021366</td>\n",
       "    </tr>\n",
       "    <tr>\n",
       "      <th>5</th>\n",
       "      <td>0.274390</td>\n",
       "    </tr>\n",
       "    <tr>\n",
       "      <th>6</th>\n",
       "      <td>0.037206</td>\n",
       "    </tr>\n",
       "    <tr>\n",
       "      <th>7</th>\n",
       "      <td>0.006765</td>\n",
       "    </tr>\n",
       "    <tr>\n",
       "      <th>8</th>\n",
       "      <td>0.207111</td>\n",
       "    </tr>\n",
       "    <tr>\n",
       "      <th>9</th>\n",
       "      <td>0.000745</td>\n",
       "    </tr>\n",
       "    <tr>\n",
       "      <th>10</th>\n",
       "      <td>0.009317</td>\n",
       "    </tr>\n",
       "    <tr>\n",
       "      <th>11</th>\n",
       "      <td>0.044153</td>\n",
       "    </tr>\n",
       "    <tr>\n",
       "      <th>12</th>\n",
       "      <td>0.007175</td>\n",
       "    </tr>\n",
       "    <tr>\n",
       "      <th>13</th>\n",
       "      <td>0.010088</td>\n",
       "    </tr>\n",
       "    <tr>\n",
       "      <th>14</th>\n",
       "      <td>0.002769</td>\n",
       "    </tr>\n",
       "    <tr>\n",
       "      <th>15</th>\n",
       "      <td>0.011435</td>\n",
       "    </tr>\n",
       "    <tr>\n",
       "      <th>16</th>\n",
       "      <td>0.017867</td>\n",
       "    </tr>\n",
       "    <tr>\n",
       "      <th>17</th>\n",
       "      <td>0.001051</td>\n",
       "    </tr>\n",
       "    <tr>\n",
       "      <th>18</th>\n",
       "      <td>0.005681</td>\n",
       "    </tr>\n",
       "    <tr>\n",
       "      <th>19</th>\n",
       "      <td>0.002914</td>\n",
       "    </tr>\n",
       "    <tr>\n",
       "      <th>20</th>\n",
       "      <td>0.004636</td>\n",
       "    </tr>\n",
       "    <tr>\n",
       "      <th rowspan=\"5\" valign=\"top\">Stay_In_Current_City_Years</th>\n",
       "      <th>0</th>\n",
       "      <td>0.135252</td>\n",
       "    </tr>\n",
       "    <tr>\n",
       "      <th>1</th>\n",
       "      <td>0.352358</td>\n",
       "    </tr>\n",
       "    <tr>\n",
       "      <th>2</th>\n",
       "      <td>0.185137</td>\n",
       "    </tr>\n",
       "    <tr>\n",
       "      <th>3</th>\n",
       "      <td>0.173224</td>\n",
       "    </tr>\n",
       "    <tr>\n",
       "      <th>4+</th>\n",
       "      <td>0.154028</td>\n",
       "    </tr>\n",
       "  </tbody>\n",
       "</table>\n",
       "</div>"
      ],
      "text/plain": [
       "                                     value\n",
       "variable                   value          \n",
       "Age                        0-17   0.027455\n",
       "                           18-25  0.181178\n",
       "                           26-35  0.399200\n",
       "                           36-45  0.199999\n",
       "                           46-50  0.083082\n",
       "                           51-55  0.069993\n",
       "                           55+    0.039093\n",
       "City_Category              A      0.268549\n",
       "                           B      0.420263\n",
       "                           C      0.311189\n",
       "Gender                     F      0.246895\n",
       "                           M      0.753105\n",
       "Marital_Status             0      0.590347\n",
       "                           1      0.409653\n",
       "Occupation                 0      0.126599\n",
       "                           1      0.086218\n",
       "                           2      0.048336\n",
       "                           3      0.032087\n",
       "                           4      0.131453\n",
       "                           5      0.022137\n",
       "                           6      0.037005\n",
       "                           7      0.107501\n",
       "                           8      0.002811\n",
       "                           9      0.011437\n",
       "                           10     0.023506\n",
       "                           11     0.021063\n",
       "                           12     0.056682\n",
       "                           13     0.014049\n",
       "                           14     0.049647\n",
       "                           15     0.022115\n",
       "                           16     0.046123\n",
       "                           17     0.072796\n",
       "                           18     0.012039\n",
       "                           19     0.015382\n",
       "                           20     0.061014\n",
       "Product_Category           1      0.255201\n",
       "                           2      0.043384\n",
       "                           3      0.036746\n",
       "                           4      0.021366\n",
       "                           5      0.274390\n",
       "                           6      0.037206\n",
       "                           7      0.006765\n",
       "                           8      0.207111\n",
       "                           9      0.000745\n",
       "                           10     0.009317\n",
       "                           11     0.044153\n",
       "                           12     0.007175\n",
       "                           13     0.010088\n",
       "                           14     0.002769\n",
       "                           15     0.011435\n",
       "                           16     0.017867\n",
       "                           17     0.001051\n",
       "                           18     0.005681\n",
       "                           19     0.002914\n",
       "                           20     0.004636\n",
       "Stay_In_Current_City_Years 0      0.135252\n",
       "                           1      0.352358\n",
       "                           2      0.185137\n",
       "                           3      0.173224\n",
       "                           4+     0.154028"
      ]
     },
     "execution_count": 18,
     "metadata": {},
     "output_type": "execute_result"
    }
   ],
   "source": [
    "columns = ['Gender', 'Age', 'Occupation', 'City_Category', 'Stay_In_Current_City_Years', 'Marital_Status', 'Product_Category']\n",
    "df_new[columns].melt().groupby(['variable', 'value'])[['value']].count()/len(df_new)"
   ]
  },
  {
   "cell_type": "code",
   "execution_count": 19,
   "id": "bbff361a",
   "metadata": {},
   "outputs": [
    {
     "data": {
      "image/png": "[encoded data removed]",
      "text/plain": [
       "<Figure size 1152x504 with 1 Axes>"
      ]
     },
     "metadata": {
      "needs_background": "light"
     },
     "output_type": "display_data"
    }
   ],
   "source": [
    "plt.figure(figsize=(16,7))\n",
    "sns.boxplot(data=df, y='Purchase', x='Gender', hue='Age', palette='Set2')\n",
    "plt.legend(loc='center')\n",
    "plt.title(\"Gender vs Purchase vs Age\")\n",
    "plt.show()"
   ]
  },
  {
   "cell_type": "code",
   "execution_count": 20,
   "id": "ebdd4c5b",
   "metadata": {},
   "outputs": [
    {
     "data": {
      "image/png": "[encoded data removed]",
      "text/plain": [
       "<Figure size 1152x504 with 1 Axes>"
      ]
     },
     "metadata": {
      "needs_background": "light"
     },
     "output_type": "display_data"
    }
   ],
   "source": [
    "plt.figure(figsize=(16,7))\n",
    "sns.boxplot(data=df, y='Purchase', x='Gender', hue='City_Category', palette='Set2')\n",
    "plt.legend(loc='center')\n",
    "plt.title(\"Gender vs Purchase vs City_Category\")\n",
    "\n",
    "plt.show()"
   ]
  },
  {
   "cell_type": "code",
   "execution_count": 21,
   "id": "07bf26f3",
   "metadata": {},
   "outputs": [
    {
     "data": {
      "image/png": "[encoded data removed]",
      "text/plain": [
       "<Figure size 1152x504 with 1 Axes>"
      ]
     },
     "metadata": {
      "needs_background": "light"
     },
     "output_type": "display_data"
    }
   ],
   "source": [
    "plt.figure(figsize=(16,7))\n",
    "sns.boxplot(data=df, y='Purchase', x='Gender', hue='Marital_Status', palette='Set2')\n",
    "plt.legend(loc='center')\n",
    "plt.title(\"Gender vs Purchase vs Marital_Status\")\n",
    "\n",
    "plt.show()"
   ]
  },
  {
   "cell_type": "code",
   "execution_count": 22,
   "id": "7709631a",
   "metadata": {},
   "outputs": [
    {
     "data": {
      "image/png": "[encoded data removed]",
      "text/plain": [
       "<Figure size 1152x504 with 1 Axes>"
      ]
     },
     "metadata": {
      "needs_background": "light"
     },
     "output_type": "display_data"
    }
   ],
   "source": [
    "plt.figure(figsize=(16,7))\n",
    "sns.boxplot(data=df, y='Purchase', x='Gender', hue='Stay_In_Current_City_Years', palette='Set2')\n",
    "plt.legend(loc='center')\n",
    "plt.title(\"Gender vs Purchase vs Stay_In_Current_City_Years\")\n",
    "\n",
    "plt.show()"
   ]
  },
  {
   "cell_type": "code",
   "execution_count": 23,
   "id": "c539d80f",
   "metadata": {},
   "outputs": [
    {
     "data": {
      "text/html": [
       "<div>\n",
       "<style scoped>\n",
       "    .dataframe tbody tr th:only-of-type {\n",
       "        vertical-align: middle;\n",
       "    }\n",
       "\n",
       "    .dataframe tbody tr th {\n",
       "        vertical-align: top;\n",
       "    }\n",
       "\n",
       "    .dataframe thead th {\n",
       "        text-align: right;\n",
       "    }\n",
       "</style>\n",
       "<table border=\"1\" class=\"dataframe\">\n",
       "  <thead>\n",
       "    <tr style=\"text-align: right;\">\n",
       "      <th></th>\n",
       "      <th>User_ID</th>\n",
       "      <th>Gender</th>\n",
       "      <th>Purchase</th>\n",
       "    </tr>\n",
       "  </thead>\n",
       "  <tbody>\n",
       "    <tr>\n",
       "      <th>0</th>\n",
       "      <td>1000001</td>\n",
       "      <td>F</td>\n",
       "      <td>334093</td>\n",
       "    </tr>\n",
       "    <tr>\n",
       "      <th>1</th>\n",
       "      <td>1000002</td>\n",
       "      <td>M</td>\n",
       "      <td>810472</td>\n",
       "    </tr>\n",
       "    <tr>\n",
       "      <th>2</th>\n",
       "      <td>1000003</td>\n",
       "      <td>M</td>\n",
       "      <td>341635</td>\n",
       "    </tr>\n",
       "    <tr>\n",
       "      <th>3</th>\n",
       "      <td>1000004</td>\n",
       "      <td>M</td>\n",
       "      <td>206468</td>\n",
       "    </tr>\n",
       "    <tr>\n",
       "      <th>4</th>\n",
       "      <td>1000005</td>\n",
       "      <td>M</td>\n",
       "      <td>821001</td>\n",
       "    </tr>\n",
       "    <tr>\n",
       "      <th>...</th>\n",
       "      <td>...</td>\n",
       "      <td>...</td>\n",
       "      <td>...</td>\n",
       "    </tr>\n",
       "    <tr>\n",
       "      <th>5886</th>\n",
       "      <td>1006036</td>\n",
       "      <td>F</td>\n",
       "      <td>4116058</td>\n",
       "    </tr>\n",
       "    <tr>\n",
       "      <th>5887</th>\n",
       "      <td>1006037</td>\n",
       "      <td>F</td>\n",
       "      <td>1119538</td>\n",
       "    </tr>\n",
       "    <tr>\n",
       "      <th>5888</th>\n",
       "      <td>1006038</td>\n",
       "      <td>F</td>\n",
       "      <td>90034</td>\n",
       "    </tr>\n",
       "    <tr>\n",
       "      <th>5889</th>\n",
       "      <td>1006039</td>\n",
       "      <td>F</td>\n",
       "      <td>590319</td>\n",
       "    </tr>\n",
       "    <tr>\n",
       "      <th>5890</th>\n",
       "      <td>1006040</td>\n",
       "      <td>M</td>\n",
       "      <td>1653299</td>\n",
       "    </tr>\n",
       "  </tbody>\n",
       "</table>\n",
       "<p>5891 rows × 3 columns</p>\n",
       "</div>"
      ],
      "text/plain": [
       "      User_ID Gender  Purchase\n",
       "0     1000001      F    334093\n",
       "1     1000002      M    810472\n",
       "2     1000003      M    341635\n",
       "3     1000004      M    206468\n",
       "4     1000005      M    821001\n",
       "...       ...    ...       ...\n",
       "5886  1006036      F   4116058\n",
       "5887  1006037      F   1119538\n",
       "5888  1006038      F     90034\n",
       "5889  1006039      F    590319\n",
       "5890  1006040      M   1653299\n",
       "\n",
       "[5891 rows x 3 columns]"
      ]
     },
     "execution_count": 23,
     "metadata": {},
     "output_type": "execute_result"
    }
   ],
   "source": [
    "sample_df = df_new.groupby(['User_ID', 'Gender'])[['Purchase']].sum()\n",
    "sample_df = sample_df.reset_index()\n",
    "sample_df"
   ]
  },
  {
   "cell_type": "code",
   "execution_count": 24,
   "id": "c55d1526",
   "metadata": {},
   "outputs": [
    {
     "data": {
      "text/plain": [
       "M    4225\n",
       "F    1666\n",
       "Name: Gender, dtype: int64"
      ]
     },
     "execution_count": 24,
     "metadata": {},
     "output_type": "execute_result"
    }
   ],
   "source": [
    "sample_df[\"Gender\"].value_counts()"
   ]
  },
  {
   "cell_type": "markdown",
   "id": "f3f23858",
   "metadata": {},
   "source": [
    "**Average amount spent per customer - Male vs Female**"
   ]
  },
  {
   "cell_type": "code",
   "execution_count": 25,
   "id": "091eabd0",
   "metadata": {},
   "outputs": [],
   "source": [
    "male = sample_df[sample_df['Gender']=='M']\n",
    "female = sample_df[sample_df['Gender']=='F']\n"
   ]
  },
  {
   "cell_type": "code",
   "execution_count": 26,
   "id": "28a35fd5",
   "metadata": {},
   "outputs": [],
   "source": [
    "male_mean = []\n",
    "female_mean=[]\n",
    "male_samples = 2000\n",
    "female_samples=1000\n",
    "for i in range(1000):\n",
    "    male_mean.append(male.sample(male_samples)[\"Purchase\"].mean())\n",
    "    female_mean.append(female.sample(female_samples)[\"Purchase\"].mean())\n",
    "    \n",
    "\n"
   ]
  },
  {
   "cell_type": "code",
   "execution_count": 27,
   "id": "c577fac7",
   "metadata": {},
   "outputs": [
    {
     "data": {
      "image/png": "[encoded data removed]",
      "text/plain": [
       "<Figure size 1440x576 with 2 Axes>"
      ]
     },
     "metadata": {
      "needs_background": "light"
     },
     "output_type": "display_data"
    }
   ],
   "source": [
    "fig,axes = plt.subplots(nrows=1,ncols=2,figsize=(20,8))\n",
    "\n",
    "sns.histplot(male_mean,kde=True,ax=axes[0])\n",
    "sns.histplot(female_mean,kde=True,ax=axes[1])\n",
    "axes[0].set_title(\"Male Distribution of Mean with Sample size-2000\")\n",
    "axes[1].set_title(\"Female Distribution of Mean with Sample size-1000\")\n",
    "plt.show()"
   ]
  },
  {
   "cell_type": "code",
   "execution_count": 28,
   "id": "33003dbf",
   "metadata": {},
   "outputs": [
    {
     "name": "stdout",
     "output_type": "stream",
     "text": [
      "Male Sample mean of 2000 samples is 925468.2 with standard deaviation 16458.7752944422\n",
      "Male Population mean is 925344.4\n",
      "\n",
      "Female Sample mean of 1000 samples is 711532.68 with standard deaviation 16048.41970747538\n",
      "Male Population mean is 712024.39\n"
     ]
    }
   ],
   "source": [
    "print(f\"Male Sample mean of {male_samples} samples is {round(np.mean(male_mean),2)} with standard deaviation {np.std(male_mean)}\")\n",
    "print(f\"Male Population mean is {round(male['Purchase'].mean(),2)}\")\n",
    "print()\n",
    "print(f\"Female Sample mean of {female_samples} samples is {round(np.mean(female_mean),2)} with standard deaviation {np.std(female_mean)}\")\n",
    "print(f\"Male Population mean is {round(female['Purchase'].mean(),2)}\")"
   ]
  },
  {
   "cell_type": "markdown",
   "id": "4c187717",
   "metadata": {},
   "source": [
    "Our initial observation is that male spend money in an average than females"
   ]
  },
  {
   "cell_type": "markdown",
   "id": "96782fe3",
   "metadata": {},
   "source": [
    "**Confidence interval - 90%**"
   ]
  },
  {
   "cell_type": "code",
   "execution_count": 29,
   "id": "1633b6d9",
   "metadata": {},
   "outputs": [
    {
     "name": "stdout",
     "output_type": "stream",
     "text": [
      "We can say with 90% confidence that male average purchase will be between 900397.5374922296 and 950291.2672414982\n",
      "We can say with 90% confidence that female average purchase will be between 679488.5000316962 and 744560.2898842702\n"
     ]
    }
   ],
   "source": [
    "male_std_error = male[\"Purchase\"].std()/np.sqrt(len(male))\n",
    "male_mean_val= male[\"Purchase\"].mean() \n",
    "# for 90% confidance interval \n",
    "z1=norm.ppf(0.05)\n",
    "z2 =norm.ppf(0.95)\n",
    "male_lower_limit = male_mean_val + z1*male_std_error\n",
    "male_upper_limit = male_mean_val + z2*male_std_error\n",
    "male_lower_limit,male_upper_limit\n",
    "print(f\"We can say with 90% confidence that male average purchase will be between {male_lower_limit} and {male_upper_limit}\")\n",
    "\n",
    "\n",
    "\n",
    "female_std_error = female[\"Purchase\"].std()/np.sqrt(len(female))\n",
    "female_mean_val= female[\"Purchase\"].mean() \n",
    "# for 90% confidance interval \n",
    "z1=norm.ppf(0.05)\n",
    "z2 =norm.ppf(0.95)\n",
    "female_lower_limit = female_mean_val + z1*female_std_error\n",
    "female_upper_limit = female_mean_val + z2*female_std_error\n",
    "female_lower_limit,female_upper_limit\n",
    "print(f\"We can say with 90% confidence that female average purchase will be between {female_lower_limit} and {female_upper_limit}\")"
   ]
  },
  {
   "cell_type": "markdown",
   "id": "d8e2c279",
   "metadata": {},
   "source": [
    "**Confidence interval - 95%**"
   ]
  },
  {
   "cell_type": "code",
   "execution_count": 30,
   "id": "0c605c7c",
   "metadata": {},
   "outputs": [
    {
     "name": "stdout",
     "output_type": "stream",
     "text": [
      "We can say with 95% confidence that male average purchase will be between 895618.3794063339 and 955070.4253273939\n",
      "We can say with 95% confidence that female average purchase will be between 673255.4849374058 and 750793.3049785605\n"
     ]
    }
   ],
   "source": [
    "male_std_error = male[\"Purchase\"].std()/np.sqrt(len(male))\n",
    "male_mean_val= male[\"Purchase\"].mean() \n",
    "# for 95% confidance interval \n",
    "z1=norm.ppf(0.025)\n",
    "z2 =norm.ppf(0.975)\n",
    "male_lower_limit = male_mean_val + z1*male_std_error\n",
    "male_upper_limit = male_mean_val + z2*male_std_error\n",
    "male_lower_limit,male_upper_limit\n",
    "print(f\"We can say with 95% confidence that male average purchase will be between {male_lower_limit} and {male_upper_limit}\")\n",
    "\n",
    "\n",
    "\n",
    "female_std_error = female[\"Purchase\"].std()/np.sqrt(len(female))\n",
    "female_mean_val= female[\"Purchase\"].mean() \n",
    "# for 95% confidance interval \n",
    "z1=norm.ppf(0.025)\n",
    "z2 =norm.ppf(0.975)\n",
    "female_lower_limit = female_mean_val + z1*female_std_error\n",
    "female_upper_limit = female_mean_val + z2*female_std_error\n",
    "female_lower_limit,female_upper_limit\n",
    "print(f\"We can say with 95% confidence that female average purchase will be between {female_lower_limit} and {female_upper_limit}\")"
   ]
  },
  {
   "cell_type": "markdown",
   "id": "04dbbd44",
   "metadata": {},
   "source": [
    "After applying CLT we can conclude that \n",
    "- Male customer's spending average is 926221.25\n",
    "- Feamle customer's spending average is 710452.06"
   ]
  },
  {
   "cell_type": "markdown",
   "id": "4db8c667",
   "metadata": {},
   "source": [
    "**Average amount spent per customer - Married vs Unmarried**"
   ]
  },
  {
   "cell_type": "code",
   "execution_count": 31,
   "id": "c1c58e63",
   "metadata": {},
   "outputs": [
    {
     "data": {
      "text/html": [
       "<div>\n",
       "<style scoped>\n",
       "    .dataframe tbody tr th:only-of-type {\n",
       "        vertical-align: middle;\n",
       "    }\n",
       "\n",
       "    .dataframe tbody tr th {\n",
       "        vertical-align: top;\n",
       "    }\n",
       "\n",
       "    .dataframe thead th {\n",
       "        text-align: right;\n",
       "    }\n",
       "</style>\n",
       "<table border=\"1\" class=\"dataframe\">\n",
       "  <thead>\n",
       "    <tr style=\"text-align: right;\">\n",
       "      <th></th>\n",
       "      <th>User_ID</th>\n",
       "      <th>Marital_Status</th>\n",
       "      <th>Purchase</th>\n",
       "    </tr>\n",
       "  </thead>\n",
       "  <tbody>\n",
       "    <tr>\n",
       "      <th>0</th>\n",
       "      <td>1000001</td>\n",
       "      <td>0</td>\n",
       "      <td>334093</td>\n",
       "    </tr>\n",
       "    <tr>\n",
       "      <th>1</th>\n",
       "      <td>1000002</td>\n",
       "      <td>0</td>\n",
       "      <td>810472</td>\n",
       "    </tr>\n",
       "    <tr>\n",
       "      <th>2</th>\n",
       "      <td>1000003</td>\n",
       "      <td>0</td>\n",
       "      <td>341635</td>\n",
       "    </tr>\n",
       "    <tr>\n",
       "      <th>3</th>\n",
       "      <td>1000004</td>\n",
       "      <td>1</td>\n",
       "      <td>206468</td>\n",
       "    </tr>\n",
       "    <tr>\n",
       "      <th>4</th>\n",
       "      <td>1000005</td>\n",
       "      <td>1</td>\n",
       "      <td>821001</td>\n",
       "    </tr>\n",
       "    <tr>\n",
       "      <th>...</th>\n",
       "      <td>...</td>\n",
       "      <td>...</td>\n",
       "      <td>...</td>\n",
       "    </tr>\n",
       "    <tr>\n",
       "      <th>5886</th>\n",
       "      <td>1006036</td>\n",
       "      <td>1</td>\n",
       "      <td>4116058</td>\n",
       "    </tr>\n",
       "    <tr>\n",
       "      <th>5887</th>\n",
       "      <td>1006037</td>\n",
       "      <td>0</td>\n",
       "      <td>1119538</td>\n",
       "    </tr>\n",
       "    <tr>\n",
       "      <th>5888</th>\n",
       "      <td>1006038</td>\n",
       "      <td>0</td>\n",
       "      <td>90034</td>\n",
       "    </tr>\n",
       "    <tr>\n",
       "      <th>5889</th>\n",
       "      <td>1006039</td>\n",
       "      <td>1</td>\n",
       "      <td>590319</td>\n",
       "    </tr>\n",
       "    <tr>\n",
       "      <th>5890</th>\n",
       "      <td>1006040</td>\n",
       "      <td>0</td>\n",
       "      <td>1653299</td>\n",
       "    </tr>\n",
       "  </tbody>\n",
       "</table>\n",
       "<p>5891 rows × 3 columns</p>\n",
       "</div>"
      ],
      "text/plain": [
       "      User_ID  Marital_Status  Purchase\n",
       "0     1000001               0    334093\n",
       "1     1000002               0    810472\n",
       "2     1000003               0    341635\n",
       "3     1000004               1    206468\n",
       "4     1000005               1    821001\n",
       "...       ...             ...       ...\n",
       "5886  1006036               1   4116058\n",
       "5887  1006037               0   1119538\n",
       "5888  1006038               0     90034\n",
       "5889  1006039               1    590319\n",
       "5890  1006040               0   1653299\n",
       "\n",
       "[5891 rows x 3 columns]"
      ]
     },
     "execution_count": 31,
     "metadata": {},
     "output_type": "execute_result"
    }
   ],
   "source": [
    "sample_df = df_new.groupby(['User_ID', 'Marital_Status'])[['Purchase']].sum()\n",
    "sample_df = sample_df.reset_index()\n",
    "sample_df"
   ]
  },
  {
   "cell_type": "code",
   "execution_count": 32,
   "id": "e21c09c1",
   "metadata": {},
   "outputs": [
    {
     "data": {
      "text/plain": [
       "0    3417\n",
       "1    2474\n",
       "Name: Marital_Status, dtype: int64"
      ]
     },
     "execution_count": 32,
     "metadata": {},
     "output_type": "execute_result"
    }
   ],
   "source": [
    "sample_df[\"Marital_Status\"].value_counts()"
   ]
  },
  {
   "cell_type": "code",
   "execution_count": 33,
   "id": "516cd45c",
   "metadata": {},
   "outputs": [],
   "source": [
    "married = sample_df[sample_df['Marital_Status']==1]\n",
    "unmarried = sample_df[sample_df['Marital_Status']==0]"
   ]
  },
  {
   "cell_type": "code",
   "execution_count": 34,
   "id": "4f1f0bc8",
   "metadata": {},
   "outputs": [
    {
     "data": {
      "text/html": [
       "<div>\n",
       "<style scoped>\n",
       "    .dataframe tbody tr th:only-of-type {\n",
       "        vertical-align: middle;\n",
       "    }\n",
       "\n",
       "    .dataframe tbody tr th {\n",
       "        vertical-align: top;\n",
       "    }\n",
       "\n",
       "    .dataframe thead th {\n",
       "        text-align: right;\n",
       "    }\n",
       "</style>\n",
       "<table border=\"1\" class=\"dataframe\">\n",
       "  <thead>\n",
       "    <tr style=\"text-align: right;\">\n",
       "      <th></th>\n",
       "      <th>User_ID</th>\n",
       "      <th>Marital_Status</th>\n",
       "      <th>Purchase</th>\n",
       "    </tr>\n",
       "  </thead>\n",
       "  <tbody>\n",
       "    <tr>\n",
       "      <th>3</th>\n",
       "      <td>1000004</td>\n",
       "      <td>1</td>\n",
       "      <td>206468</td>\n",
       "    </tr>\n",
       "    <tr>\n",
       "      <th>4</th>\n",
       "      <td>1000005</td>\n",
       "      <td>1</td>\n",
       "      <td>821001</td>\n",
       "    </tr>\n",
       "    <tr>\n",
       "      <th>6</th>\n",
       "      <td>1000007</td>\n",
       "      <td>1</td>\n",
       "      <td>234668</td>\n",
       "    </tr>\n",
       "    <tr>\n",
       "      <th>7</th>\n",
       "      <td>1000008</td>\n",
       "      <td>1</td>\n",
       "      <td>796593</td>\n",
       "    </tr>\n",
       "    <tr>\n",
       "      <th>9</th>\n",
       "      <td>1000010</td>\n",
       "      <td>1</td>\n",
       "      <td>2169510</td>\n",
       "    </tr>\n",
       "    <tr>\n",
       "      <th>...</th>\n",
       "      <td>...</td>\n",
       "      <td>...</td>\n",
       "      <td>...</td>\n",
       "    </tr>\n",
       "    <tr>\n",
       "      <th>5879</th>\n",
       "      <td>1006029</td>\n",
       "      <td>1</td>\n",
       "      <td>157436</td>\n",
       "    </tr>\n",
       "    <tr>\n",
       "      <th>5880</th>\n",
       "      <td>1006030</td>\n",
       "      <td>1</td>\n",
       "      <td>737361</td>\n",
       "    </tr>\n",
       "    <tr>\n",
       "      <th>5883</th>\n",
       "      <td>1006033</td>\n",
       "      <td>1</td>\n",
       "      <td>501843</td>\n",
       "    </tr>\n",
       "    <tr>\n",
       "      <th>5886</th>\n",
       "      <td>1006036</td>\n",
       "      <td>1</td>\n",
       "      <td>4116058</td>\n",
       "    </tr>\n",
       "    <tr>\n",
       "      <th>5889</th>\n",
       "      <td>1006039</td>\n",
       "      <td>1</td>\n",
       "      <td>590319</td>\n",
       "    </tr>\n",
       "  </tbody>\n",
       "</table>\n",
       "<p>2474 rows × 3 columns</p>\n",
       "</div>"
      ],
      "text/plain": [
       "      User_ID  Marital_Status  Purchase\n",
       "3     1000004               1    206468\n",
       "4     1000005               1    821001\n",
       "6     1000007               1    234668\n",
       "7     1000008               1    796593\n",
       "9     1000010               1   2169510\n",
       "...       ...             ...       ...\n",
       "5879  1006029               1    157436\n",
       "5880  1006030               1    737361\n",
       "5883  1006033               1    501843\n",
       "5886  1006036               1   4116058\n",
       "5889  1006039               1    590319\n",
       "\n",
       "[2474 rows x 3 columns]"
      ]
     },
     "execution_count": 34,
     "metadata": {},
     "output_type": "execute_result"
    }
   ],
   "source": [
    "married"
   ]
  },
  {
   "cell_type": "code",
   "execution_count": 35,
   "id": "bf6726da",
   "metadata": {},
   "outputs": [],
   "source": [
    "married_mean = []\n",
    "unmarried_mean=[]\n",
    "married_samples = 2000\n",
    "unmarried_samples=3000\n",
    "for i in range(1000):\n",
    "    married_mean.append(married.sample(married_samples)[\"Purchase\"].mean())\n",
    "    unmarried_mean.append(unmarried.sample(unmarried_samples)[\"Purchase\"].mean())"
   ]
  },
  {
   "cell_type": "code",
   "execution_count": 36,
   "id": "24065fcb",
   "metadata": {},
   "outputs": [
    {
     "data": {
      "image/png": "[encoded data removed]",
      "text/plain": [
       "<Figure size 1440x576 with 2 Axes>"
      ]
     },
     "metadata": {
      "needs_background": "light"
     },
     "output_type": "display_data"
    }
   ],
   "source": [
    "fig,axes = plt.subplots(nrows=1,ncols=2,figsize=(20,8))\n",
    "\n",
    "sns.histplot(married_mean,kde=True,ax=axes[0])\n",
    "sns.histplot(unmarried_mean,kde=True,ax=axes[1])\n",
    "axes[0].set_title(\"Married Distribution of Mean with Sample size-2000\")\n",
    "axes[1].set_title(\"Unmarried Distribution of Mean with Sample size-3000\")\n",
    "plt.show()"
   ]
  },
  {
   "cell_type": "code",
   "execution_count": 37,
   "id": "f34c8225",
   "metadata": {},
   "outputs": [
    {
     "name": "stdout",
     "output_type": "stream",
     "text": [
      "married Sample mean of 2000 samples is 843402.49 with standard deaviation 9074.81089072232\n",
      "married Population mean is 843526.8\n",
      "\n",
      "Unmarried Sample mean of 3000 samples is 880687.44 with standard deaviation 6042.732291796565\n",
      "Unmarried Population mean is 880575.78\n"
     ]
    }
   ],
   "source": [
    "print(f\"married Sample mean of {married_samples} samples is {round(np.mean(married_mean),2)} with standard deaviation {np.std(married_mean)}\")\n",
    "print(f\"married Population mean is {round(married['Purchase'].mean(),2)}\")\n",
    "print()\n",
    "print(f\"Unmarried Sample mean of {unmarried_samples} samples is {round(np.mean(unmarried_mean),2)} with standard deaviation {np.std(unmarried_mean)}\")\n",
    "print(f\"Unmarried Population mean is {round(unmarried['Purchase'].mean(),2)}\")"
   ]
  },
  {
   "cell_type": "markdown",
   "id": "3cf9fa15",
   "metadata": {},
   "source": [
    "Initial Observation - Married spending avg is less than unmarried"
   ]
  },
  {
   "cell_type": "code",
   "execution_count": 38,
   "id": "ef8ac7ed",
   "metadata": {},
   "outputs": [
    {
     "name": "stdout",
     "output_type": "stream",
     "text": [
      "We can say with 90% confidence that married person's average purchase will be between 812595.19 and 874458.41\n",
      "We can say with 90% confidence that unmarried average purchase will be between 853859.83 and 907291.73\n"
     ]
    }
   ],
   "source": [
    "married_std_error = married[\"Purchase\"].std()/np.sqrt(len(married))\n",
    "married_mean_val= married[\"Purchase\"].mean() \n",
    "# for 95% confidance interval \n",
    "z1=norm.ppf(0.05)\n",
    "z2 =norm.ppf(0.95)\n",
    "married_lower_limit = married_mean_val + z1*married_std_error\n",
    "married_upper_limit = married_mean_val + z2*married_std_error\n",
    "married_lower_limit,married_upper_limit\n",
    "print(f\"We can say with 90% confidence that married person's average purchase will be between {round(married_lower_limit,2)} and {round(married_upper_limit,2)}\")\n",
    "\n",
    "\n",
    "unmarried_std_error = unmarried[\"Purchase\"].std()/np.sqrt(len(unmarried))\n",
    "unmarried_mean_val= unmarried[\"Purchase\"].mean() \n",
    "# for 90% confidance interval \n",
    "z1=norm.ppf(0.05)\n",
    "z2 =norm.ppf(0.95)\n",
    "unmarried_lower_limit = unmarried_mean_val + z1*unmarried_std_error\n",
    "unmarried_upper_limit = unmarried_mean_val + z2*unmarried_std_error\n",
    "unmarried_lower_limit,unmarried_upper_limit\n",
    "print(f\"We can say with 90% confidence that unmarried average purchase will be between {round(unmarried_lower_limit,2)} and {round(unmarried_upper_limit,2)}\")"
   ]
  },
  {
   "cell_type": "markdown",
   "id": "a2028088",
   "metadata": {},
   "source": [
    "**we see a overlap in 90% confidence interval.**"
   ]
  },
  {
   "cell_type": "code",
   "execution_count": 39,
   "id": "05b17537",
   "metadata": {},
   "outputs": [
    {
     "name": "stdout",
     "output_type": "stream",
     "text": [
      "We can say with 95% confidence that married person's average purchase will be between 806669.5086715257 and 880384.0846995333\n",
      "We can say with 95% confidence that unmarried average purchase will be between 848741.7674019644 and 912409.7965430166\n"
     ]
    }
   ],
   "source": [
    "married_std_error = married[\"Purchase\"].std()/np.sqrt(len(married))\n",
    "married_mean_val= married[\"Purchase\"].mean() \n",
    "# for 95% confidance interval \n",
    "z1=norm.ppf(0.025)\n",
    "z2 =norm.ppf(0.975)\n",
    "married_lower_limit = married_mean_val + z1*married_std_error\n",
    "married_upper_limit = married_mean_val + z2*married_std_error\n",
    "married_lower_limit,married_upper_limit\n",
    "print(f\"We can say with 95% confidence that married person's average purchase will be between {married_lower_limit} and {married_upper_limit}\")\n",
    "\n",
    "\n",
    "unmarried_std_error = unmarried[\"Purchase\"].std()/np.sqrt(len(unmarried))\n",
    "unmarried_mean_val= unmarried[\"Purchase\"].mean() \n",
    "# for 95% confidance interval \n",
    "z1=norm.ppf(0.025)\n",
    "z2 =norm.ppf(0.975)\n",
    "unmarried_lower_limit = unmarried_mean_val + z1*unmarried_std_error\n",
    "unmarried_upper_limit = unmarried_mean_val + z2*unmarried_std_error\n",
    "unmarried_lower_limit,unmarried_upper_limit\n",
    "print(f\"We can say with 95% confidence that unmarried average purchase will be between {unmarried_lower_limit} and {unmarried_upper_limit}\")"
   ]
  },
  {
   "cell_type": "markdown",
   "id": "7841f85a",
   "metadata": {},
   "source": [
    "**we see a overlap in 95% confidence interval as well.**"
   ]
  },
  {
   "cell_type": "markdown",
   "id": "59d9997d",
   "metadata": {},
   "source": [
    "**So we can conclude that the our initial assumption i.e., married avg > unmarried is stastically insignificant**"
   ]
  },
  {
   "cell_type": "code",
   "execution_count": 40,
   "id": "72e71541",
   "metadata": {},
   "outputs": [
    {
     "data": {
      "text/html": [
       "<div>\n",
       "<style scoped>\n",
       "    .dataframe tbody tr th:only-of-type {\n",
       "        vertical-align: middle;\n",
       "    }\n",
       "\n",
       "    .dataframe tbody tr th {\n",
       "        vertical-align: top;\n",
       "    }\n",
       "\n",
       "    .dataframe thead th {\n",
       "        text-align: right;\n",
       "    }\n",
       "</style>\n",
       "<table border=\"1\" class=\"dataframe\">\n",
       "  <thead>\n",
       "    <tr style=\"text-align: right;\">\n",
       "      <th></th>\n",
       "      <th>User_ID</th>\n",
       "      <th>Product_ID</th>\n",
       "      <th>Gender</th>\n",
       "      <th>Age</th>\n",
       "      <th>Occupation</th>\n",
       "      <th>City_Category</th>\n",
       "      <th>Stay_In_Current_City_Years</th>\n",
       "      <th>Marital_Status</th>\n",
       "      <th>Product_Category</th>\n",
       "      <th>Purchase</th>\n",
       "    </tr>\n",
       "  </thead>\n",
       "  <tbody>\n",
       "    <tr>\n",
       "      <th>0</th>\n",
       "      <td>1000001</td>\n",
       "      <td>P00069042</td>\n",
       "      <td>F</td>\n",
       "      <td>0-17</td>\n",
       "      <td>10</td>\n",
       "      <td>A</td>\n",
       "      <td>2</td>\n",
       "      <td>0</td>\n",
       "      <td>3</td>\n",
       "      <td>8370</td>\n",
       "    </tr>\n",
       "    <tr>\n",
       "      <th>1</th>\n",
       "      <td>1000001</td>\n",
       "      <td>P00248942</td>\n",
       "      <td>F</td>\n",
       "      <td>0-17</td>\n",
       "      <td>10</td>\n",
       "      <td>A</td>\n",
       "      <td>2</td>\n",
       "      <td>0</td>\n",
       "      <td>1</td>\n",
       "      <td>15200</td>\n",
       "    </tr>\n",
       "    <tr>\n",
       "      <th>2</th>\n",
       "      <td>1000001</td>\n",
       "      <td>P00087842</td>\n",
       "      <td>F</td>\n",
       "      <td>0-17</td>\n",
       "      <td>10</td>\n",
       "      <td>A</td>\n",
       "      <td>2</td>\n",
       "      <td>0</td>\n",
       "      <td>12</td>\n",
       "      <td>1422</td>\n",
       "    </tr>\n",
       "    <tr>\n",
       "      <th>3</th>\n",
       "      <td>1000001</td>\n",
       "      <td>P00085442</td>\n",
       "      <td>F</td>\n",
       "      <td>0-17</td>\n",
       "      <td>10</td>\n",
       "      <td>A</td>\n",
       "      <td>2</td>\n",
       "      <td>0</td>\n",
       "      <td>12</td>\n",
       "      <td>1057</td>\n",
       "    </tr>\n",
       "    <tr>\n",
       "      <th>4</th>\n",
       "      <td>1000002</td>\n",
       "      <td>P00285442</td>\n",
       "      <td>M</td>\n",
       "      <td>55+</td>\n",
       "      <td>16</td>\n",
       "      <td>C</td>\n",
       "      <td>4+</td>\n",
       "      <td>0</td>\n",
       "      <td>8</td>\n",
       "      <td>7969</td>\n",
       "    </tr>\n",
       "    <tr>\n",
       "      <th>...</th>\n",
       "      <td>...</td>\n",
       "      <td>...</td>\n",
       "      <td>...</td>\n",
       "      <td>...</td>\n",
       "      <td>...</td>\n",
       "      <td>...</td>\n",
       "      <td>...</td>\n",
       "      <td>...</td>\n",
       "      <td>...</td>\n",
       "      <td>...</td>\n",
       "    </tr>\n",
       "    <tr>\n",
       "      <th>550063</th>\n",
       "      <td>1006033</td>\n",
       "      <td>P00372445</td>\n",
       "      <td>M</td>\n",
       "      <td>51-55</td>\n",
       "      <td>13</td>\n",
       "      <td>B</td>\n",
       "      <td>1</td>\n",
       "      <td>1</td>\n",
       "      <td>20</td>\n",
       "      <td>368</td>\n",
       "    </tr>\n",
       "    <tr>\n",
       "      <th>550064</th>\n",
       "      <td>1006035</td>\n",
       "      <td>P00375436</td>\n",
       "      <td>F</td>\n",
       "      <td>26-35</td>\n",
       "      <td>1</td>\n",
       "      <td>C</td>\n",
       "      <td>3</td>\n",
       "      <td>0</td>\n",
       "      <td>20</td>\n",
       "      <td>371</td>\n",
       "    </tr>\n",
       "    <tr>\n",
       "      <th>550065</th>\n",
       "      <td>1006036</td>\n",
       "      <td>P00375436</td>\n",
       "      <td>F</td>\n",
       "      <td>26-35</td>\n",
       "      <td>15</td>\n",
       "      <td>B</td>\n",
       "      <td>4+</td>\n",
       "      <td>1</td>\n",
       "      <td>20</td>\n",
       "      <td>137</td>\n",
       "    </tr>\n",
       "    <tr>\n",
       "      <th>550066</th>\n",
       "      <td>1006038</td>\n",
       "      <td>P00375436</td>\n",
       "      <td>F</td>\n",
       "      <td>55+</td>\n",
       "      <td>1</td>\n",
       "      <td>C</td>\n",
       "      <td>2</td>\n",
       "      <td>0</td>\n",
       "      <td>20</td>\n",
       "      <td>365</td>\n",
       "    </tr>\n",
       "    <tr>\n",
       "      <th>550067</th>\n",
       "      <td>1006039</td>\n",
       "      <td>P00371644</td>\n",
       "      <td>F</td>\n",
       "      <td>46-50</td>\n",
       "      <td>0</td>\n",
       "      <td>B</td>\n",
       "      <td>4+</td>\n",
       "      <td>1</td>\n",
       "      <td>20</td>\n",
       "      <td>490</td>\n",
       "    </tr>\n",
       "  </tbody>\n",
       "</table>\n",
       "<p>550068 rows × 10 columns</p>\n",
       "</div>"
      ],
      "text/plain": [
       "        User_ID Product_ID Gender    Age  Occupation City_Category  \\\n",
       "0       1000001  P00069042      F   0-17          10             A   \n",
       "1       1000001  P00248942      F   0-17          10             A   \n",
       "2       1000001  P00087842      F   0-17          10             A   \n",
       "3       1000001  P00085442      F   0-17          10             A   \n",
       "4       1000002  P00285442      M    55+          16             C   \n",
       "...         ...        ...    ...    ...         ...           ...   \n",
       "550063  1006033  P00372445      M  51-55          13             B   \n",
       "550064  1006035  P00375436      F  26-35           1             C   \n",
       "550065  1006036  P00375436      F  26-35          15             B   \n",
       "550066  1006038  P00375436      F    55+           1             C   \n",
       "550067  1006039  P00371644      F  46-50           0             B   \n",
       "\n",
       "       Stay_In_Current_City_Years  Marital_Status  Product_Category  Purchase  \n",
       "0                               2               0                 3      8370  \n",
       "1                               2               0                 1     15200  \n",
       "2                               2               0                12      1422  \n",
       "3                               2               0                12      1057  \n",
       "4                              4+               0                 8      7969  \n",
       "...                           ...             ...               ...       ...  \n",
       "550063                          1               1                20       368  \n",
       "550064                          3               0                20       371  \n",
       "550065                         4+               1                20       137  \n",
       "550066                          2               0                20       365  \n",
       "550067                         4+               1                20       490  \n",
       "\n",
       "[550068 rows x 10 columns]"
      ]
     },
     "execution_count": 40,
     "metadata": {},
     "output_type": "execute_result"
    }
   ],
   "source": [
    "df"
   ]
  },
  {
   "cell_type": "code",
   "execution_count": 41,
   "id": "631f4aa0",
   "metadata": {},
   "outputs": [],
   "source": [
    "sample_df = df.groupby([\"User_ID\",\"Age\"])[\"Purchase\"].sum()\n",
    "sample_df=sample_df.reset_index()"
   ]
  },
  {
   "cell_type": "code",
   "execution_count": 42,
   "id": "07abab48",
   "metadata": {},
   "outputs": [
    {
     "data": {
      "text/plain": [
       "str"
      ]
     },
     "execution_count": 42,
     "metadata": {},
     "output_type": "execute_result"
    }
   ],
   "source": [
    "type(sample_df.loc[0,\"Age\"])"
   ]
  },
  {
   "cell_type": "code",
   "execution_count": 43,
   "id": "213bf740",
   "metadata": {},
   "outputs": [
    {
     "data": {
      "text/plain": [
       "26-35    2053\n",
       "36-45    1167\n",
       "18-25    1069\n",
       "46-50     531\n",
       "51-55     481\n",
       "55+       372\n",
       "0-17      218\n",
       "Name: Age, dtype: int64"
      ]
     },
     "execution_count": 43,
     "metadata": {},
     "output_type": "execute_result"
    }
   ],
   "source": [
    "sample_df[\"Age\"].value_counts()"
   ]
  },
  {
   "cell_type": "code",
   "execution_count": 44,
   "id": "f28b5d78",
   "metadata": {},
   "outputs": [],
   "source": [
    "bins = sample_df[\"Age\"].value_counts().index"
   ]
  },
  {
   "cell_type": "code",
   "execution_count": 45,
   "id": "4cdf4b55",
   "metadata": {},
   "outputs": [],
   "source": [
    "mean_values = {}\n",
    "for i in bins:\n",
    "    mean_values[i] = []\n",
    "    \n",
    "sample_size = 210\n",
    "reps = 1000\n",
    "for i in bins:\n",
    "    for _ in range(reps):\n",
    "        mean = sample_df[sample_df[\"Age\"]==i].sample(sample_size)[\"Purchase\"].mean()\n",
    "        mean_values[i].append(mean)\n",
    "        \n"
   ]
  },
  {
   "cell_type": "markdown",
   "id": "fd7fb1f6",
   "metadata": {},
   "source": [
    "**90% confidence interval**"
   ]
  },
  {
   "cell_type": "code",
   "execution_count": 46,
   "id": "8c546d63",
   "metadata": {
    "collapsed": true,
    "jupyter": {
     "outputs_hidden": true
    }
   },
   "outputs": [
    {
     "name": "stdout",
     "output_type": "stream",
     "text": [
      "90% confidence interval for 26-35 is in between 985682.26 and 992405.72\n",
      "90% confidence interval for 36-45 is in between 878916.26 and 885446.21\n",
      "90% confidence interval for 18-25 is in between 853348.45 and 858885.47\n",
      "90% confidence interval for 46-50 is in between 788274.83 and 793322.34\n",
      "90% confidence interval for 51-55 is in between 760903.45 and 765162.67\n",
      "90% confidence interval for 55+ is in between 538213.84 and 541120.79\n",
      "90% confidence interval for 0-17 is in between 618861.27 and 619772.2\n"
     ]
    }
   ],
   "source": [
    "for key in mean_values.keys():\n",
    "    std_err=np.std(mean_values[key])/np.sqrt(len(mean_values[key]))\n",
    "    mean = np.mean(mean_values[key])\n",
    "  \n",
    "    # for 90% confidance interval \n",
    "    z1=norm.ppf(0.05)\n",
    "    z2 =norm.ppf(0.95)\n",
    "    lower_limit = mean + z1*std_err\n",
    "    upper_limit = mean + z2*std_err\n",
    "    print(f\"90% confidence interval for {key} is in between {round(lower_limit,2)} and {round(upper_limit,2)}\")"
   ]
  },
  {
   "cell_type": "markdown",
   "id": "7dc38942",
   "metadata": {},
   "source": [
    "**- 90% confidence interval for 26-35 is in between 986664.24 and 993723.04**<br>\n",
    "**- 90% confidence interval for 36-45 is in between 876905.21 and 883326.95**<br>\n",
    "**- 90% confidence interval for 18-25 is in between 851753.55 and 857307.14**<br>\n",
    "**- 90% confidence interval for 46-50 is in between 788735.45 and 793713.48**<br>\n",
    "**- 90% confidence interval for 51-55 is in between 760912.41 and 765087.47**<br>\n",
    "**- 90% confidence interval for 55+ is in between 538834.71 and 541737.37**<br>\n",
    "**- 90% confidence interval for 0-17 is in between 617777.66 and 618764.37**<br>"
   ]
  },
  {
   "cell_type": "markdown",
   "id": "20a614d1",
   "metadata": {},
   "source": [
    "**95% confidence interval**"
   ]
  },
  {
   "cell_type": "code",
   "execution_count": 47,
   "id": "80d4c523",
   "metadata": {
    "collapsed": true,
    "jupyter": {
     "outputs_hidden": true
    }
   },
   "outputs": [
    {
     "name": "stdout",
     "output_type": "stream",
     "text": [
      "95% confidence interval for 26-35 is in between 985038.24 and 993049.73\n",
      "95% confidence interval for 36-45 is in between 878290.78 and 886071.69\n",
      "95% confidence interval for 18-25 is in between 852818.07 and 859415.85\n",
      "95% confidence interval for 46-50 is in between 787791.34 and 793805.83\n",
      "95% confidence interval for 51-55 is in between 760495.47 and 765570.65\n",
      "95% confidence interval for 55+ is in between 537935.39 and 541399.24\n",
      "95% confidence interval for 0-17 is in between 618774.02 and 619859.46\n"
     ]
    }
   ],
   "source": [
    "\n",
    "for key in mean_values.keys():\n",
    "    std_err=np.std(mean_values[key])/np.sqrt(len(mean_values[key]))\n",
    "    mean = np.mean(mean_values[key])\n",
    "  \n",
    "    # for 95% confidance interval \n",
    "    z1=norm.ppf(0.025)\n",
    "    z2 =norm.ppf(0.975)\n",
    "    lower_limit = mean + z1*std_err\n",
    "    upper_limit = mean + z2*std_err\n",
    "    print(f\"95% confidence interval for {key} is in between {round(lower_limit,2)} and {round(upper_limit,2)}\")"
   ]
  },
  {
   "cell_type": "markdown",
   "id": "2ddfbbae",
   "metadata": {},
   "source": [
    "**- 95% confidence interval for 26-35 is in between 985988.1 and 994399.18**<br>\n",
    "**- 95% confidence interval for 36-45 is in between 876290.09 and 883942.07**<br>\n",
    "**- 95% confidence interval for 18-25 is in between 851221.59 and 857839.1**<br>\n",
    "**- 95% confidence interval for 46-50 is in between 788258.62 and 794190.31**<br>\n",
    "**- 95% confidence interval for 51-55 is in between 760512.49 and 765487.39**<br>\n",
    "**- 95% confidence interval for 55+ is in between 538556.67 and 542015.41**<br>\n",
    "**- 95% confidence interval for 0-17 is in between 617683.15 and 618858.89**<br>"
   ]
  },
  {
   "cell_type": "markdown",
   "id": "8be79302",
   "metadata": {},
   "source": [
    "<h1>Insights</h1>"
   ]
  },
  {
   "cell_type": "markdown",
   "id": "cc98b2bc",
   "metadata": {},
   "source": [
    "- We see the given sample has more data from male population and Unmarried people.\n",
    "- There are 20 different occupations.\n",
    "- Almost 60% are unmarried and 40% are married.\n",
    "- 75% are Men and 25% are Women\n",
    "- There are 20 different product category\n",
    "- Product Category 1,5 and 8 have the highest purchasing frequency\n",
    "- Almost 40% from the sample are between age 26-35 followed bu 35-45 with almost 20% and 18% are 18-25."
   ]
  },
  {
   "cell_type": "markdown",
   "id": "3af0e6a4",
   "metadata": {},
   "source": [
    "# Recommendations"
   ]
  },
  {
   "cell_type": "markdown",
   "id": "43bcad02",
   "metadata": {},
   "source": [
    "- Company should focus on acquiring and retaining male customers as their spending average is significantly high. \n",
    "- Unmarried customers spend more money than married customers, hence the company should focus on acquiring Unmarried customers.\n",
    "- Product_Category 1, 5, 8 have highest purchasing rate.The products in these categories are liked more by customers. Company can focus on selling more of these products.\n",
    "- Customers in the age 18-45 spend more money than the others, So company should focus on customers who are in the age 18-45.\n"
   ]
  }
 ],
 "metadata": {
  "kernelspec": {
   "display_name": "Python 3 (ipykernel)",
   "language": "python",
   "name": "python3"
  },
  "language_info": {
   "codemirror_mode": {
    "name": "ipython",
    "version": 3
   },
   "file_extension": ".py",
   "mimetype": "text/x-python",
   "name": "python",
   "nbconvert_exporter": "python",
   "pygments_lexer": "ipython3",
   "version": "3.12.0"
  }
 },
 "nbformat": 4,
 "nbformat_minor": 5
}
