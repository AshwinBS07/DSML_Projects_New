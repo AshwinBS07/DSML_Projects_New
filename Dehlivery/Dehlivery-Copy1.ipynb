{
 "cells": [
  {
   "cell_type": "code",
   "execution_count": 1,
   "id": "dfa8eb8c",
   "metadata": {},
   "outputs": [],
   "source": [
    "# !gdown 1FSFlGxuhd5IYsgZfL6YErgAr3_ZJv0ry"
   ]
  },
  {
   "cell_type": "code",
   "execution_count": 2,
   "id": "7c61ec89",
   "metadata": {},
   "outputs": [],
   "source": [
    "import pandas as pd\n",
    "import numpy as np \n",
    "import matplotlib.pyplot as plt\n",
    "import seaborn as sns\n",
    "import re\n",
    "from scipy.stats import ttest_1samp,ttest_ind,chi2_contingency,levene,spearmanr,pearsonr,ttest_rel"
   ]
  },
  {
   "cell_type": "code",
   "execution_count": 3,
   "id": "d94adaba",
   "metadata": {},
   "outputs": [],
   "source": [
    "df = pd.read_csv(\"Delhivery.csv\")"
   ]
  },
  {
   "cell_type": "code",
   "execution_count": 4,
   "id": "af1f2f2d",
   "metadata": {},
   "outputs": [
    {
     "data": {
      "text/html": [
       "<div>\n",
       "<style scoped>\n",
       "    .dataframe tbody tr th:only-of-type {\n",
       "        vertical-align: middle;\n",
       "    }\n",
       "\n",
       "    .dataframe tbody tr th {\n",
       "        vertical-align: top;\n",
       "    }\n",
       "\n",
       "    .dataframe thead th {\n",
       "        text-align: right;\n",
       "    }\n",
       "</style>\n",
       "<table border=\"1\" class=\"dataframe\">\n",
       "  <thead>\n",
       "    <tr style=\"text-align: right;\">\n",
       "      <th></th>\n",
       "      <th>data</th>\n",
       "      <th>trip_creation_time</th>\n",
       "      <th>route_schedule_uuid</th>\n",
       "      <th>route_type</th>\n",
       "      <th>trip_uuid</th>\n",
       "      <th>source_center</th>\n",
       "      <th>source_name</th>\n",
       "      <th>destination_center</th>\n",
       "      <th>destination_name</th>\n",
       "      <th>od_start_time</th>\n",
       "      <th>...</th>\n",
       "      <th>cutoff_timestamp</th>\n",
       "      <th>actual_distance_to_destination</th>\n",
       "      <th>actual_time</th>\n",
       "      <th>osrm_time</th>\n",
       "      <th>osrm_distance</th>\n",
       "      <th>factor</th>\n",
       "      <th>segment_actual_time</th>\n",
       "      <th>segment_osrm_time</th>\n",
       "      <th>segment_osrm_distance</th>\n",
       "      <th>segment_factor</th>\n",
       "    </tr>\n",
       "  </thead>\n",
       "  <tbody>\n",
       "    <tr>\n",
       "      <th>0</th>\n",
       "      <td>training</td>\n",
       "      <td>2018-09-20 02:35:36.476840</td>\n",
       "      <td>thanos::sroute:eb7bfc78-b351-4c0e-a951-fa3d5c3...</td>\n",
       "      <td>Carting</td>\n",
       "      <td>trip-153741093647649320</td>\n",
       "      <td>IND388121AAA</td>\n",
       "      <td>Anand_VUNagar_DC (Gujarat)</td>\n",
       "      <td>IND388620AAB</td>\n",
       "      <td>Khambhat_MotvdDPP_D (Gujarat)</td>\n",
       "      <td>2018-09-20 03:21:32.418600</td>\n",
       "      <td>...</td>\n",
       "      <td>2018-09-20 04:27:55</td>\n",
       "      <td>10.435660</td>\n",
       "      <td>14.0</td>\n",
       "      <td>11.0</td>\n",
       "      <td>11.9653</td>\n",
       "      <td>1.272727</td>\n",
       "      <td>14.0</td>\n",
       "      <td>11.0</td>\n",
       "      <td>11.9653</td>\n",
       "      <td>1.272727</td>\n",
       "    </tr>\n",
       "    <tr>\n",
       "      <th>1</th>\n",
       "      <td>training</td>\n",
       "      <td>2018-09-20 02:35:36.476840</td>\n",
       "      <td>thanos::sroute:eb7bfc78-b351-4c0e-a951-fa3d5c3...</td>\n",
       "      <td>Carting</td>\n",
       "      <td>trip-153741093647649320</td>\n",
       "      <td>IND388121AAA</td>\n",
       "      <td>Anand_VUNagar_DC (Gujarat)</td>\n",
       "      <td>IND388620AAB</td>\n",
       "      <td>Khambhat_MotvdDPP_D (Gujarat)</td>\n",
       "      <td>2018-09-20 03:21:32.418600</td>\n",
       "      <td>...</td>\n",
       "      <td>2018-09-20 04:17:55</td>\n",
       "      <td>18.936842</td>\n",
       "      <td>24.0</td>\n",
       "      <td>20.0</td>\n",
       "      <td>21.7243</td>\n",
       "      <td>1.200000</td>\n",
       "      <td>10.0</td>\n",
       "      <td>9.0</td>\n",
       "      <td>9.7590</td>\n",
       "      <td>1.111111</td>\n",
       "    </tr>\n",
       "    <tr>\n",
       "      <th>2</th>\n",
       "      <td>training</td>\n",
       "      <td>2018-09-20 02:35:36.476840</td>\n",
       "      <td>thanos::sroute:eb7bfc78-b351-4c0e-a951-fa3d5c3...</td>\n",
       "      <td>Carting</td>\n",
       "      <td>trip-153741093647649320</td>\n",
       "      <td>IND388121AAA</td>\n",
       "      <td>Anand_VUNagar_DC (Gujarat)</td>\n",
       "      <td>IND388620AAB</td>\n",
       "      <td>Khambhat_MotvdDPP_D (Gujarat)</td>\n",
       "      <td>2018-09-20 03:21:32.418600</td>\n",
       "      <td>...</td>\n",
       "      <td>2018-09-20 04:01:19.505586</td>\n",
       "      <td>27.637279</td>\n",
       "      <td>40.0</td>\n",
       "      <td>28.0</td>\n",
       "      <td>32.5395</td>\n",
       "      <td>1.428571</td>\n",
       "      <td>16.0</td>\n",
       "      <td>7.0</td>\n",
       "      <td>10.8152</td>\n",
       "      <td>2.285714</td>\n",
       "    </tr>\n",
       "    <tr>\n",
       "      <th>3</th>\n",
       "      <td>training</td>\n",
       "      <td>2018-09-20 02:35:36.476840</td>\n",
       "      <td>thanos::sroute:eb7bfc78-b351-4c0e-a951-fa3d5c3...</td>\n",
       "      <td>Carting</td>\n",
       "      <td>trip-153741093647649320</td>\n",
       "      <td>IND388121AAA</td>\n",
       "      <td>Anand_VUNagar_DC (Gujarat)</td>\n",
       "      <td>IND388620AAB</td>\n",
       "      <td>Khambhat_MotvdDPP_D (Gujarat)</td>\n",
       "      <td>2018-09-20 03:21:32.418600</td>\n",
       "      <td>...</td>\n",
       "      <td>2018-09-20 03:39:57</td>\n",
       "      <td>36.118028</td>\n",
       "      <td>62.0</td>\n",
       "      <td>40.0</td>\n",
       "      <td>45.5620</td>\n",
       "      <td>1.550000</td>\n",
       "      <td>21.0</td>\n",
       "      <td>12.0</td>\n",
       "      <td>13.0224</td>\n",
       "      <td>1.750000</td>\n",
       "    </tr>\n",
       "    <tr>\n",
       "      <th>4</th>\n",
       "      <td>training</td>\n",
       "      <td>2018-09-20 02:35:36.476840</td>\n",
       "      <td>thanos::sroute:eb7bfc78-b351-4c0e-a951-fa3d5c3...</td>\n",
       "      <td>Carting</td>\n",
       "      <td>trip-153741093647649320</td>\n",
       "      <td>IND388121AAA</td>\n",
       "      <td>Anand_VUNagar_DC (Gujarat)</td>\n",
       "      <td>IND388620AAB</td>\n",
       "      <td>Khambhat_MotvdDPP_D (Gujarat)</td>\n",
       "      <td>2018-09-20 03:21:32.418600</td>\n",
       "      <td>...</td>\n",
       "      <td>2018-09-20 03:33:55</td>\n",
       "      <td>39.386040</td>\n",
       "      <td>68.0</td>\n",
       "      <td>44.0</td>\n",
       "      <td>54.2181</td>\n",
       "      <td>1.545455</td>\n",
       "      <td>6.0</td>\n",
       "      <td>5.0</td>\n",
       "      <td>3.9153</td>\n",
       "      <td>1.200000</td>\n",
       "    </tr>\n",
       "  </tbody>\n",
       "</table>\n",
       "<p>5 rows × 24 columns</p>\n",
       "</div>"
      ],
      "text/plain": [
       "       data          trip_creation_time  \\\n",
       "0  training  2018-09-20 02:35:36.476840   \n",
       "1  training  2018-09-20 02:35:36.476840   \n",
       "2  training  2018-09-20 02:35:36.476840   \n",
       "3  training  2018-09-20 02:35:36.476840   \n",
       "4  training  2018-09-20 02:35:36.476840   \n",
       "\n",
       "                                 route_schedule_uuid route_type  \\\n",
       "0  thanos::sroute:eb7bfc78-b351-4c0e-a951-fa3d5c3...    Carting   \n",
       "1  thanos::sroute:eb7bfc78-b351-4c0e-a951-fa3d5c3...    Carting   \n",
       "2  thanos::sroute:eb7bfc78-b351-4c0e-a951-fa3d5c3...    Carting   \n",
       "3  thanos::sroute:eb7bfc78-b351-4c0e-a951-fa3d5c3...    Carting   \n",
       "4  thanos::sroute:eb7bfc78-b351-4c0e-a951-fa3d5c3...    Carting   \n",
       "\n",
       "                 trip_uuid source_center                 source_name  \\\n",
       "0  trip-153741093647649320  IND388121AAA  Anand_VUNagar_DC (Gujarat)   \n",
       "1  trip-153741093647649320  IND388121AAA  Anand_VUNagar_DC (Gujarat)   \n",
       "2  trip-153741093647649320  IND388121AAA  Anand_VUNagar_DC (Gujarat)   \n",
       "3  trip-153741093647649320  IND388121AAA  Anand_VUNagar_DC (Gujarat)   \n",
       "4  trip-153741093647649320  IND388121AAA  Anand_VUNagar_DC (Gujarat)   \n",
       "\n",
       "  destination_center               destination_name  \\\n",
       "0       IND388620AAB  Khambhat_MotvdDPP_D (Gujarat)   \n",
       "1       IND388620AAB  Khambhat_MotvdDPP_D (Gujarat)   \n",
       "2       IND388620AAB  Khambhat_MotvdDPP_D (Gujarat)   \n",
       "3       IND388620AAB  Khambhat_MotvdDPP_D (Gujarat)   \n",
       "4       IND388620AAB  Khambhat_MotvdDPP_D (Gujarat)   \n",
       "\n",
       "                od_start_time  ...            cutoff_timestamp  \\\n",
       "0  2018-09-20 03:21:32.418600  ...         2018-09-20 04:27:55   \n",
       "1  2018-09-20 03:21:32.418600  ...         2018-09-20 04:17:55   \n",
       "2  2018-09-20 03:21:32.418600  ...  2018-09-20 04:01:19.505586   \n",
       "3  2018-09-20 03:21:32.418600  ...         2018-09-20 03:39:57   \n",
       "4  2018-09-20 03:21:32.418600  ...         2018-09-20 03:33:55   \n",
       "\n",
       "   actual_distance_to_destination  actual_time  osrm_time osrm_distance  \\\n",
       "0                       10.435660         14.0       11.0       11.9653   \n",
       "1                       18.936842         24.0       20.0       21.7243   \n",
       "2                       27.637279         40.0       28.0       32.5395   \n",
       "3                       36.118028         62.0       40.0       45.5620   \n",
       "4                       39.386040         68.0       44.0       54.2181   \n",
       "\n",
       "     factor  segment_actual_time  segment_osrm_time  segment_osrm_distance  \\\n",
       "0  1.272727                 14.0               11.0                11.9653   \n",
       "1  1.200000                 10.0                9.0                 9.7590   \n",
       "2  1.428571                 16.0                7.0                10.8152   \n",
       "3  1.550000                 21.0               12.0                13.0224   \n",
       "4  1.545455                  6.0                5.0                 3.9153   \n",
       "\n",
       "   segment_factor  \n",
       "0        1.272727  \n",
       "1        1.111111  \n",
       "2        2.285714  \n",
       "3        1.750000  \n",
       "4        1.200000  \n",
       "\n",
       "[5 rows x 24 columns]"
      ]
     },
     "execution_count": 4,
     "metadata": {},
     "output_type": "execute_result"
    }
   ],
   "source": [
    "df.head()"
   ]
  },
  {
   "cell_type": "code",
   "execution_count": 5,
   "id": "ae7cb9e4",
   "metadata": {},
   "outputs": [
    {
     "data": {
      "text/plain": [
       "(144867, 24)"
      ]
     },
     "execution_count": 5,
     "metadata": {},
     "output_type": "execute_result"
    }
   ],
   "source": [
    "df.shape"
   ]
  },
  {
   "cell_type": "code",
   "execution_count": 6,
   "id": "4cd5fc82",
   "metadata": {},
   "outputs": [
    {
     "data": {
      "text/html": [
       "<div>\n",
       "<style scoped>\n",
       "    .dataframe tbody tr th:only-of-type {\n",
       "        vertical-align: middle;\n",
       "    }\n",
       "\n",
       "    .dataframe tbody tr th {\n",
       "        vertical-align: top;\n",
       "    }\n",
       "\n",
       "    .dataframe thead th {\n",
       "        text-align: right;\n",
       "    }\n",
       "</style>\n",
       "<table border=\"1\" class=\"dataframe\">\n",
       "  <thead>\n",
       "    <tr style=\"text-align: right;\">\n",
       "      <th></th>\n",
       "      <th>trip_uuid</th>\n",
       "      <th>source_center</th>\n",
       "      <th>destination_center</th>\n",
       "      <th>actual_time</th>\n",
       "      <th>segment_actual_time</th>\n",
       "    </tr>\n",
       "  </thead>\n",
       "  <tbody>\n",
       "    <tr>\n",
       "      <th>0</th>\n",
       "      <td>trip-153741093647649320</td>\n",
       "      <td>IND388121AAA</td>\n",
       "      <td>IND388620AAB</td>\n",
       "      <td>14.0</td>\n",
       "      <td>14.0</td>\n",
       "    </tr>\n",
       "    <tr>\n",
       "      <th>1</th>\n",
       "      <td>trip-153741093647649320</td>\n",
       "      <td>IND388121AAA</td>\n",
       "      <td>IND388620AAB</td>\n",
       "      <td>24.0</td>\n",
       "      <td>10.0</td>\n",
       "    </tr>\n",
       "    <tr>\n",
       "      <th>2</th>\n",
       "      <td>trip-153741093647649320</td>\n",
       "      <td>IND388121AAA</td>\n",
       "      <td>IND388620AAB</td>\n",
       "      <td>40.0</td>\n",
       "      <td>16.0</td>\n",
       "    </tr>\n",
       "    <tr>\n",
       "      <th>3</th>\n",
       "      <td>trip-153741093647649320</td>\n",
       "      <td>IND388121AAA</td>\n",
       "      <td>IND388620AAB</td>\n",
       "      <td>62.0</td>\n",
       "      <td>21.0</td>\n",
       "    </tr>\n",
       "    <tr>\n",
       "      <th>4</th>\n",
       "      <td>trip-153741093647649320</td>\n",
       "      <td>IND388121AAA</td>\n",
       "      <td>IND388620AAB</td>\n",
       "      <td>68.0</td>\n",
       "      <td>6.0</td>\n",
       "    </tr>\n",
       "    <tr>\n",
       "      <th>5</th>\n",
       "      <td>trip-153741093647649320</td>\n",
       "      <td>IND388620AAB</td>\n",
       "      <td>IND388320AAA</td>\n",
       "      <td>15.0</td>\n",
       "      <td>15.0</td>\n",
       "    </tr>\n",
       "    <tr>\n",
       "      <th>6</th>\n",
       "      <td>trip-153741093647649320</td>\n",
       "      <td>IND388620AAB</td>\n",
       "      <td>IND388320AAA</td>\n",
       "      <td>44.0</td>\n",
       "      <td>28.0</td>\n",
       "    </tr>\n",
       "    <tr>\n",
       "      <th>7</th>\n",
       "      <td>trip-153741093647649320</td>\n",
       "      <td>IND388620AAB</td>\n",
       "      <td>IND388320AAA</td>\n",
       "      <td>65.0</td>\n",
       "      <td>21.0</td>\n",
       "    </tr>\n",
       "    <tr>\n",
       "      <th>8</th>\n",
       "      <td>trip-153741093647649320</td>\n",
       "      <td>IND388620AAB</td>\n",
       "      <td>IND388320AAA</td>\n",
       "      <td>76.0</td>\n",
       "      <td>10.0</td>\n",
       "    </tr>\n",
       "    <tr>\n",
       "      <th>9</th>\n",
       "      <td>trip-153741093647649320</td>\n",
       "      <td>IND388620AAB</td>\n",
       "      <td>IND388320AAA</td>\n",
       "      <td>102.0</td>\n",
       "      <td>26.0</td>\n",
       "    </tr>\n",
       "  </tbody>\n",
       "</table>\n",
       "</div>"
      ],
      "text/plain": [
       "                 trip_uuid source_center destination_center  actual_time  \\\n",
       "0  trip-153741093647649320  IND388121AAA       IND388620AAB         14.0   \n",
       "1  trip-153741093647649320  IND388121AAA       IND388620AAB         24.0   \n",
       "2  trip-153741093647649320  IND388121AAA       IND388620AAB         40.0   \n",
       "3  trip-153741093647649320  IND388121AAA       IND388620AAB         62.0   \n",
       "4  trip-153741093647649320  IND388121AAA       IND388620AAB         68.0   \n",
       "5  trip-153741093647649320  IND388620AAB       IND388320AAA         15.0   \n",
       "6  trip-153741093647649320  IND388620AAB       IND388320AAA         44.0   \n",
       "7  trip-153741093647649320  IND388620AAB       IND388320AAA         65.0   \n",
       "8  trip-153741093647649320  IND388620AAB       IND388320AAA         76.0   \n",
       "9  trip-153741093647649320  IND388620AAB       IND388320AAA        102.0   \n",
       "\n",
       "   segment_actual_time  \n",
       "0                 14.0  \n",
       "1                 10.0  \n",
       "2                 16.0  \n",
       "3                 21.0  \n",
       "4                  6.0  \n",
       "5                 15.0  \n",
       "6                 28.0  \n",
       "7                 21.0  \n",
       "8                 10.0  \n",
       "9                 26.0  "
      ]
     },
     "execution_count": 6,
     "metadata": {},
     "output_type": "execute_result"
    }
   ],
   "source": [
    "df[df[\"trip_uuid\"]==\"trip-153741093647649320\"][[\"trip_uuid\",\"source_center\",\"destination_center\",\"actual_time\",\"segment_actual_time\"]]"
   ]
  },
  {
   "cell_type": "code",
   "execution_count": 7,
   "id": "6ebf662d",
   "metadata": {},
   "outputs": [],
   "source": [
    "new_df=df.copy()"
   ]
  },
  {
   "cell_type": "code",
   "execution_count": 8,
   "id": "ab2fbe27",
   "metadata": {},
   "outputs": [],
   "source": [
    "names = list(new_df[\"source_name\"].str.lower())"
   ]
  },
  {
   "cell_type": "code",
   "execution_count": 9,
   "id": "85fae27a",
   "metadata": {},
   "outputs": [
    {
     "data": {
      "text/plain": [
       "['bhiwandi_mankoli_hb (maharashtra)',\n",
       " 'bhiwandi_mankoli_hb (maharashtra)',\n",
       " 'bhiwandi_mankoli_hb (maharashtra)',\n",
       " 'bhiwandi_mankoli_hb (maharashtra)',\n",
       " 'bhiwandi_mankoli_hb (maharashtra)',\n",
       " 'lowerparel_cp (maharashtra)',\n",
       " 'lowerparel_cp (maharashtra)',\n",
       " 'bangalore_nelmngla_h (karnataka)',\n",
       " 'bangalore_nelmngla_h (karnataka)',\n",
       " 'bengaluru_bomsndra_hb (karnataka)']"
      ]
     },
     "execution_count": 9,
     "metadata": {},
     "output_type": "execute_result"
    }
   ],
   "source": [
    "names[10:20]"
   ]
  },
  {
   "cell_type": "code",
   "execution_count": 10,
   "id": "c84bd27b",
   "metadata": {},
   "outputs": [
    {
     "name": "stdout",
     "output_type": "stream",
     "text": [
      "Match found: bhiwandi_mankoli_hb (maharashtra)\n"
     ]
    }
   ],
   "source": [
    "import re\n",
    "\n",
    "text = \"anand_vunagar_dc (gujarat)\"\n",
    "\n",
    "text = \"bhiwandi_mankoli_hb (maharashtra)\"\n",
    "pattern = r'^[a-z_]+ \\([a-z]+\\)$'\n",
    "\n",
    "# Use re.match to check if the text matches the pattern\n",
    "match = re.match(pattern, text)\n",
    "\n",
    "if match:\n",
    "    print(\"Match found:\", match.group())\n",
    "else:\n",
    "    print(\"No match found\")\n"
   ]
  },
  {
   "cell_type": "code",
   "execution_count": 11,
   "id": "27717bda",
   "metadata": {},
   "outputs": [],
   "source": [
    "# pattern = r'^[a-z_]+ \\([a-z]+\\)$'\n",
    "# for i in names:\n",
    "#     match = re.match(pattern, i)\n",
    "\n",
    "#     if match==True:\n",
    "#         pass\n",
    "#     else:\n",
    "#         print(i)"
   ]
  },
  {
   "cell_type": "code",
   "execution_count": null,
   "id": "25b87eac",
   "metadata": {},
   "outputs": [],
   "source": []
  },
  {
   "cell_type": "code",
   "execution_count": null,
   "id": "e9946b29",
   "metadata": {},
   "outputs": [],
   "source": []
  },
  {
   "cell_type": "code",
   "execution_count": null,
   "id": "f5182610",
   "metadata": {},
   "outputs": [],
   "source": []
  },
  {
   "cell_type": "code",
   "execution_count": 12,
   "id": "81c50bdd",
   "metadata": {},
   "outputs": [],
   "source": [
    "new_df.dropna(how = 'any',inplace = True)"
   ]
  },
  {
   "cell_type": "code",
   "execution_count": 13,
   "id": "72eb6461",
   "metadata": {},
   "outputs": [
    {
     "data": {
      "text/plain": [
       "data                              0\n",
       "trip_creation_time                0\n",
       "route_schedule_uuid               0\n",
       "route_type                        0\n",
       "trip_uuid                         0\n",
       "source_center                     0\n",
       "source_name                       0\n",
       "destination_center                0\n",
       "destination_name                  0\n",
       "od_start_time                     0\n",
       "od_end_time                       0\n",
       "start_scan_to_end_scan            0\n",
       "is_cutoff                         0\n",
       "cutoff_factor                     0\n",
       "cutoff_timestamp                  0\n",
       "actual_distance_to_destination    0\n",
       "actual_time                       0\n",
       "osrm_time                         0\n",
       "osrm_distance                     0\n",
       "factor                            0\n",
       "segment_actual_time               0\n",
       "segment_osrm_time                 0\n",
       "segment_osrm_distance             0\n",
       "segment_factor                    0\n",
       "dtype: int64"
      ]
     },
     "execution_count": 13,
     "metadata": {},
     "output_type": "execute_result"
    }
   ],
   "source": [
    "new_df.isna().sum()"
   ]
  },
  {
   "cell_type": "code",
   "execution_count": 14,
   "id": "929dc2c1",
   "metadata": {},
   "outputs": [
    {
     "data": {
      "text/plain": [
       "0         trip-153741093647649320IND388121AAAIND388620AAB\n",
       "1         trip-153741093647649320IND388121AAAIND388620AAB\n",
       "2         trip-153741093647649320IND388121AAAIND388620AAB\n",
       "3         trip-153741093647649320IND388121AAAIND388620AAB\n",
       "4         trip-153741093647649320IND388121AAAIND388620AAB\n",
       "                               ...                       \n",
       "144862    trip-153746066843555182IND131028AABIND000000ACB\n",
       "144863    trip-153746066843555182IND131028AABIND000000ACB\n",
       "144864    trip-153746066843555182IND131028AABIND000000ACB\n",
       "144865    trip-153746066843555182IND131028AABIND000000ACB\n",
       "144866    trip-153746066843555182IND131028AABIND000000ACB\n",
       "Name: code, Length: 144316, dtype: object"
      ]
     },
     "execution_count": 14,
     "metadata": {},
     "output_type": "execute_result"
    }
   ],
   "source": [
    "new_df[\"code\"] = new_df[\"trip_uuid\"]+new_df[\"source_center\"]+new_df[\"destination_center\"]\n",
    "new_df[\"code\"]"
   ]
  },
  {
   "cell_type": "code",
   "execution_count": 15,
   "id": "7340fce9",
   "metadata": {},
   "outputs": [],
   "source": [
    "cols = [\"actual_time\",\"osrm_time\",\"segment_actual_time\",\"osrm_distance\",\"segment_osrm_distance\",\"segment_osrm_time\"]\n",
    "\n",
    "for i in cols:\n",
    "    new_df[i+\"_agg_value\"] = new_df.groupby(\"code\")[i].cumsum()"
   ]
  },
  {
   "cell_type": "code",
   "execution_count": 16,
   "id": "e57ff256",
   "metadata": {},
   "outputs": [
    {
     "data": {
      "text/html": [
       "<div>\n",
       "<style scoped>\n",
       "    .dataframe tbody tr th:only-of-type {\n",
       "        vertical-align: middle;\n",
       "    }\n",
       "\n",
       "    .dataframe tbody tr th {\n",
       "        vertical-align: top;\n",
       "    }\n",
       "\n",
       "    .dataframe thead th {\n",
       "        text-align: right;\n",
       "    }\n",
       "</style>\n",
       "<table border=\"1\" class=\"dataframe\">\n",
       "  <thead>\n",
       "    <tr style=\"text-align: right;\">\n",
       "      <th></th>\n",
       "      <th>actual_time_agg_value</th>\n",
       "      <th>osrm_time_agg_value</th>\n",
       "      <th>segment_actual_time_agg_value</th>\n",
       "      <th>osrm_distance_agg_value</th>\n",
       "      <th>segment_osrm_distance_agg_value</th>\n",
       "      <th>segment_osrm_time_agg_value</th>\n",
       "    </tr>\n",
       "  </thead>\n",
       "  <tbody>\n",
       "    <tr>\n",
       "      <th>0</th>\n",
       "      <td>14.0</td>\n",
       "      <td>11.0</td>\n",
       "      <td>14.0</td>\n",
       "      <td>11.9653</td>\n",
       "      <td>11.9653</td>\n",
       "      <td>11.0</td>\n",
       "    </tr>\n",
       "    <tr>\n",
       "      <th>1</th>\n",
       "      <td>38.0</td>\n",
       "      <td>31.0</td>\n",
       "      <td>24.0</td>\n",
       "      <td>33.6896</td>\n",
       "      <td>21.7243</td>\n",
       "      <td>20.0</td>\n",
       "    </tr>\n",
       "    <tr>\n",
       "      <th>2</th>\n",
       "      <td>78.0</td>\n",
       "      <td>59.0</td>\n",
       "      <td>40.0</td>\n",
       "      <td>66.2291</td>\n",
       "      <td>32.5395</td>\n",
       "      <td>27.0</td>\n",
       "    </tr>\n",
       "    <tr>\n",
       "      <th>3</th>\n",
       "      <td>140.0</td>\n",
       "      <td>99.0</td>\n",
       "      <td>61.0</td>\n",
       "      <td>111.7911</td>\n",
       "      <td>45.5619</td>\n",
       "      <td>39.0</td>\n",
       "    </tr>\n",
       "    <tr>\n",
       "      <th>4</th>\n",
       "      <td>208.0</td>\n",
       "      <td>143.0</td>\n",
       "      <td>67.0</td>\n",
       "      <td>166.0092</td>\n",
       "      <td>49.4772</td>\n",
       "      <td>44.0</td>\n",
       "    </tr>\n",
       "    <tr>\n",
       "      <th>...</th>\n",
       "      <td>...</td>\n",
       "      <td>...</td>\n",
       "      <td>...</td>\n",
       "      <td>...</td>\n",
       "      <td>...</td>\n",
       "      <td>...</td>\n",
       "    </tr>\n",
       "    <tr>\n",
       "      <th>144862</th>\n",
       "      <td>345.0</td>\n",
       "      <td>230.0</td>\n",
       "      <td>92.0</td>\n",
       "      <td>228.5453</td>\n",
       "      <td>65.3487</td>\n",
       "      <td>94.0</td>\n",
       "    </tr>\n",
       "    <tr>\n",
       "      <th>144863</th>\n",
       "      <td>465.0</td>\n",
       "      <td>306.0</td>\n",
       "      <td>118.0</td>\n",
       "      <td>314.2282</td>\n",
       "      <td>82.7212</td>\n",
       "      <td>115.0</td>\n",
       "    </tr>\n",
       "    <tr>\n",
       "      <th>144864</th>\n",
       "      <td>605.0</td>\n",
       "      <td>394.0</td>\n",
       "      <td>138.0</td>\n",
       "      <td>411.3215</td>\n",
       "      <td>103.4265</td>\n",
       "      <td>149.0</td>\n",
       "    </tr>\n",
       "    <tr>\n",
       "      <th>144865</th>\n",
       "      <td>763.0</td>\n",
       "      <td>492.0</td>\n",
       "      <td>155.0</td>\n",
       "      <td>522.5924</td>\n",
       "      <td>122.3150</td>\n",
       "      <td>176.0</td>\n",
       "    </tr>\n",
       "    <tr>\n",
       "      <th>144866</th>\n",
       "      <td>1189.0</td>\n",
       "      <td>587.0</td>\n",
       "      <td>423.0</td>\n",
       "      <td>611.3243</td>\n",
       "      <td>131.1238</td>\n",
       "      <td>185.0</td>\n",
       "    </tr>\n",
       "  </tbody>\n",
       "</table>\n",
       "<p>144316 rows × 6 columns</p>\n",
       "</div>"
      ],
      "text/plain": [
       "        actual_time_agg_value  osrm_time_agg_value  \\\n",
       "0                        14.0                 11.0   \n",
       "1                        38.0                 31.0   \n",
       "2                        78.0                 59.0   \n",
       "3                       140.0                 99.0   \n",
       "4                       208.0                143.0   \n",
       "...                       ...                  ...   \n",
       "144862                  345.0                230.0   \n",
       "144863                  465.0                306.0   \n",
       "144864                  605.0                394.0   \n",
       "144865                  763.0                492.0   \n",
       "144866                 1189.0                587.0   \n",
       "\n",
       "        segment_actual_time_agg_value  osrm_distance_agg_value  \\\n",
       "0                                14.0                  11.9653   \n",
       "1                                24.0                  33.6896   \n",
       "2                                40.0                  66.2291   \n",
       "3                                61.0                 111.7911   \n",
       "4                                67.0                 166.0092   \n",
       "...                               ...                      ...   \n",
       "144862                           92.0                 228.5453   \n",
       "144863                          118.0                 314.2282   \n",
       "144864                          138.0                 411.3215   \n",
       "144865                          155.0                 522.5924   \n",
       "144866                          423.0                 611.3243   \n",
       "\n",
       "        segment_osrm_distance_agg_value  segment_osrm_time_agg_value  \n",
       "0                               11.9653                         11.0  \n",
       "1                               21.7243                         20.0  \n",
       "2                               32.5395                         27.0  \n",
       "3                               45.5619                         39.0  \n",
       "4                               49.4772                         44.0  \n",
       "...                                 ...                          ...  \n",
       "144862                          65.3487                         94.0  \n",
       "144863                          82.7212                        115.0  \n",
       "144864                         103.4265                        149.0  \n",
       "144865                         122.3150                        176.0  \n",
       "144866                         131.1238                        185.0  \n",
       "\n",
       "[144316 rows x 6 columns]"
      ]
     },
     "execution_count": 16,
     "metadata": {},
     "output_type": "execute_result"
    }
   ],
   "source": [
    "new_df[[i+\"_agg_value\" for i in cols]]"
   ]
  },
  {
   "cell_type": "code",
   "execution_count": 17,
   "id": "17033cf3",
   "metadata": {},
   "outputs": [
    {
     "data": {
      "text/html": [
       "<div>\n",
       "<style scoped>\n",
       "    .dataframe tbody tr th:only-of-type {\n",
       "        vertical-align: middle;\n",
       "    }\n",
       "\n",
       "    .dataframe tbody tr th {\n",
       "        vertical-align: top;\n",
       "    }\n",
       "\n",
       "    .dataframe thead th {\n",
       "        text-align: right;\n",
       "    }\n",
       "</style>\n",
       "<table border=\"1\" class=\"dataframe\">\n",
       "  <thead>\n",
       "    <tr style=\"text-align: right;\">\n",
       "      <th></th>\n",
       "      <th>trip_uuid</th>\n",
       "      <th>source_center</th>\n",
       "      <th>destination_center</th>\n",
       "      <th>actual_time</th>\n",
       "      <th>actual_time_agg_value</th>\n",
       "    </tr>\n",
       "  </thead>\n",
       "  <tbody>\n",
       "    <tr>\n",
       "      <th>0</th>\n",
       "      <td>trip-153741093647649320</td>\n",
       "      <td>IND388121AAA</td>\n",
       "      <td>IND388620AAB</td>\n",
       "      <td>14.0</td>\n",
       "      <td>14.0</td>\n",
       "    </tr>\n",
       "    <tr>\n",
       "      <th>1</th>\n",
       "      <td>trip-153741093647649320</td>\n",
       "      <td>IND388121AAA</td>\n",
       "      <td>IND388620AAB</td>\n",
       "      <td>24.0</td>\n",
       "      <td>38.0</td>\n",
       "    </tr>\n",
       "    <tr>\n",
       "      <th>2</th>\n",
       "      <td>trip-153741093647649320</td>\n",
       "      <td>IND388121AAA</td>\n",
       "      <td>IND388620AAB</td>\n",
       "      <td>40.0</td>\n",
       "      <td>78.0</td>\n",
       "    </tr>\n",
       "    <tr>\n",
       "      <th>3</th>\n",
       "      <td>trip-153741093647649320</td>\n",
       "      <td>IND388121AAA</td>\n",
       "      <td>IND388620AAB</td>\n",
       "      <td>62.0</td>\n",
       "      <td>140.0</td>\n",
       "    </tr>\n",
       "    <tr>\n",
       "      <th>4</th>\n",
       "      <td>trip-153741093647649320</td>\n",
       "      <td>IND388121AAA</td>\n",
       "      <td>IND388620AAB</td>\n",
       "      <td>68.0</td>\n",
       "      <td>208.0</td>\n",
       "    </tr>\n",
       "    <tr>\n",
       "      <th>5</th>\n",
       "      <td>trip-153741093647649320</td>\n",
       "      <td>IND388620AAB</td>\n",
       "      <td>IND388320AAA</td>\n",
       "      <td>15.0</td>\n",
       "      <td>15.0</td>\n",
       "    </tr>\n",
       "    <tr>\n",
       "      <th>6</th>\n",
       "      <td>trip-153741093647649320</td>\n",
       "      <td>IND388620AAB</td>\n",
       "      <td>IND388320AAA</td>\n",
       "      <td>44.0</td>\n",
       "      <td>59.0</td>\n",
       "    </tr>\n",
       "    <tr>\n",
       "      <th>7</th>\n",
       "      <td>trip-153741093647649320</td>\n",
       "      <td>IND388620AAB</td>\n",
       "      <td>IND388320AAA</td>\n",
       "      <td>65.0</td>\n",
       "      <td>124.0</td>\n",
       "    </tr>\n",
       "    <tr>\n",
       "      <th>8</th>\n",
       "      <td>trip-153741093647649320</td>\n",
       "      <td>IND388620AAB</td>\n",
       "      <td>IND388320AAA</td>\n",
       "      <td>76.0</td>\n",
       "      <td>200.0</td>\n",
       "    </tr>\n",
       "    <tr>\n",
       "      <th>9</th>\n",
       "      <td>trip-153741093647649320</td>\n",
       "      <td>IND388620AAB</td>\n",
       "      <td>IND388320AAA</td>\n",
       "      <td>102.0</td>\n",
       "      <td>302.0</td>\n",
       "    </tr>\n",
       "  </tbody>\n",
       "</table>\n",
       "</div>"
      ],
      "text/plain": [
       "                 trip_uuid source_center destination_center  actual_time  \\\n",
       "0  trip-153741093647649320  IND388121AAA       IND388620AAB         14.0   \n",
       "1  trip-153741093647649320  IND388121AAA       IND388620AAB         24.0   \n",
       "2  trip-153741093647649320  IND388121AAA       IND388620AAB         40.0   \n",
       "3  trip-153741093647649320  IND388121AAA       IND388620AAB         62.0   \n",
       "4  trip-153741093647649320  IND388121AAA       IND388620AAB         68.0   \n",
       "5  trip-153741093647649320  IND388620AAB       IND388320AAA         15.0   \n",
       "6  trip-153741093647649320  IND388620AAB       IND388320AAA         44.0   \n",
       "7  trip-153741093647649320  IND388620AAB       IND388320AAA         65.0   \n",
       "8  trip-153741093647649320  IND388620AAB       IND388320AAA         76.0   \n",
       "9  trip-153741093647649320  IND388620AAB       IND388320AAA        102.0   \n",
       "\n",
       "   actual_time_agg_value  \n",
       "0                   14.0  \n",
       "1                   38.0  \n",
       "2                   78.0  \n",
       "3                  140.0  \n",
       "4                  208.0  \n",
       "5                   15.0  \n",
       "6                   59.0  \n",
       "7                  124.0  \n",
       "8                  200.0  \n",
       "9                  302.0  "
      ]
     },
     "execution_count": 17,
     "metadata": {},
     "output_type": "execute_result"
    }
   ],
   "source": [
    "new_df[new_df[\"trip_uuid\"]==\"trip-153741093647649320\"][[\"trip_uuid\",\"source_center\",\"destination_center\",\"actual_time\",\"actual_time_agg_value\"]]"
   ]
  },
  {
   "cell_type": "code",
   "execution_count": 18,
   "id": "65ccf5a8",
   "metadata": {},
   "outputs": [],
   "source": [
    "# new_df.groupby('code')[\"actual_time_agg_value\"].last()"
   ]
  },
  {
   "cell_type": "code",
   "execution_count": 19,
   "id": "f695672e",
   "metadata": {},
   "outputs": [],
   "source": [
    "dict1 = {\n",
    "    \n",
    "    'data' : 'first',\n",
    "    'trip_creation_time' : 'first',\n",
    "    'route_schedule_uuid' : 'first',\n",
    "    'route_type' : 'first',\n",
    "    'trip_uuid' : 'first',\n",
    "    'source_center' : 'first',\n",
    "    'source_name' : 'first',\n",
    "    'destination_center' : 'last',\n",
    "    'destination_name' : 'last',\n",
    "    'od_start_time' : 'first',\n",
    "    'od_end_time' : 'first',\n",
    "    'start_scan_to_end_scan' : 'first',\n",
    "    'actual_distance_to_destination' : 'last',\n",
    "    'actual_time' : 'last',\n",
    "    'osrm_time' : 'last',\n",
    "    'osrm_distance' : 'last',\n",
    "    \"actual_time_agg_value\" : 'last',\n",
    "    \"osrm_time_agg_value\" : 'last',\n",
    "    \"segment_actual_time_agg_value\" : 'last',\n",
    "    \"osrm_distance_agg_value\" : 'last',\n",
    "    \"segment_osrm_distance_agg_value\" : 'last',\n",
    "    \"segment_osrm_time_agg_value\" : 'last'\n",
    "    \n",
    "}\n",
    "\n"
   ]
  },
  {
   "cell_type": "code",
   "execution_count": 20,
   "id": "5dbe01e2",
   "metadata": {},
   "outputs": [],
   "source": [
    "first_segment = new_df.groupby('code').agg(dict1)"
   ]
  },
  {
   "cell_type": "code",
   "execution_count": 21,
   "id": "411bf0e3",
   "metadata": {},
   "outputs": [],
   "source": [
    "first_segment = first_segment.sort_values(by='trip_uuid').reset_index()"
   ]
  },
  {
   "cell_type": "code",
   "execution_count": 22,
   "id": "c7553c6a",
   "metadata": {},
   "outputs": [],
   "source": [
    "first_segment.drop(columns=\"code\",axis = 1,inplace = True)"
   ]
  },
  {
   "cell_type": "code",
   "execution_count": 23,
   "id": "8a10991b",
   "metadata": {},
   "outputs": [
    {
     "data": {
      "text/html": [
       "<div>\n",
       "<style scoped>\n",
       "    .dataframe tbody tr th:only-of-type {\n",
       "        vertical-align: middle;\n",
       "    }\n",
       "\n",
       "    .dataframe tbody tr th {\n",
       "        vertical-align: top;\n",
       "    }\n",
       "\n",
       "    .dataframe thead th {\n",
       "        text-align: right;\n",
       "    }\n",
       "</style>\n",
       "<table border=\"1\" class=\"dataframe\">\n",
       "  <thead>\n",
       "    <tr style=\"text-align: right;\">\n",
       "      <th></th>\n",
       "      <th>data</th>\n",
       "      <th>trip_creation_time</th>\n",
       "      <th>route_schedule_uuid</th>\n",
       "      <th>route_type</th>\n",
       "      <th>trip_uuid</th>\n",
       "      <th>source_center</th>\n",
       "      <th>source_name</th>\n",
       "      <th>destination_center</th>\n",
       "      <th>destination_name</th>\n",
       "      <th>od_start_time</th>\n",
       "      <th>...</th>\n",
       "      <th>actual_distance_to_destination</th>\n",
       "      <th>actual_time</th>\n",
       "      <th>osrm_time</th>\n",
       "      <th>osrm_distance</th>\n",
       "      <th>actual_time_agg_value</th>\n",
       "      <th>osrm_time_agg_value</th>\n",
       "      <th>segment_actual_time_agg_value</th>\n",
       "      <th>osrm_distance_agg_value</th>\n",
       "      <th>segment_osrm_distance_agg_value</th>\n",
       "      <th>segment_osrm_time_agg_value</th>\n",
       "    </tr>\n",
       "  </thead>\n",
       "  <tbody>\n",
       "    <tr>\n",
       "      <th>0</th>\n",
       "      <td>training</td>\n",
       "      <td>2018-09-12 00:00:16.535741</td>\n",
       "      <td>thanos::sroute:d7c989ba-a29b-4a0b-b2f4-288cdc6...</td>\n",
       "      <td>FTL</td>\n",
       "      <td>trip-153671041653548748</td>\n",
       "      <td>IND209304AAA</td>\n",
       "      <td>Kanpur_Central_H_6 (Uttar Pradesh)</td>\n",
       "      <td>IND000000ACB</td>\n",
       "      <td>Gurgaon_Bilaspur_HB (Haryana)</td>\n",
       "      <td>2018-09-12 16:39:46.858469</td>\n",
       "      <td>...</td>\n",
       "      <td>383.759164</td>\n",
       "      <td>732.0</td>\n",
       "      <td>329.0</td>\n",
       "      <td>446.5496</td>\n",
       "      <td>6484.0</td>\n",
       "      <td>3464.0</td>\n",
       "      <td>728.0</td>\n",
       "      <td>4540.1261</td>\n",
       "      <td>670.6205</td>\n",
       "      <td>534.0</td>\n",
       "    </tr>\n",
       "    <tr>\n",
       "      <th>1</th>\n",
       "      <td>training</td>\n",
       "      <td>2018-09-12 00:00:16.535741</td>\n",
       "      <td>thanos::sroute:d7c989ba-a29b-4a0b-b2f4-288cdc6...</td>\n",
       "      <td>FTL</td>\n",
       "      <td>trip-153671041653548748</td>\n",
       "      <td>IND462022AAA</td>\n",
       "      <td>Bhopal_Trnsport_H (Madhya Pradesh)</td>\n",
       "      <td>IND209304AAA</td>\n",
       "      <td>Kanpur_Central_H_6 (Uttar Pradesh)</td>\n",
       "      <td>2018-09-12 00:00:16.535741</td>\n",
       "      <td>...</td>\n",
       "      <td>440.973689</td>\n",
       "      <td>830.0</td>\n",
       "      <td>388.0</td>\n",
       "      <td>544.8027</td>\n",
       "      <td>9198.0</td>\n",
       "      <td>4323.0</td>\n",
       "      <td>820.0</td>\n",
       "      <td>6037.6386</td>\n",
       "      <td>649.8528</td>\n",
       "      <td>474.0</td>\n",
       "    </tr>\n",
       "    <tr>\n",
       "      <th>2</th>\n",
       "      <td>training</td>\n",
       "      <td>2018-09-12 00:00:22.886430</td>\n",
       "      <td>thanos::sroute:3a1b0ab2-bb0b-4c53-8c59-eb2a2c0...</td>\n",
       "      <td>Carting</td>\n",
       "      <td>trip-153671042288605164</td>\n",
       "      <td>IND561203AAB</td>\n",
       "      <td>Doddablpur_ChikaDPP_D (Karnataka)</td>\n",
       "      <td>IND562101AAA</td>\n",
       "      <td>Chikblapur_ShntiSgr_D (Karnataka)</td>\n",
       "      <td>2018-09-12 02:03:09.655591</td>\n",
       "      <td>...</td>\n",
       "      <td>24.644021</td>\n",
       "      <td>47.0</td>\n",
       "      <td>26.0</td>\n",
       "      <td>28.1994</td>\n",
       "      <td>96.0</td>\n",
       "      <td>55.0</td>\n",
       "      <td>46.0</td>\n",
       "      <td>60.3157</td>\n",
       "      <td>28.1995</td>\n",
       "      <td>26.0</td>\n",
       "    </tr>\n",
       "    <tr>\n",
       "      <th>3</th>\n",
       "      <td>training</td>\n",
       "      <td>2018-09-12 00:00:22.886430</td>\n",
       "      <td>thanos::sroute:3a1b0ab2-bb0b-4c53-8c59-eb2a2c0...</td>\n",
       "      <td>Carting</td>\n",
       "      <td>trip-153671042288605164</td>\n",
       "      <td>IND572101AAA</td>\n",
       "      <td>Tumkur_Veersagr_I (Karnataka)</td>\n",
       "      <td>IND561203AAB</td>\n",
       "      <td>Doddablpur_ChikaDPP_D (Karnataka)</td>\n",
       "      <td>2018-09-12 00:00:22.886430</td>\n",
       "      <td>...</td>\n",
       "      <td>48.542890</td>\n",
       "      <td>96.0</td>\n",
       "      <td>42.0</td>\n",
       "      <td>56.9116</td>\n",
       "      <td>303.0</td>\n",
       "      <td>155.0</td>\n",
       "      <td>95.0</td>\n",
       "      <td>209.1151</td>\n",
       "      <td>55.9899</td>\n",
       "      <td>39.0</td>\n",
       "    </tr>\n",
       "    <tr>\n",
       "      <th>4</th>\n",
       "      <td>training</td>\n",
       "      <td>2018-09-12 00:00:33.691250</td>\n",
       "      <td>thanos::sroute:de5e208e-7641-45e6-8100-4d9fb1e...</td>\n",
       "      <td>FTL</td>\n",
       "      <td>trip-153671043369099517</td>\n",
       "      <td>IND000000ACB</td>\n",
       "      <td>Gurgaon_Bilaspur_HB (Haryana)</td>\n",
       "      <td>IND160002AAC</td>\n",
       "      <td>Chandigarh_Mehmdpur_H (Punjab)</td>\n",
       "      <td>2018-09-14 03:40:17.106733</td>\n",
       "      <td>...</td>\n",
       "      <td>237.439610</td>\n",
       "      <td>611.0</td>\n",
       "      <td>212.0</td>\n",
       "      <td>281.2109</td>\n",
       "      <td>2601.0</td>\n",
       "      <td>1427.0</td>\n",
       "      <td>608.0</td>\n",
       "      <td>1975.7409</td>\n",
       "      <td>317.7408</td>\n",
       "      <td>231.0</td>\n",
       "    </tr>\n",
       "    <tr>\n",
       "      <th>...</th>\n",
       "      <td>...</td>\n",
       "      <td>...</td>\n",
       "      <td>...</td>\n",
       "      <td>...</td>\n",
       "      <td>...</td>\n",
       "      <td>...</td>\n",
       "      <td>...</td>\n",
       "      <td>...</td>\n",
       "      <td>...</td>\n",
       "      <td>...</td>\n",
       "      <td>...</td>\n",
       "      <td>...</td>\n",
       "      <td>...</td>\n",
       "      <td>...</td>\n",
       "      <td>...</td>\n",
       "      <td>...</td>\n",
       "      <td>...</td>\n",
       "      <td>...</td>\n",
       "      <td>...</td>\n",
       "      <td>...</td>\n",
       "      <td>...</td>\n",
       "    </tr>\n",
       "    <tr>\n",
       "      <th>26217</th>\n",
       "      <td>test</td>\n",
       "      <td>2018-10-03 23:59:14.390954</td>\n",
       "      <td>thanos::sroute:c5f2ba2c-8486-4940-8af6-d1d2a6a...</td>\n",
       "      <td>Carting</td>\n",
       "      <td>trip-153861115439069069</td>\n",
       "      <td>IND627005AAA</td>\n",
       "      <td>Tirunelveli_VdkkuSrt_I (Tamil Nadu)</td>\n",
       "      <td>IND628801AAA</td>\n",
       "      <td>Eral_Busstand_D (Tamil Nadu)</td>\n",
       "      <td>2018-10-03 23:59:14.390954</td>\n",
       "      <td>...</td>\n",
       "      <td>37.387664</td>\n",
       "      <td>60.0</td>\n",
       "      <td>45.0</td>\n",
       "      <td>46.2538</td>\n",
       "      <td>207.0</td>\n",
       "      <td>161.0</td>\n",
       "      <td>59.0</td>\n",
       "      <td>163.8712</td>\n",
       "      <td>61.0753</td>\n",
       "      <td>58.0</td>\n",
       "    </tr>\n",
       "    <tr>\n",
       "      <th>26218</th>\n",
       "      <td>test</td>\n",
       "      <td>2018-10-03 23:59:14.390954</td>\n",
       "      <td>thanos::sroute:c5f2ba2c-8486-4940-8af6-d1d2a6a...</td>\n",
       "      <td>Carting</td>\n",
       "      <td>trip-153861115439069069</td>\n",
       "      <td>IND627657AAA</td>\n",
       "      <td>Thisayanvilai_UdnkdiRD_D (Tamil Nadu)</td>\n",
       "      <td>IND628613AAA</td>\n",
       "      <td>Peikulam_SriVnktpm_D (Tamil Nadu)</td>\n",
       "      <td>2018-10-04 03:31:11.183797</td>\n",
       "      <td>...</td>\n",
       "      <td>17.373209</td>\n",
       "      <td>33.0</td>\n",
       "      <td>31.0</td>\n",
       "      <td>25.7087</td>\n",
       "      <td>50.0</td>\n",
       "      <td>49.0</td>\n",
       "      <td>32.0</td>\n",
       "      <td>41.5661</td>\n",
       "      <td>25.7087</td>\n",
       "      <td>30.0</td>\n",
       "    </tr>\n",
       "    <tr>\n",
       "      <th>26219</th>\n",
       "      <td>test</td>\n",
       "      <td>2018-10-03 23:59:14.390954</td>\n",
       "      <td>thanos::sroute:c5f2ba2c-8486-4940-8af6-d1d2a6a...</td>\n",
       "      <td>Carting</td>\n",
       "      <td>trip-153861115439069069</td>\n",
       "      <td>IND628801AAA</td>\n",
       "      <td>Eral_Busstand_D (Tamil Nadu)</td>\n",
       "      <td>IND628204AAA</td>\n",
       "      <td>Tirchchndr_Shnmgprm_D (Tamil Nadu)</td>\n",
       "      <td>2018-10-04 01:44:53.808000</td>\n",
       "      <td>...</td>\n",
       "      <td>12.661945</td>\n",
       "      <td>30.0</td>\n",
       "      <td>14.0</td>\n",
       "      <td>16.0185</td>\n",
       "      <td>51.0</td>\n",
       "      <td>22.0</td>\n",
       "      <td>29.0</td>\n",
       "      <td>25.5371</td>\n",
       "      <td>16.0184</td>\n",
       "      <td>14.0</td>\n",
       "    </tr>\n",
       "    <tr>\n",
       "      <th>26220</th>\n",
       "      <td>test</td>\n",
       "      <td>2018-10-03 23:59:42.701692</td>\n",
       "      <td>thanos::sroute:412fea14-6d1f-4222-8a5f-a517042...</td>\n",
       "      <td>FTL</td>\n",
       "      <td>trip-153861118270144424</td>\n",
       "      <td>IND583119AAA</td>\n",
       "      <td>Sandur_WrdN1DPP_D (Karnataka)</td>\n",
       "      <td>IND583101AAA</td>\n",
       "      <td>Bellary_Dc (Karnataka)</td>\n",
       "      <td>2018-10-04 03:58:40.726547</td>\n",
       "      <td>...</td>\n",
       "      <td>40.546740</td>\n",
       "      <td>233.0</td>\n",
       "      <td>42.0</td>\n",
       "      <td>52.5303</td>\n",
       "      <td>278.0</td>\n",
       "      <td>59.0</td>\n",
       "      <td>233.0</td>\n",
       "      <td>76.5169</td>\n",
       "      <td>52.5303</td>\n",
       "      <td>42.0</td>\n",
       "    </tr>\n",
       "    <tr>\n",
       "      <th>26221</th>\n",
       "      <td>test</td>\n",
       "      <td>2018-10-03 23:59:42.701692</td>\n",
       "      <td>thanos::sroute:412fea14-6d1f-4222-8a5f-a517042...</td>\n",
       "      <td>FTL</td>\n",
       "      <td>trip-153861118270144424</td>\n",
       "      <td>IND583201AAA</td>\n",
       "      <td>Hospet (Karnataka)</td>\n",
       "      <td>IND583119AAA</td>\n",
       "      <td>Sandur_WrdN1DPP_D (Karnataka)</td>\n",
       "      <td>2018-10-04 02:51:44.712656</td>\n",
       "      <td>...</td>\n",
       "      <td>25.534793</td>\n",
       "      <td>42.0</td>\n",
       "      <td>26.0</td>\n",
       "      <td>28.0484</td>\n",
       "      <td>72.0</td>\n",
       "      <td>47.0</td>\n",
       "      <td>41.0</td>\n",
       "      <td>51.2851</td>\n",
       "      <td>28.0484</td>\n",
       "      <td>25.0</td>\n",
       "    </tr>\n",
       "  </tbody>\n",
       "</table>\n",
       "<p>26222 rows × 22 columns</p>\n",
       "</div>"
      ],
      "text/plain": [
       "           data          trip_creation_time  \\\n",
       "0      training  2018-09-12 00:00:16.535741   \n",
       "1      training  2018-09-12 00:00:16.535741   \n",
       "2      training  2018-09-12 00:00:22.886430   \n",
       "3      training  2018-09-12 00:00:22.886430   \n",
       "4      training  2018-09-12 00:00:33.691250   \n",
       "...         ...                         ...   \n",
       "26217      test  2018-10-03 23:59:14.390954   \n",
       "26218      test  2018-10-03 23:59:14.390954   \n",
       "26219      test  2018-10-03 23:59:14.390954   \n",
       "26220      test  2018-10-03 23:59:42.701692   \n",
       "26221      test  2018-10-03 23:59:42.701692   \n",
       "\n",
       "                                     route_schedule_uuid route_type  \\\n",
       "0      thanos::sroute:d7c989ba-a29b-4a0b-b2f4-288cdc6...        FTL   \n",
       "1      thanos::sroute:d7c989ba-a29b-4a0b-b2f4-288cdc6...        FTL   \n",
       "2      thanos::sroute:3a1b0ab2-bb0b-4c53-8c59-eb2a2c0...    Carting   \n",
       "3      thanos::sroute:3a1b0ab2-bb0b-4c53-8c59-eb2a2c0...    Carting   \n",
       "4      thanos::sroute:de5e208e-7641-45e6-8100-4d9fb1e...        FTL   \n",
       "...                                                  ...        ...   \n",
       "26217  thanos::sroute:c5f2ba2c-8486-4940-8af6-d1d2a6a...    Carting   \n",
       "26218  thanos::sroute:c5f2ba2c-8486-4940-8af6-d1d2a6a...    Carting   \n",
       "26219  thanos::sroute:c5f2ba2c-8486-4940-8af6-d1d2a6a...    Carting   \n",
       "26220  thanos::sroute:412fea14-6d1f-4222-8a5f-a517042...        FTL   \n",
       "26221  thanos::sroute:412fea14-6d1f-4222-8a5f-a517042...        FTL   \n",
       "\n",
       "                     trip_uuid source_center  \\\n",
       "0      trip-153671041653548748  IND209304AAA   \n",
       "1      trip-153671041653548748  IND462022AAA   \n",
       "2      trip-153671042288605164  IND561203AAB   \n",
       "3      trip-153671042288605164  IND572101AAA   \n",
       "4      trip-153671043369099517  IND000000ACB   \n",
       "...                        ...           ...   \n",
       "26217  trip-153861115439069069  IND627005AAA   \n",
       "26218  trip-153861115439069069  IND627657AAA   \n",
       "26219  trip-153861115439069069  IND628801AAA   \n",
       "26220  trip-153861118270144424  IND583119AAA   \n",
       "26221  trip-153861118270144424  IND583201AAA   \n",
       "\n",
       "                                 source_name destination_center  \\\n",
       "0         Kanpur_Central_H_6 (Uttar Pradesh)       IND000000ACB   \n",
       "1         Bhopal_Trnsport_H (Madhya Pradesh)       IND209304AAA   \n",
       "2          Doddablpur_ChikaDPP_D (Karnataka)       IND562101AAA   \n",
       "3              Tumkur_Veersagr_I (Karnataka)       IND561203AAB   \n",
       "4              Gurgaon_Bilaspur_HB (Haryana)       IND160002AAC   \n",
       "...                                      ...                ...   \n",
       "26217    Tirunelveli_VdkkuSrt_I (Tamil Nadu)       IND628801AAA   \n",
       "26218  Thisayanvilai_UdnkdiRD_D (Tamil Nadu)       IND628613AAA   \n",
       "26219           Eral_Busstand_D (Tamil Nadu)       IND628204AAA   \n",
       "26220          Sandur_WrdN1DPP_D (Karnataka)       IND583101AAA   \n",
       "26221                     Hospet (Karnataka)       IND583119AAA   \n",
       "\n",
       "                         destination_name               od_start_time  ...  \\\n",
       "0           Gurgaon_Bilaspur_HB (Haryana)  2018-09-12 16:39:46.858469  ...   \n",
       "1      Kanpur_Central_H_6 (Uttar Pradesh)  2018-09-12 00:00:16.535741  ...   \n",
       "2       Chikblapur_ShntiSgr_D (Karnataka)  2018-09-12 02:03:09.655591  ...   \n",
       "3       Doddablpur_ChikaDPP_D (Karnataka)  2018-09-12 00:00:22.886430  ...   \n",
       "4          Chandigarh_Mehmdpur_H (Punjab)  2018-09-14 03:40:17.106733  ...   \n",
       "...                                   ...                         ...  ...   \n",
       "26217        Eral_Busstand_D (Tamil Nadu)  2018-10-03 23:59:14.390954  ...   \n",
       "26218   Peikulam_SriVnktpm_D (Tamil Nadu)  2018-10-04 03:31:11.183797  ...   \n",
       "26219  Tirchchndr_Shnmgprm_D (Tamil Nadu)  2018-10-04 01:44:53.808000  ...   \n",
       "26220              Bellary_Dc (Karnataka)  2018-10-04 03:58:40.726547  ...   \n",
       "26221       Sandur_WrdN1DPP_D (Karnataka)  2018-10-04 02:51:44.712656  ...   \n",
       "\n",
       "      actual_distance_to_destination  actual_time  osrm_time  osrm_distance  \\\n",
       "0                         383.759164        732.0      329.0       446.5496   \n",
       "1                         440.973689        830.0      388.0       544.8027   \n",
       "2                          24.644021         47.0       26.0        28.1994   \n",
       "3                          48.542890         96.0       42.0        56.9116   \n",
       "4                         237.439610        611.0      212.0       281.2109   \n",
       "...                              ...          ...        ...            ...   \n",
       "26217                      37.387664         60.0       45.0        46.2538   \n",
       "26218                      17.373209         33.0       31.0        25.7087   \n",
       "26219                      12.661945         30.0       14.0        16.0185   \n",
       "26220                      40.546740        233.0       42.0        52.5303   \n",
       "26221                      25.534793         42.0       26.0        28.0484   \n",
       "\n",
       "       actual_time_agg_value  osrm_time_agg_value  \\\n",
       "0                     6484.0               3464.0   \n",
       "1                     9198.0               4323.0   \n",
       "2                       96.0                 55.0   \n",
       "3                      303.0                155.0   \n",
       "4                     2601.0               1427.0   \n",
       "...                      ...                  ...   \n",
       "26217                  207.0                161.0   \n",
       "26218                   50.0                 49.0   \n",
       "26219                   51.0                 22.0   \n",
       "26220                  278.0                 59.0   \n",
       "26221                   72.0                 47.0   \n",
       "\n",
       "       segment_actual_time_agg_value  osrm_distance_agg_value  \\\n",
       "0                              728.0                4540.1261   \n",
       "1                              820.0                6037.6386   \n",
       "2                               46.0                  60.3157   \n",
       "3                               95.0                 209.1151   \n",
       "4                              608.0                1975.7409   \n",
       "...                              ...                      ...   \n",
       "26217                           59.0                 163.8712   \n",
       "26218                           32.0                  41.5661   \n",
       "26219                           29.0                  25.5371   \n",
       "26220                          233.0                  76.5169   \n",
       "26221                           41.0                  51.2851   \n",
       "\n",
       "       segment_osrm_distance_agg_value  segment_osrm_time_agg_value  \n",
       "0                             670.6205                        534.0  \n",
       "1                             649.8528                        474.0  \n",
       "2                              28.1995                         26.0  \n",
       "3                              55.9899                         39.0  \n",
       "4                             317.7408                        231.0  \n",
       "...                                ...                          ...  \n",
       "26217                          61.0753                         58.0  \n",
       "26218                          25.7087                         30.0  \n",
       "26219                          16.0184                         14.0  \n",
       "26220                          52.5303                         42.0  \n",
       "26221                          28.0484                         25.0  \n",
       "\n",
       "[26222 rows x 22 columns]"
      ]
     },
     "execution_count": 23,
     "metadata": {},
     "output_type": "execute_result"
    }
   ],
   "source": [
    "first_segment"
   ]
  },
  {
   "cell_type": "code",
   "execution_count": 24,
   "id": "e6a745b0",
   "metadata": {},
   "outputs": [],
   "source": [
    "first_segment[\"od_end_time\"] = pd.to_datetime(first_segment[\"od_end_time\"])\n",
    "first_segment[\"od_start_time\"] = pd.to_datetime(first_segment[\"od_start_time\"])\n",
    "first_segment[\"od_scan_time\"] =  (first_segment[\"od_end_time\"]-first_segment[\"od_start_time\"]).dt.total_seconds()/60"
   ]
  },
  {
   "cell_type": "code",
   "execution_count": null,
   "id": "a2d89e7b",
   "metadata": {},
   "outputs": [],
   "source": []
  },
  {
   "cell_type": "code",
   "execution_count": null,
   "id": "232555cb",
   "metadata": {},
   "outputs": [],
   "source": []
  },
  {
   "cell_type": "code",
   "execution_count": 25,
   "id": "804d992f",
   "metadata": {},
   "outputs": [
    {
     "data": {
      "text/html": [
       "<div>\n",
       "<style scoped>\n",
       "    .dataframe tbody tr th:only-of-type {\n",
       "        vertical-align: middle;\n",
       "    }\n",
       "\n",
       "    .dataframe tbody tr th {\n",
       "        vertical-align: top;\n",
       "    }\n",
       "\n",
       "    .dataframe thead th {\n",
       "        text-align: right;\n",
       "    }\n",
       "</style>\n",
       "<table border=\"1\" class=\"dataframe\">\n",
       "  <thead>\n",
       "    <tr style=\"text-align: right;\">\n",
       "      <th></th>\n",
       "      <th>data</th>\n",
       "      <th>trip_creation_time</th>\n",
       "      <th>route_schedule_uuid</th>\n",
       "      <th>route_type</th>\n",
       "      <th>trip_uuid</th>\n",
       "      <th>source_center</th>\n",
       "      <th>source_name</th>\n",
       "      <th>destination_center</th>\n",
       "      <th>destination_name</th>\n",
       "      <th>od_start_time</th>\n",
       "      <th>...</th>\n",
       "      <th>actual_time</th>\n",
       "      <th>osrm_time</th>\n",
       "      <th>osrm_distance</th>\n",
       "      <th>actual_time_agg_value</th>\n",
       "      <th>osrm_time_agg_value</th>\n",
       "      <th>segment_actual_time_agg_value</th>\n",
       "      <th>osrm_distance_agg_value</th>\n",
       "      <th>segment_osrm_distance_agg_value</th>\n",
       "      <th>segment_osrm_time_agg_value</th>\n",
       "      <th>od_scan_time</th>\n",
       "    </tr>\n",
       "  </thead>\n",
       "  <tbody>\n",
       "    <tr>\n",
       "      <th>10370</th>\n",
       "      <td>training</td>\n",
       "      <td>2018-09-20 02:35:36.476840</td>\n",
       "      <td>thanos::sroute:eb7bfc78-b351-4c0e-a951-fa3d5c3...</td>\n",
       "      <td>Carting</td>\n",
       "      <td>trip-153741093647649320</td>\n",
       "      <td>IND388121AAA</td>\n",
       "      <td>Anand_VUNagar_DC (Gujarat)</td>\n",
       "      <td>IND388620AAB</td>\n",
       "      <td>Khambhat_MotvdDPP_D (Gujarat)</td>\n",
       "      <td>2018-09-20 03:21:32.418600</td>\n",
       "      <td>...</td>\n",
       "      <td>68.0</td>\n",
       "      <td>44.0</td>\n",
       "      <td>54.2181</td>\n",
       "      <td>208.0</td>\n",
       "      <td>143.0</td>\n",
       "      <td>67.0</td>\n",
       "      <td>166.0092</td>\n",
       "      <td>49.4772</td>\n",
       "      <td>44.0</td>\n",
       "      <td>86.213637</td>\n",
       "    </tr>\n",
       "    <tr>\n",
       "      <th>10371</th>\n",
       "      <td>training</td>\n",
       "      <td>2018-09-20 02:35:36.476840</td>\n",
       "      <td>thanos::sroute:eb7bfc78-b351-4c0e-a951-fa3d5c3...</td>\n",
       "      <td>Carting</td>\n",
       "      <td>trip-153741093647649320</td>\n",
       "      <td>IND388620AAB</td>\n",
       "      <td>Khambhat_MotvdDPP_D (Gujarat)</td>\n",
       "      <td>IND388320AAA</td>\n",
       "      <td>Anand_Vaghasi_IP (Gujarat)</td>\n",
       "      <td>2018-09-20 04:47:45.236797</td>\n",
       "      <td>...</td>\n",
       "      <td>102.0</td>\n",
       "      <td>45.0</td>\n",
       "      <td>53.2334</td>\n",
       "      <td>302.0</td>\n",
       "      <td>141.0</td>\n",
       "      <td>100.0</td>\n",
       "      <td>169.6547</td>\n",
       "      <td>53.2334</td>\n",
       "      <td>44.0</td>\n",
       "      <td>109.173183</td>\n",
       "    </tr>\n",
       "  </tbody>\n",
       "</table>\n",
       "<p>2 rows × 23 columns</p>\n",
       "</div>"
      ],
      "text/plain": [
       "           data          trip_creation_time  \\\n",
       "10370  training  2018-09-20 02:35:36.476840   \n",
       "10371  training  2018-09-20 02:35:36.476840   \n",
       "\n",
       "                                     route_schedule_uuid route_type  \\\n",
       "10370  thanos::sroute:eb7bfc78-b351-4c0e-a951-fa3d5c3...    Carting   \n",
       "10371  thanos::sroute:eb7bfc78-b351-4c0e-a951-fa3d5c3...    Carting   \n",
       "\n",
       "                     trip_uuid source_center                    source_name  \\\n",
       "10370  trip-153741093647649320  IND388121AAA     Anand_VUNagar_DC (Gujarat)   \n",
       "10371  trip-153741093647649320  IND388620AAB  Khambhat_MotvdDPP_D (Gujarat)   \n",
       "\n",
       "      destination_center               destination_name  \\\n",
       "10370       IND388620AAB  Khambhat_MotvdDPP_D (Gujarat)   \n",
       "10371       IND388320AAA     Anand_Vaghasi_IP (Gujarat)   \n",
       "\n",
       "                   od_start_time  ... actual_time  osrm_time  osrm_distance  \\\n",
       "10370 2018-09-20 03:21:32.418600  ...        68.0       44.0        54.2181   \n",
       "10371 2018-09-20 04:47:45.236797  ...       102.0       45.0        53.2334   \n",
       "\n",
       "       actual_time_agg_value  osrm_time_agg_value  \\\n",
       "10370                  208.0                143.0   \n",
       "10371                  302.0                141.0   \n",
       "\n",
       "       segment_actual_time_agg_value  osrm_distance_agg_value  \\\n",
       "10370                           67.0                 166.0092   \n",
       "10371                          100.0                 169.6547   \n",
       "\n",
       "       segment_osrm_distance_agg_value  segment_osrm_time_agg_value  \\\n",
       "10370                          49.4772                         44.0   \n",
       "10371                          53.2334                         44.0   \n",
       "\n",
       "       od_scan_time  \n",
       "10370     86.213637  \n",
       "10371    109.173183  \n",
       "\n",
       "[2 rows x 23 columns]"
      ]
     },
     "execution_count": 25,
     "metadata": {},
     "output_type": "execute_result"
    }
   ],
   "source": [
    "first_segment[first_segment[\"trip_uuid\"]==\"trip-153741093647649320\"]"
   ]
  },
  {
   "cell_type": "code",
   "execution_count": 26,
   "id": "78aa19f3",
   "metadata": {},
   "outputs": [],
   "source": [
    "dict2 = {\n",
    "    \n",
    "    'data' : 'first',\n",
    "    'trip_creation_time' : 'first',\n",
    "    'route_schedule_uuid' : 'first',\n",
    "    'route_type' : 'first',\n",
    "    'trip_uuid' : 'first',\n",
    "    'source_center' : 'first',\n",
    "    'source_name' : 'first',\n",
    "    'destination_center' : 'last',\n",
    "    'destination_name' : 'last',\n",
    "    'start_scan_to_end_scan' : 'sum',\n",
    "    'od_scan_time' : 'sum', \n",
    "    'actual_distance_to_destination' : 'sum',\n",
    "    'actual_time' : 'last',\n",
    "    'osrm_time' : 'last',\n",
    "    'osrm_distance' : 'last',\n",
    "    \"actual_time_agg_value\" : 'last',\n",
    "    \"osrm_time_agg_value\" : 'last',\n",
    "    \"segment_actual_time_agg_value\" : 'last',\n",
    "    \"osrm_distance_agg_value\" : 'last',\n",
    "    \"segment_osrm_distance_agg_value\" : 'last',\n",
    "    \"segment_osrm_time_agg_value\" : 'last'\n",
    "    \n",
    "    \n",
    "    \n",
    "}"
   ]
  },
  {
   "cell_type": "code",
   "execution_count": 27,
   "id": "93ac812c",
   "metadata": {},
   "outputs": [],
   "source": [
    "second_segment = first_segment.groupby('trip_uuid').agg(dict2)"
   ]
  },
  {
   "cell_type": "code",
   "execution_count": 28,
   "id": "3961728e",
   "metadata": {},
   "outputs": [],
   "source": [
    "second_segment = second_segment.reset_index(drop=True)"
   ]
  },
  {
   "cell_type": "code",
   "execution_count": 29,
   "id": "114fd1d3",
   "metadata": {},
   "outputs": [
    {
     "data": {
      "text/html": [
       "<div>\n",
       "<style scoped>\n",
       "    .dataframe tbody tr th:only-of-type {\n",
       "        vertical-align: middle;\n",
       "    }\n",
       "\n",
       "    .dataframe tbody tr th {\n",
       "        vertical-align: top;\n",
       "    }\n",
       "\n",
       "    .dataframe thead th {\n",
       "        text-align: right;\n",
       "    }\n",
       "</style>\n",
       "<table border=\"1\" class=\"dataframe\">\n",
       "  <thead>\n",
       "    <tr style=\"text-align: right;\">\n",
       "      <th></th>\n",
       "      <th>od_scan_time</th>\n",
       "      <th>start_scan_to_end_scan</th>\n",
       "    </tr>\n",
       "  </thead>\n",
       "  <tbody>\n",
       "    <tr>\n",
       "      <th>0</th>\n",
       "      <td>2260.109800</td>\n",
       "      <td>2259.0</td>\n",
       "    </tr>\n",
       "    <tr>\n",
       "      <th>1</th>\n",
       "      <td>181.611874</td>\n",
       "      <td>180.0</td>\n",
       "    </tr>\n",
       "    <tr>\n",
       "      <th>2</th>\n",
       "      <td>3934.362520</td>\n",
       "      <td>3933.0</td>\n",
       "    </tr>\n",
       "    <tr>\n",
       "      <th>3</th>\n",
       "      <td>100.494935</td>\n",
       "      <td>100.0</td>\n",
       "    </tr>\n",
       "    <tr>\n",
       "      <th>4</th>\n",
       "      <td>718.349042</td>\n",
       "      <td>717.0</td>\n",
       "    </tr>\n",
       "    <tr>\n",
       "      <th>...</th>\n",
       "      <td>...</td>\n",
       "      <td>...</td>\n",
       "    </tr>\n",
       "    <tr>\n",
       "      <th>14782</th>\n",
       "      <td>258.028928</td>\n",
       "      <td>257.0</td>\n",
       "    </tr>\n",
       "    <tr>\n",
       "      <th>14783</th>\n",
       "      <td>60.590521</td>\n",
       "      <td>60.0</td>\n",
       "    </tr>\n",
       "    <tr>\n",
       "      <th>14784</th>\n",
       "      <td>422.119867</td>\n",
       "      <td>421.0</td>\n",
       "    </tr>\n",
       "    <tr>\n",
       "      <th>14785</th>\n",
       "      <td>348.512862</td>\n",
       "      <td>347.0</td>\n",
       "    </tr>\n",
       "    <tr>\n",
       "      <th>14786</th>\n",
       "      <td>354.407571</td>\n",
       "      <td>353.0</td>\n",
       "    </tr>\n",
       "  </tbody>\n",
       "</table>\n",
       "<p>14787 rows × 2 columns</p>\n",
       "</div>"
      ],
      "text/plain": [
       "       od_scan_time  start_scan_to_end_scan\n",
       "0       2260.109800                  2259.0\n",
       "1        181.611874                   180.0\n",
       "2       3934.362520                  3933.0\n",
       "3        100.494935                   100.0\n",
       "4        718.349042                   717.0\n",
       "...             ...                     ...\n",
       "14782    258.028928                   257.0\n",
       "14783     60.590521                    60.0\n",
       "14784    422.119867                   421.0\n",
       "14785    348.512862                   347.0\n",
       "14786    354.407571                   353.0\n",
       "\n",
       "[14787 rows x 2 columns]"
      ]
     },
     "execution_count": 29,
     "metadata": {},
     "output_type": "execute_result"
    }
   ],
   "source": [
    "second_segment[[\"od_scan_time\",\"start_scan_to_end_scan\"]]"
   ]
  },
  {
   "cell_type": "code",
   "execution_count": 30,
   "id": "bdbc5569",
   "metadata": {},
   "outputs": [],
   "source": [
    "second_segment[\"trip_creation_time\"]=pd.to_datetime(second_segment[\"trip_creation_time\"])"
   ]
  },
  {
   "cell_type": "code",
   "execution_count": 31,
   "id": "89a86646",
   "metadata": {},
   "outputs": [],
   "source": [
    "second_segment[\"trip_creation_year\"]=second_segment[\"trip_creation_time\"].dt.year"
   ]
  },
  {
   "cell_type": "code",
   "execution_count": 32,
   "id": "fdf3675f",
   "metadata": {},
   "outputs": [],
   "source": [
    "second_segment[\"trip_creation_month\"]=second_segment[\"trip_creation_time\"].dt.month "
   ]
  },
  {
   "cell_type": "code",
   "execution_count": 33,
   "id": "87c43605",
   "metadata": {},
   "outputs": [],
   "source": [
    "second_segment[\"trip_creation_week\"]=second_segment[\"trip_creation_time\"].dt.isocalendar().week"
   ]
  },
  {
   "cell_type": "code",
   "execution_count": 34,
   "id": "2e9c3f71",
   "metadata": {},
   "outputs": [],
   "source": [
    "second_segment[\"trip_creation_day\"]=second_segment[\"trip_creation_time\"].dt.day"
   ]
  },
  {
   "cell_type": "code",
   "execution_count": 35,
   "id": "88466536",
   "metadata": {},
   "outputs": [],
   "source": [
    "second_segment[\"trip_creation_hour\"]=second_segment[\"trip_creation_time\"].dt.hour"
   ]
  },
  {
   "cell_type": "code",
   "execution_count": 36,
   "id": "636f07fd",
   "metadata": {},
   "outputs": [
    {
     "data": {
      "text/plain": [
       "<matplotlib.collections.PathCollection at 0x19c84e79b50>"
      ]
     },
     "execution_count": 36,
     "metadata": {},
     "output_type": "execute_result"
    },
    {
     "data": {
      "image/png": "[encoded data removed]",
      "text/plain": [
       "<Figure size 432x288 with 1 Axes>"
      ]
     },
     "metadata": {
      "needs_background": "light"
     },
     "output_type": "display_data"
    }
   ],
   "source": [
    "plt.scatter(second_segment[\"od_scan_time\"],second_segment[\"start_scan_to_end_scan\"])"
   ]
  },
  {
   "cell_type": "markdown",
   "id": "16346f7d",
   "metadata": {},
   "source": [
    "We see a linear relationship between these two features. We can say that there is no significant difference between these two features."
   ]
  },
  {
   "cell_type": "markdown",
   "id": "cce41d93",
   "metadata": {},
   "source": [
    "However we can confirm this by performing hypothesis testing"
   ]
  },
  {
   "cell_type": "code",
   "execution_count": 37,
   "id": "7aaa9f41",
   "metadata": {},
   "outputs": [
    {
     "name": "stdout",
     "output_type": "stream",
     "text": [
      "Tstat:  0.41558384261213344\n",
      "Pvalue:  0.6777175672101208\n",
      "Failed to reject Null Hypothesis\n",
      "There is no significant dirrerence between these two features\n"
     ]
    }
   ],
   "source": [
    "tstat,pval = ttest_ind(second_segment[\"actual_time\"],second_segment[\"segment_actual_time_agg_value\"])\n",
    "alpha = 0.05\n",
    "print(\"Tstat: \",tstat)\n",
    "print(\"Pvalue: \",pval)\n",
    "if pval<alpha:\n",
    "    print(\"Reject Null Hypothesis\")\n",
    "    print(Ha)\n",
    "else:\n",
    "    print(\"Failed to reject Null Hypothesis\")\n",
    "    print(\"There is no significant dirrerence between these two features\")"
   ]
  },
  {
   "cell_type": "markdown",
   "id": "34552e23",
   "metadata": {},
   "source": [
    "Do hypothesis testing/ visual analysis between actual_time aggregated value and OSRM time aggregated value"
   ]
  },
  {
   "cell_type": "code",
   "execution_count": 38,
   "id": "60525430",
   "metadata": {},
   "outputs": [
    {
     "data": {
      "text/html": [
       "<div>\n",
       "<style scoped>\n",
       "    .dataframe tbody tr th:only-of-type {\n",
       "        vertical-align: middle;\n",
       "    }\n",
       "\n",
       "    .dataframe tbody tr th {\n",
       "        vertical-align: top;\n",
       "    }\n",
       "\n",
       "    .dataframe thead th {\n",
       "        text-align: right;\n",
       "    }\n",
       "</style>\n",
       "<table border=\"1\" class=\"dataframe\">\n",
       "  <thead>\n",
       "    <tr style=\"text-align: right;\">\n",
       "      <th></th>\n",
       "      <th>actual_time_agg_value</th>\n",
       "      <th>osrm_time_agg_value</th>\n",
       "    </tr>\n",
       "  </thead>\n",
       "  <tbody>\n",
       "    <tr>\n",
       "      <th>0</th>\n",
       "      <td>9198.0</td>\n",
       "      <td>4323.0</td>\n",
       "    </tr>\n",
       "    <tr>\n",
       "      <th>1</th>\n",
       "      <td>303.0</td>\n",
       "      <td>155.0</td>\n",
       "    </tr>\n",
       "    <tr>\n",
       "      <th>2</th>\n",
       "      <td>109624.0</td>\n",
       "      <td>64341.0</td>\n",
       "    </tr>\n",
       "    <tr>\n",
       "      <th>3</th>\n",
       "      <td>82.0</td>\n",
       "      <td>24.0</td>\n",
       "    </tr>\n",
       "    <tr>\n",
       "      <th>4</th>\n",
       "      <td>97.0</td>\n",
       "      <td>48.0</td>\n",
       "    </tr>\n",
       "    <tr>\n",
       "      <th>...</th>\n",
       "      <td>...</td>\n",
       "      <td>...</td>\n",
       "    </tr>\n",
       "    <tr>\n",
       "      <th>14782</th>\n",
       "      <td>70.0</td>\n",
       "      <td>51.0</td>\n",
       "    </tr>\n",
       "    <tr>\n",
       "      <th>14783</th>\n",
       "      <td>33.0</td>\n",
       "      <td>19.0</td>\n",
       "    </tr>\n",
       "    <tr>\n",
       "      <th>14784</th>\n",
       "      <td>292.0</td>\n",
       "      <td>61.0</td>\n",
       "    </tr>\n",
       "    <tr>\n",
       "      <th>14785</th>\n",
       "      <td>51.0</td>\n",
       "      <td>22.0</td>\n",
       "    </tr>\n",
       "    <tr>\n",
       "      <th>14786</th>\n",
       "      <td>72.0</td>\n",
       "      <td>47.0</td>\n",
       "    </tr>\n",
       "  </tbody>\n",
       "</table>\n",
       "<p>14787 rows × 2 columns</p>\n",
       "</div>"
      ],
      "text/plain": [
       "       actual_time_agg_value  osrm_time_agg_value\n",
       "0                     9198.0               4323.0\n",
       "1                      303.0                155.0\n",
       "2                   109624.0              64341.0\n",
       "3                       82.0                 24.0\n",
       "4                       97.0                 48.0\n",
       "...                      ...                  ...\n",
       "14782                   70.0                 51.0\n",
       "14783                   33.0                 19.0\n",
       "14784                  292.0                 61.0\n",
       "14785                   51.0                 22.0\n",
       "14786                   72.0                 47.0\n",
       "\n",
       "[14787 rows x 2 columns]"
      ]
     },
     "execution_count": 38,
     "metadata": {},
     "output_type": "execute_result"
    }
   ],
   "source": [
    "second_segment[[\"actual_time_agg_value\",\"osrm_time_agg_value\"]]"
   ]
  },
  {
   "cell_type": "code",
   "execution_count": 39,
   "id": "1a6cc2ec",
   "metadata": {},
   "outputs": [
    {
     "data": {
      "text/plain": [
       "<matplotlib.collections.PathCollection at 0x19c85929f70>"
      ]
     },
     "execution_count": 39,
     "metadata": {},
     "output_type": "execute_result"
    },
    {
     "data": {
      "image/png": "[encoded data removed]",
      "text/plain": [
       "<Figure size 432x288 with 1 Axes>"
      ]
     },
     "metadata": {
      "needs_background": "light"
     },
     "output_type": "display_data"
    }
   ],
   "source": [
    "plt.scatter(second_segment[\"actual_time_agg_value\"],second_segment[\"osrm_time_agg_value\"])"
   ]
  },
  {
   "cell_type": "code",
   "execution_count": 40,
   "id": "8fa66c5f",
   "metadata": {},
   "outputs": [],
   "source": [
    "# plt.hist(second_segment[\"actual_time_agg_value\"].sample(100))"
   ]
  },
  {
   "cell_type": "code",
   "execution_count": 41,
   "id": "2cba0fbe",
   "metadata": {},
   "outputs": [],
   "source": [
    "sample1=[]\n",
    "for i in range(100):\n",
    "    sample1.append(second_segment[\"actual_time_agg_value\"].sample(100).mean())\n"
   ]
  },
  {
   "cell_type": "code",
   "execution_count": 42,
   "id": "8fddd29a",
   "metadata": {},
   "outputs": [
    {
     "data": {
      "text/plain": [
       "<AxesSubplot:ylabel='Count'>"
      ]
     },
     "execution_count": 42,
     "metadata": {},
     "output_type": "execute_result"
    },
    {
     "data": {
      "image/png": "[encoded data removed]",
      "text/plain": [
       "<Figure size 432x288 with 1 Axes>"
      ]
     },
     "metadata": {
      "needs_background": "light"
     },
     "output_type": "display_data"
    }
   ],
   "source": [
    "sns.histplot(sample1,bins=10,kde = True)"
   ]
  },
  {
   "cell_type": "code",
   "execution_count": null,
   "id": "d19480a3",
   "metadata": {},
   "outputs": [],
   "source": []
  },
  {
   "cell_type": "code",
   "execution_count": 43,
   "id": "41966e44",
   "metadata": {},
   "outputs": [],
   "source": [
    "n = np.log(sample1)"
   ]
  },
  {
   "cell_type": "code",
   "execution_count": null,
   "id": "2ee8c7f3",
   "metadata": {},
   "outputs": [],
   "source": []
  },
  {
   "cell_type": "code",
   "execution_count": 44,
   "id": "83bf5109",
   "metadata": {},
   "outputs": [
    {
     "data": {
      "text/plain": [
       "<AxesSubplot:ylabel='Count'>"
      ]
     },
     "execution_count": 44,
     "metadata": {},
     "output_type": "execute_result"
    },
    {
     "data": {
      "image/png": "[encoded data removed]",
      "text/plain": [
       "<Figure size 432x288 with 1 Axes>"
      ]
     },
     "metadata": {
      "needs_background": "light"
     },
     "output_type": "display_data"
    }
   ],
   "source": [
    "sns.histplot(n,bins=15,kde=True)"
   ]
  },
  {
   "cell_type": "code",
   "execution_count": 45,
   "id": "5d48db32",
   "metadata": {},
   "outputs": [],
   "source": [
    "sample2=[]\n",
    "for i in range(100):\n",
    "    sample2.append(second_segment[\"osrm_time_agg_value\"].sample(100).mean())\n"
   ]
  },
  {
   "cell_type": "code",
   "execution_count": 46,
   "id": "91f12eff",
   "metadata": {},
   "outputs": [
    {
     "data": {
      "text/plain": [
       "<AxesSubplot:ylabel='Count'>"
      ]
     },
     "execution_count": 46,
     "metadata": {},
     "output_type": "execute_result"
    },
    {
     "data": {
      "image/png": "[encoded data removed]",
      "text/plain": [
       "<Figure size 432x288 with 1 Axes>"
      ]
     },
     "metadata": {
      "needs_background": "light"
     },
     "output_type": "display_data"
    }
   ],
   "source": [
    "sns.histplot(sample2,bins=15,kde=True)"
   ]
  },
  {
   "cell_type": "code",
   "execution_count": 47,
   "id": "a530a564",
   "metadata": {},
   "outputs": [],
   "source": [
    "y = np.log(sample2)"
   ]
  },
  {
   "cell_type": "code",
   "execution_count": 48,
   "id": "52db0f52",
   "metadata": {},
   "outputs": [
    {
     "data": {
      "text/plain": [
       "<AxesSubplot:ylabel='Count'>"
      ]
     },
     "execution_count": 48,
     "metadata": {},
     "output_type": "execute_result"
    },
    {
     "data": {
      "image/png": "[encoded data removed]",
      "text/plain": [
       "<Figure size 432x288 with 1 Axes>"
      ]
     },
     "metadata": {
      "needs_background": "light"
     },
     "output_type": "display_data"
    }
   ],
   "source": [
    "sns.histplot(y,bins=15,kde=True)"
   ]
  },
  {
   "cell_type": "code",
   "execution_count": 49,
   "id": "129a057f",
   "metadata": {},
   "outputs": [
    {
     "data": {
      "text/plain": [
       "<AxesSubplot:>"
      ]
     },
     "execution_count": 49,
     "metadata": {},
     "output_type": "execute_result"
    },
    {
     "data": {
      "image/png": "[encoded data removed]",
      "text/plain": [
       "<Figure size 720x720 with 1 Axes>"
      ]
     },
     "metadata": {
      "needs_background": "light"
     },
     "output_type": "display_data"
    }
   ],
   "source": [
    "plot1 = second_segment[[\"actual_time_agg_value\",\"osrm_time_agg_value\"]]\n",
    "\n",
    "plot1.boxplot(figsize=(10,10))"
   ]
  },
  {
   "cell_type": "code",
   "execution_count": 50,
   "id": "6b7e9fc5",
   "metadata": {},
   "outputs": [],
   "source": [
    "plot1 = pd.DataFrame([second_segment[\"actual_time_agg_value\"].mean(),second_segment[\"osrm_time_agg_value\"].mean()],index=[\"Actual_time_mean\",\"OSRM_time_mean\"]).reset_index()"
   ]
  },
  {
   "cell_type": "code",
   "execution_count": 51,
   "id": "dece8617",
   "metadata": {},
   "outputs": [],
   "source": [
    "plot1.rename(columns={'index':\"time\",0:'values'},inplace=True)"
   ]
  },
  {
   "cell_type": "code",
   "execution_count": 52,
   "id": "bc5a01ff",
   "metadata": {},
   "outputs": [
    {
     "data": {
      "text/plain": [
       "<AxesSubplot:xlabel='time', ylabel='values'>"
      ]
     },
     "execution_count": 52,
     "metadata": {},
     "output_type": "execute_result"
    },
    {
     "data": {
      "image/png": "[encoded data removed]",
      "text/plain": [
       "<Figure size 432x288 with 1 Axes>"
      ]
     },
     "metadata": {
      "needs_background": "light"
     },
     "output_type": "display_data"
    }
   ],
   "source": [
    "sns.barplot(x=plot1[\"time\"],y=plot1[\"values\"])"
   ]
  },
  {
   "cell_type": "markdown",
   "id": "4b8051d9",
   "metadata": {},
   "source": [
    "### Performing Paired T Test \n",
    "\n",
    "#### H0: There is no significant difference between Actual time aggrigated value and Osrm time aggrigated value\n",
    "#### Ha: There is significant difference between Actual time aggrigated value and Osrm time aggrigated value"
   ]
  },
  {
   "cell_type": "code",
   "execution_count": 53,
   "id": "04ff31f3",
   "metadata": {},
   "outputs": [],
   "source": [
    "H0= \"There is no significant difference between Actual time aggrigated value and Osrm time aggrigated value\"\n",
    "Ha= \"There is significant difference between Actual time aggrigated value and Osrm time aggrigated value\"\n",
    "alpha = 0.05 #significance"
   ]
  },
  {
   "cell_type": "code",
   "execution_count": 54,
   "id": "6f60260b",
   "metadata": {},
   "outputs": [
    {
     "name": "stdout",
     "output_type": "stream",
     "text": [
      "Tstat:  27.157693412296922\n",
      "Pvalue:  1.5469326862165807e-158\n",
      "Reject Null Hypothesis\n",
      "There is significant difference between Actual time aggrigated value and Osrm time aggrigated value\n"
     ]
    }
   ],
   "source": [
    "tstat,pval = ttest_rel(second_segment[\"actual_time_agg_value\"],second_segment[\"osrm_time_agg_value\"])\n",
    "\n",
    "print(\"Tstat: \",tstat)\n",
    "print(\"Pvalue: \",pval)\n",
    "if pval<alpha:\n",
    "    print(\"Reject Null Hypothesis\")\n",
    "    print(Ha)\n",
    "else:\n",
    "    print(\"Failed to reject Null Hypothesis\")\n",
    "    print(H0)"
   ]
  },
  {
   "cell_type": "markdown",
   "id": "1bb495a8",
   "metadata": {},
   "source": [
    "## actual_time aggregated value and segment actual time aggregated value "
   ]
  },
  {
   "cell_type": "code",
   "execution_count": 55,
   "id": "37363a62",
   "metadata": {},
   "outputs": [],
   "source": [
    "plot2=second_segment[[\"actual_time\",\"segment_actual_time_agg_value\"]]"
   ]
  },
  {
   "cell_type": "code",
   "execution_count": 56,
   "id": "a5dbb541",
   "metadata": {},
   "outputs": [
    {
     "data": {
      "text/plain": [
       "<AxesSubplot:>"
      ]
     },
     "execution_count": 56,
     "metadata": {},
     "output_type": "execute_result"
    },
    {
     "data": {
      "image/png": "[encoded data removed]",
      "text/plain": [
       "<Figure size 720x720 with 1 Axes>"
      ]
     },
     "metadata": {
      "needs_background": "light"
     },
     "output_type": "display_data"
    }
   ],
   "source": [
    "plot2.boxplot(figsize=(10,10))"
   ]
  },
  {
   "cell_type": "code",
   "execution_count": 57,
   "id": "f8246cd9",
   "metadata": {},
   "outputs": [],
   "source": [
    "plot2 = pd.DataFrame([second_segment[\"actual_time\"].mean(),second_segment[\"segment_actual_time_agg_value\"].mean()],index=[\"Actual_time_mean\",\"Segment_Actual_time\"]).reset_index()"
   ]
  },
  {
   "cell_type": "code",
   "execution_count": 58,
   "id": "6bbfeb2e",
   "metadata": {},
   "outputs": [],
   "source": [
    "plot2.rename(columns={'index':\"time\",0:'values'},inplace=True)"
   ]
  },
  {
   "cell_type": "code",
   "execution_count": 59,
   "id": "b5a61f1c",
   "metadata": {},
   "outputs": [
    {
     "data": {
      "text/plain": [
       "<AxesSubplot:xlabel='time', ylabel='values'>"
      ]
     },
     "execution_count": 59,
     "metadata": {},
     "output_type": "execute_result"
    },
    {
     "data": {
      "image/png": "[encoded data removed]",
      "text/plain": [
       "<Figure size 432x288 with 1 Axes>"
      ]
     },
     "metadata": {
      "needs_background": "light"
     },
     "output_type": "display_data"
    }
   ],
   "source": [
    "sns.barplot(x=plot2[\"time\"],y=plot2[\"values\"])"
   ]
  },
  {
   "cell_type": "markdown",
   "id": "89e1ef23",
   "metadata": {},
   "source": [
    "### Performing T Test \n",
    "\n",
    "#### H0: There is no significant difference between Actual time aggrigated value and Segment actual time \n",
    "#### Ha: There is significant difference between Actual time aggrigated value and Segment actual time"
   ]
  },
  {
   "cell_type": "code",
   "execution_count": 60,
   "id": "d665bc5c",
   "metadata": {},
   "outputs": [],
   "source": [
    "H0= \"There is no significant difference between Actual time aggrigated value and Segment actual time\"\n",
    "Ha= \"There is significant difference between Actual time aggrigated value and Segment actual time\"\n",
    "alpha = 0.05 #significance"
   ]
  },
  {
   "cell_type": "code",
   "execution_count": 61,
   "id": "b7c9f404",
   "metadata": {},
   "outputs": [
    {
     "name": "stdout",
     "output_type": "stream",
     "text": [
      "Tstat:  0.41558384261213344\n",
      "Pvalue:  0.6777175672101208\n",
      "Failed to reject Null Hypothesis\n",
      "There is no significant difference between Actual time aggrigated value and Segment actual time\n"
     ]
    }
   ],
   "source": [
    "tstat,pval = ttest_ind(second_segment[\"actual_time\"],second_segment[\"segment_actual_time_agg_value\"])\n",
    "\n",
    "print(\"Tstat: \",tstat)\n",
    "print(\"Pvalue: \",pval)\n",
    "if pval<alpha:\n",
    "    print(\"Reject Null Hypothesis\")\n",
    "    print(Ha)\n",
    "else:\n",
    "    print(\"Failed to reject Null Hypothesis\")\n",
    "    print(H0)"
   ]
  },
  {
   "cell_type": "markdown",
   "id": "80a90b4d",
   "metadata": {},
   "source": [
    "## osrm distance aggregated value and segment osrm distance aggregated value"
   ]
  },
  {
   "cell_type": "code",
   "execution_count": 62,
   "id": "d144d350",
   "metadata": {},
   "outputs": [
    {
     "data": {
      "text/html": [
       "<div>\n",
       "<style scoped>\n",
       "    .dataframe tbody tr th:only-of-type {\n",
       "        vertical-align: middle;\n",
       "    }\n",
       "\n",
       "    .dataframe tbody tr th {\n",
       "        vertical-align: top;\n",
       "    }\n",
       "\n",
       "    .dataframe thead th {\n",
       "        text-align: right;\n",
       "    }\n",
       "</style>\n",
       "<table border=\"1\" class=\"dataframe\">\n",
       "  <thead>\n",
       "    <tr style=\"text-align: right;\">\n",
       "      <th></th>\n",
       "      <th>osrm_distance</th>\n",
       "      <th>segment_osrm_distance_agg_value</th>\n",
       "    </tr>\n",
       "  </thead>\n",
       "  <tbody>\n",
       "    <tr>\n",
       "      <th>0</th>\n",
       "      <td>544.8027</td>\n",
       "      <td>649.8528</td>\n",
       "    </tr>\n",
       "    <tr>\n",
       "      <th>1</th>\n",
       "      <td>56.9116</td>\n",
       "      <td>55.9899</td>\n",
       "    </tr>\n",
       "    <tr>\n",
       "      <th>2</th>\n",
       "      <td>2072.8556</td>\n",
       "      <td>2227.5270</td>\n",
       "    </tr>\n",
       "    <tr>\n",
       "      <th>3</th>\n",
       "      <td>19.6800</td>\n",
       "      <td>19.8766</td>\n",
       "    </tr>\n",
       "    <tr>\n",
       "      <th>4</th>\n",
       "      <td>29.5696</td>\n",
       "      <td>29.5697</td>\n",
       "    </tr>\n",
       "    <tr>\n",
       "      <th>...</th>\n",
       "      <td>...</td>\n",
       "      <td>...</td>\n",
       "    </tr>\n",
       "    <tr>\n",
       "      <th>14782</th>\n",
       "      <td>28.8991</td>\n",
       "      <td>28.8991</td>\n",
       "    </tr>\n",
       "    <tr>\n",
       "      <th>14783</th>\n",
       "      <td>16.0882</td>\n",
       "      <td>16.0883</td>\n",
       "    </tr>\n",
       "    <tr>\n",
       "      <th>14784</th>\n",
       "      <td>30.0545</td>\n",
       "      <td>35.4369</td>\n",
       "    </tr>\n",
       "    <tr>\n",
       "      <th>14785</th>\n",
       "      <td>16.0185</td>\n",
       "      <td>16.0184</td>\n",
       "    </tr>\n",
       "    <tr>\n",
       "      <th>14786</th>\n",
       "      <td>28.0484</td>\n",
       "      <td>28.0484</td>\n",
       "    </tr>\n",
       "  </tbody>\n",
       "</table>\n",
       "<p>14787 rows × 2 columns</p>\n",
       "</div>"
      ],
      "text/plain": [
       "       osrm_distance  segment_osrm_distance_agg_value\n",
       "0           544.8027                         649.8528\n",
       "1            56.9116                          55.9899\n",
       "2          2072.8556                        2227.5270\n",
       "3            19.6800                          19.8766\n",
       "4            29.5696                          29.5697\n",
       "...              ...                              ...\n",
       "14782        28.8991                          28.8991\n",
       "14783        16.0882                          16.0883\n",
       "14784        30.0545                          35.4369\n",
       "14785        16.0185                          16.0184\n",
       "14786        28.0484                          28.0484\n",
       "\n",
       "[14787 rows x 2 columns]"
      ]
     },
     "execution_count": 62,
     "metadata": {},
     "output_type": "execute_result"
    }
   ],
   "source": [
    "second_segment[[\"osrm_distance\",\"segment_osrm_distance_agg_value\"]]"
   ]
  },
  {
   "cell_type": "code",
   "execution_count": 63,
   "id": "64c503ed",
   "metadata": {},
   "outputs": [],
   "source": [
    "# second_segment[second_segment[\"trip_uuid\"]==\"trip-153741093647649320\"][['trip_uuid',\"osrm_distance\",\"segment_osrm_distance_agg_value\"]]"
   ]
  },
  {
   "cell_type": "code",
   "execution_count": 64,
   "id": "13671007",
   "metadata": {},
   "outputs": [],
   "source": [
    "# df[df[\"trip_uuid\"]==\"trip-153741093647649320\"][['trip_uuid',\"osrm_distance\",\"segment_osrm_distance\"]]"
   ]
  },
  {
   "cell_type": "code",
   "execution_count": 65,
   "id": "101aaf0d",
   "metadata": {},
   "outputs": [],
   "source": [
    "plot3=second_segment[[\"osrm_distance\",\"segment_osrm_distance_agg_value\"]]"
   ]
  },
  {
   "cell_type": "code",
   "execution_count": 66,
   "id": "44c3bb9c",
   "metadata": {},
   "outputs": [
    {
     "data": {
      "text/plain": [
       "<AxesSubplot:>"
      ]
     },
     "execution_count": 66,
     "metadata": {},
     "output_type": "execute_result"
    },
    {
     "data": {
      "image/png": "[encoded data removed]",
      "text/plain": [
       "<Figure size 432x288 with 1 Axes>"
      ]
     },
     "metadata": {
      "needs_background": "light"
     },
     "output_type": "display_data"
    }
   ],
   "source": [
    "plot3.boxplot()"
   ]
  },
  {
   "cell_type": "code",
   "execution_count": 67,
   "id": "9eed359d",
   "metadata": {},
   "outputs": [],
   "source": [
    "plot3 = pd.DataFrame([second_segment[\"osrm_distance\"].mean(),second_segment[\"segment_osrm_distance_agg_value\"].mean()],index=[\"Osrm_distance\",\"Segment_Osrm_distance\"]).reset_index()"
   ]
  },
  {
   "cell_type": "code",
   "execution_count": 68,
   "id": "6cb6b72d",
   "metadata": {},
   "outputs": [],
   "source": [
    "plot3.rename(columns={'index':\"time\",0:'values'},inplace=True)"
   ]
  },
  {
   "cell_type": "code",
   "execution_count": 69,
   "id": "c888b0d1",
   "metadata": {},
   "outputs": [
    {
     "data": {
      "text/plain": [
       "<AxesSubplot:xlabel='time', ylabel='values'>"
      ]
     },
     "execution_count": 69,
     "metadata": {},
     "output_type": "execute_result"
    },
    {
     "data": {
      "image/png": "[encoded data removed]",
      "text/plain": [
       "<Figure size 432x288 with 1 Axes>"
      ]
     },
     "metadata": {
      "needs_background": "light"
     },
     "output_type": "display_data"
    }
   ],
   "source": [
    "sns.barplot(x=plot3[\"time\"],y=plot3[\"values\"])"
   ]
  },
  {
   "cell_type": "markdown",
   "id": "40dad7bc",
   "metadata": {},
   "source": [
    "### Performing T Test \n",
    "\n",
    "#### H0: There is no significant difference between Osrm distance and Segment segment osrm distance \n",
    "#### Ha: There is significant difference between Osrm distance value and segment osrm distance"
   ]
  },
  {
   "cell_type": "code",
   "execution_count": 70,
   "id": "5d943b7c",
   "metadata": {},
   "outputs": [],
   "source": [
    "H0= \"There is no significant difference between Osrm distance and Segment segment osrm distance\"\n",
    "Ha= \"There is significant difference between Osrm distance value and segment osrm distance\"\n",
    "alpha = 0.05 #significance"
   ]
  },
  {
   "cell_type": "code",
   "execution_count": 71,
   "id": "9b84f735",
   "metadata": {},
   "outputs": [
    {
     "name": "stdout",
     "output_type": "stream",
     "text": [
      "Tstat:  -3.5706465151932707\n",
      "Pvalue:  0.00017833289435327187\n",
      "Reject Null Hypothesis\n",
      "There is significant difference between Osrm distance value and segment osrm distance\n"
     ]
    }
   ],
   "source": [
    "tstat,pval = ttest_ind(second_segment[\"osrm_distance\"],second_segment[\"segment_osrm_distance_agg_value\"],alternative=\"less\")\n",
    "\n",
    "print(\"Tstat: \",tstat)\n",
    "print(\"Pvalue: \",pval)\n",
    "if pval<alpha:\n",
    "    print(\"Reject Null Hypothesis\")\n",
    "    print(Ha)\n",
    "else:\n",
    "    print(\"Failed to reject Null Hypothesis\")\n",
    "    print(H0)"
   ]
  },
  {
   "cell_type": "markdown",
   "id": "5731e21d",
   "metadata": {},
   "source": [
    "## osrm time aggregated value and segment osrm time aggregated value "
   ]
  },
  {
   "cell_type": "code",
   "execution_count": 72,
   "id": "d4300289",
   "metadata": {},
   "outputs": [
    {
     "data": {
      "text/html": [
       "<div>\n",
       "<style scoped>\n",
       "    .dataframe tbody tr th:only-of-type {\n",
       "        vertical-align: middle;\n",
       "    }\n",
       "\n",
       "    .dataframe tbody tr th {\n",
       "        vertical-align: top;\n",
       "    }\n",
       "\n",
       "    .dataframe thead th {\n",
       "        text-align: right;\n",
       "    }\n",
       "</style>\n",
       "<table border=\"1\" class=\"dataframe\">\n",
       "  <thead>\n",
       "    <tr style=\"text-align: right;\">\n",
       "      <th></th>\n",
       "      <th>osrm_time</th>\n",
       "      <th>segment_osrm_time_agg_value</th>\n",
       "    </tr>\n",
       "  </thead>\n",
       "  <tbody>\n",
       "    <tr>\n",
       "      <th>0</th>\n",
       "      <td>388.0</td>\n",
       "      <td>474.0</td>\n",
       "    </tr>\n",
       "    <tr>\n",
       "      <th>1</th>\n",
       "      <td>42.0</td>\n",
       "      <td>39.0</td>\n",
       "    </tr>\n",
       "    <tr>\n",
       "      <th>2</th>\n",
       "      <td>1528.0</td>\n",
       "      <td>1710.0</td>\n",
       "    </tr>\n",
       "    <tr>\n",
       "      <th>3</th>\n",
       "      <td>15.0</td>\n",
       "      <td>16.0</td>\n",
       "    </tr>\n",
       "    <tr>\n",
       "      <th>4</th>\n",
       "      <td>27.0</td>\n",
       "      <td>26.0</td>\n",
       "    </tr>\n",
       "    <tr>\n",
       "      <th>...</th>\n",
       "      <td>...</td>\n",
       "      <td>...</td>\n",
       "    </tr>\n",
       "    <tr>\n",
       "      <th>14782</th>\n",
       "      <td>28.0</td>\n",
       "      <td>28.0</td>\n",
       "    </tr>\n",
       "    <tr>\n",
       "      <th>14783</th>\n",
       "      <td>12.0</td>\n",
       "      <td>11.0</td>\n",
       "    </tr>\n",
       "    <tr>\n",
       "      <th>14784</th>\n",
       "      <td>24.0</td>\n",
       "      <td>36.0</td>\n",
       "    </tr>\n",
       "    <tr>\n",
       "      <th>14785</th>\n",
       "      <td>14.0</td>\n",
       "      <td>14.0</td>\n",
       "    </tr>\n",
       "    <tr>\n",
       "      <th>14786</th>\n",
       "      <td>26.0</td>\n",
       "      <td>25.0</td>\n",
       "    </tr>\n",
       "  </tbody>\n",
       "</table>\n",
       "<p>14787 rows × 2 columns</p>\n",
       "</div>"
      ],
      "text/plain": [
       "       osrm_time  segment_osrm_time_agg_value\n",
       "0          388.0                        474.0\n",
       "1           42.0                         39.0\n",
       "2         1528.0                       1710.0\n",
       "3           15.0                         16.0\n",
       "4           27.0                         26.0\n",
       "...          ...                          ...\n",
       "14782       28.0                         28.0\n",
       "14783       12.0                         11.0\n",
       "14784       24.0                         36.0\n",
       "14785       14.0                         14.0\n",
       "14786       26.0                         25.0\n",
       "\n",
       "[14787 rows x 2 columns]"
      ]
     },
     "execution_count": 72,
     "metadata": {},
     "output_type": "execute_result"
    }
   ],
   "source": [
    "second_segment[[\"osrm_time\",\"segment_osrm_time_agg_value\"]]"
   ]
  },
  {
   "cell_type": "code",
   "execution_count": 73,
   "id": "95d68af2",
   "metadata": {},
   "outputs": [],
   "source": [
    "plot4=second_segment[[\"osrm_time\",\"segment_osrm_time_agg_value\"]]"
   ]
  },
  {
   "cell_type": "code",
   "execution_count": 74,
   "id": "d63681aa",
   "metadata": {},
   "outputs": [
    {
     "data": {
      "text/plain": [
       "<AxesSubplot:>"
      ]
     },
     "execution_count": 74,
     "metadata": {},
     "output_type": "execute_result"
    },
    {
     "data": {
      "image/png": "[encoded data removed]",
      "text/plain": [
       "<Figure size 432x288 with 1 Axes>"
      ]
     },
     "metadata": {
      "needs_background": "light"
     },
     "output_type": "display_data"
    }
   ],
   "source": [
    "plot4.boxplot()"
   ]
  },
  {
   "cell_type": "code",
   "execution_count": 75,
   "id": "72fc5a57",
   "metadata": {},
   "outputs": [],
   "source": [
    "plot4 = pd.DataFrame([second_segment[\"osrm_time\"].mean(),second_segment[\"segment_osrm_time_agg_value\"].mean()],index=[\"Osrm_time\",\"Segment_Osrm_time\"]).reset_index()"
   ]
  },
  {
   "cell_type": "code",
   "execution_count": 76,
   "id": "ea10929a",
   "metadata": {},
   "outputs": [],
   "source": [
    "plot4.rename(columns={'index':\"time\",0:'values'},inplace=True)"
   ]
  },
  {
   "cell_type": "code",
   "execution_count": 77,
   "id": "f385acf1",
   "metadata": {},
   "outputs": [
    {
     "data": {
      "text/plain": [
       "<AxesSubplot:xlabel='time', ylabel='values'>"
      ]
     },
     "execution_count": 77,
     "metadata": {},
     "output_type": "execute_result"
    },
    {
     "data": {
      "image/png": "[encoded data removed]",
      "text/plain": [
       "<Figure size 432x288 with 1 Axes>"
      ]
     },
     "metadata": {
      "needs_background": "light"
     },
     "output_type": "display_data"
    }
   ],
   "source": [
    "sns.barplot(x=plot4[\"time\"],y=plot4[\"values\"])"
   ]
  },
  {
   "cell_type": "markdown",
   "id": "1178185c",
   "metadata": {},
   "source": [
    "### Performing T Test \n",
    "\n",
    "#### H0: There is no significant difference between Osrm time and Segment osrm time \n",
    "#### Ha: There is significant difference between Osrm time value and segment osrm time"
   ]
  },
  {
   "cell_type": "code",
   "execution_count": 78,
   "id": "71691504",
   "metadata": {},
   "outputs": [],
   "source": [
    "H0= \"There is no significant difference between Osrm time and Segment segment osrm time\"\n",
    "Ha= \"There is significant difference between Osrm time value and segment osrm time\"\n",
    "alpha = 0.05 #significance"
   ]
  },
  {
   "cell_type": "code",
   "execution_count": 79,
   "id": "9f2764a6",
   "metadata": {},
   "outputs": [
    {
     "name": "stdout",
     "output_type": "stream",
     "text": [
      "Tstat:  -3.5706465151932707\n",
      "Pvalue:  0.00017833289435327187\n",
      "Reject Null Hypothesis\n",
      "There is significant difference between Osrm time value and segment osrm time\n"
     ]
    }
   ],
   "source": [
    "tstat,pval = ttest_ind(second_segment[\"osrm_distance\"],second_segment[\"segment_osrm_distance_agg_value\"],alternative=\"less\")\n",
    "\n",
    "print(\"Tstat: \",tstat)\n",
    "print(\"Pvalue: \",pval)\n",
    "if pval<alpha:\n",
    "    print(\"Reject Null Hypothesis\")\n",
    "    print(Ha)\n",
    "else:\n",
    "    print(\"Failed to reject Null Hypothesis\")\n",
    "    print(H0)"
   ]
  },
  {
   "cell_type": "markdown",
   "id": "b2da7a19",
   "metadata": {},
   "source": [
    "outliers in the numerical variables"
   ]
  },
  {
   "cell_type": "code",
   "execution_count": 80,
   "id": "98eeb2a5",
   "metadata": {},
   "outputs": [
    {
     "data": {
      "text/plain": [
       "Index(['data', 'trip_creation_time', 'route_schedule_uuid', 'route_type',\n",
       "       'trip_uuid', 'source_center', 'source_name', 'destination_center',\n",
       "       'destination_name', 'start_scan_to_end_scan', 'od_scan_time',\n",
       "       'actual_distance_to_destination', 'actual_time', 'osrm_time',\n",
       "       'osrm_distance', 'actual_time_agg_value', 'osrm_time_agg_value',\n",
       "       'segment_actual_time_agg_value', 'osrm_distance_agg_value',\n",
       "       'segment_osrm_distance_agg_value', 'segment_osrm_time_agg_value',\n",
       "       'trip_creation_year', 'trip_creation_month', 'trip_creation_week',\n",
       "       'trip_creation_day', 'trip_creation_hour'],\n",
       "      dtype='object')"
      ]
     },
     "execution_count": 80,
     "metadata": {},
     "output_type": "execute_result"
    }
   ],
   "source": [
    "second_segment.columns"
   ]
  },
  {
   "cell_type": "code",
   "execution_count": 81,
   "id": "56f01c1b",
   "metadata": {},
   "outputs": [],
   "source": [
    "cols = ['trip_creation_time','start_scan_to_end_scan', 'od_scan_time',\n",
    "       'actual_distance_to_destination', 'actual_time', 'osrm_time',\n",
    "       'osrm_distance', 'actual_time_agg_value', 'osrm_time_agg_value',\n",
    "       'segment_actual_time_agg_value', 'osrm_distance_agg_value',\n",
    "       'segment_osrm_distance_agg_value', 'segment_osrm_time_agg_value']"
   ]
  },
  {
   "cell_type": "code",
   "execution_count": 82,
   "id": "d0a145c0",
   "metadata": {},
   "outputs": [
    {
     "data": {
      "text/plain": [
       "<AxesSubplot:>"
      ]
     },
     "execution_count": 82,
     "metadata": {},
     "output_type": "execute_result"
    },
    {
     "data": {
      "image/png": "[encoded data removed]",
      "text/plain": [
       "<Figure size 1800x576 with 1 Axes>"
      ]
     },
     "metadata": {
      "needs_background": "light"
     },
     "output_type": "display_data"
    }
   ],
   "source": [
    "second_segment[cols].boxplot(rot=25, figsize=(25,8))"
   ]
  },
  {
   "cell_type": "code",
   "execution_count": 83,
   "id": "5e002cbf",
   "metadata": {},
   "outputs": [],
   "source": [
    "q1 = second_segment[cols].quantile(0.25)\n",
    "q3 = second_segment[cols].quantile(0.75)\n",
    "\n",
    "iqr = q3 - q1"
   ]
  },
  {
   "cell_type": "code",
   "execution_count": 84,
   "id": "d68279e1",
   "metadata": {},
   "outputs": [
    {
     "data": {
      "text/plain": [
       "start_scan_to_end_scan             483.000000\n",
       "od_scan_time                       483.839201\n",
       "actual_distance_to_destination     140.814159\n",
       "actual_time                        128.000000\n",
       "osrm_time                           49.000000\n",
       "osrm_distance                       59.207750\n",
       "actual_time_agg_value              400.000000\n",
       "osrm_time_agg_value                190.000000\n",
       "segment_actual_time_agg_value      127.000000\n",
       "osrm_distance_agg_value            212.461150\n",
       "segment_osrm_distance_agg_value     65.621350\n",
       "segment_osrm_time_agg_value         56.000000\n",
       "dtype: float64"
      ]
     },
     "execution_count": 84,
     "metadata": {},
     "output_type": "execute_result"
    }
   ],
   "source": [
    "iqr"
   ]
  },
  {
   "cell_type": "code",
   "execution_count": 85,
   "id": "3dca7297",
   "metadata": {},
   "outputs": [],
   "source": [
    "second_segment = second_segment[-((second_segment[cols[1:]] < (q1 - 1.5 * iqr)) | (second_segment[cols[1:]] > (q3 + 1.5 * iqr))).any(axis=1)]\n",
    "second_segment = second_segment.reset_index(drop=True) "
   ]
  },
  {
   "cell_type": "code",
   "execution_count": 86,
   "id": "0b80c25a",
   "metadata": {},
   "outputs": [
    {
     "data": {
      "text/plain": [
       "<AxesSubplot:>"
      ]
     },
     "execution_count": 86,
     "metadata": {},
     "output_type": "execute_result"
    },
    {
     "data": {
      "image/png": "[encoded data removed]",
      "text/plain": [
       "<Figure size 1800x576 with 1 Axes>"
      ]
     },
     "metadata": {
      "needs_background": "light"
     },
     "output_type": "display_data"
    }
   ],
   "source": [
    "second_segment[cols].boxplot(rot=25, figsize=(25,8))"
   ]
  },
  {
   "cell_type": "markdown",
   "id": "db037778",
   "metadata": {},
   "source": [
    "Do one-hot encoding of categorical variables "
   ]
  },
  {
   "cell_type": "code",
   "execution_count": 87,
   "id": "08d58004",
   "metadata": {},
   "outputs": [
    {
     "data": {
      "text/plain": [
       "0        Carting\n",
       "1        Carting\n",
       "2            FTL\n",
       "3        Carting\n",
       "4        Carting\n",
       "          ...   \n",
       "11580    Carting\n",
       "11581    Carting\n",
       "11582    Carting\n",
       "11583    Carting\n",
       "11584        FTL\n",
       "Name: route_type, Length: 11585, dtype: object"
      ]
     },
     "execution_count": 87,
     "metadata": {},
     "output_type": "execute_result"
    }
   ],
   "source": [
    "second_segment[\"route_type\"]"
   ]
  },
  {
   "cell_type": "code",
   "execution_count": 88,
   "id": "fac921b2",
   "metadata": {},
   "outputs": [],
   "source": [
    "def func(x):\n",
    "    if x == \"FTL\":\n",
    "        return 0\n",
    "    return 1"
   ]
  },
  {
   "cell_type": "code",
   "execution_count": 89,
   "id": "70dd8f23",
   "metadata": {},
   "outputs": [],
   "source": [
    "second_segment[\"route_type\"] = second_segment[\"route_type\"].apply(lambda x: func(x))"
   ]
  },
  {
   "cell_type": "code",
   "execution_count": 90,
   "id": "7cee9d63",
   "metadata": {},
   "outputs": [
    {
     "data": {
      "text/plain": [
       "0        1\n",
       "1        1\n",
       "2        0\n",
       "3        1\n",
       "4        1\n",
       "        ..\n",
       "11580    1\n",
       "11581    1\n",
       "11582    1\n",
       "11583    1\n",
       "11584    0\n",
       "Name: route_type, Length: 11585, dtype: int64"
      ]
     },
     "execution_count": 90,
     "metadata": {},
     "output_type": "execute_result"
    }
   ],
   "source": [
    "second_segment[\"route_type\"]"
   ]
  },
  {
   "cell_type": "code",
   "execution_count": 91,
   "id": "da3966e0",
   "metadata": {},
   "outputs": [
    {
     "data": {
      "text/plain": [
       "array(['training', 'test'], dtype=object)"
      ]
     },
     "execution_count": 91,
     "metadata": {},
     "output_type": "execute_result"
    }
   ],
   "source": [
    "second_segment[\"data\"].unique()"
   ]
  },
  {
   "cell_type": "code",
   "execution_count": 92,
   "id": "cc2a4e93",
   "metadata": {},
   "outputs": [],
   "source": [
    "second_segment[\"data\"] = second_segment[\"data\"].map({\"training\":0,\"test\":1})"
   ]
  },
  {
   "cell_type": "markdown",
   "id": "a3aaa7ff",
   "metadata": {},
   "source": [
    "### Normalize/ Standardize the numerical features using MinMaxScaler or StandardScaler.\n"
   ]
  },
  {
   "cell_type": "code",
   "execution_count": 93,
   "id": "927cd094",
   "metadata": {},
   "outputs": [],
   "source": [
    "from sklearn.preprocessing import StandardScaler"
   ]
  },
  {
   "cell_type": "code",
   "execution_count": 94,
   "id": "fcee6e03",
   "metadata": {},
   "outputs": [
    {
     "data": {
      "text/plain": [
       "StandardScaler()"
      ]
     },
     "execution_count": 94,
     "metadata": {},
     "output_type": "execute_result"
    }
   ],
   "source": [
    "second_segment_copy = second_segment.copy()\n",
    "stdscr = StandardScaler()\n",
    "stdscr.fit(second_segment_copy[cols[1:]])"
   ]
  },
  {
   "cell_type": "code",
   "execution_count": null,
   "id": "7544cfa5",
   "metadata": {},
   "outputs": [],
   "source": []
  },
  {
   "cell_type": "code",
   "execution_count": 95,
   "id": "ff111190",
   "metadata": {},
   "outputs": [
    {
     "data": {
      "text/html": [
       "<div>\n",
       "<style scoped>\n",
       "    .dataframe tbody tr th:only-of-type {\n",
       "        vertical-align: middle;\n",
       "    }\n",
       "\n",
       "    .dataframe tbody tr th {\n",
       "        vertical-align: top;\n",
       "    }\n",
       "\n",
       "    .dataframe thead th {\n",
       "        text-align: right;\n",
       "    }\n",
       "</style>\n",
       "<table border=\"1\" class=\"dataframe\">\n",
       "  <thead>\n",
       "    <tr style=\"text-align: right;\">\n",
       "      <th></th>\n",
       "      <th>data</th>\n",
       "      <th>trip_creation_time</th>\n",
       "      <th>route_schedule_uuid</th>\n",
       "      <th>route_type</th>\n",
       "      <th>trip_uuid</th>\n",
       "      <th>source_center</th>\n",
       "      <th>source_name</th>\n",
       "      <th>destination_center</th>\n",
       "      <th>destination_name</th>\n",
       "      <th>start_scan_to_end_scan</th>\n",
       "      <th>...</th>\n",
       "      <th>osrm_time_agg_value</th>\n",
       "      <th>segment_actual_time_agg_value</th>\n",
       "      <th>osrm_distance_agg_value</th>\n",
       "      <th>segment_osrm_distance_agg_value</th>\n",
       "      <th>segment_osrm_time_agg_value</th>\n",
       "      <th>trip_creation_year</th>\n",
       "      <th>trip_creation_month</th>\n",
       "      <th>trip_creation_week</th>\n",
       "      <th>trip_creation_day</th>\n",
       "      <th>trip_creation_hour</th>\n",
       "    </tr>\n",
       "  </thead>\n",
       "  <tbody>\n",
       "    <tr>\n",
       "      <th>0</th>\n",
       "      <td>0</td>\n",
       "      <td>2018-09-12 00:00:22.886430</td>\n",
       "      <td>thanos::sroute:3a1b0ab2-bb0b-4c53-8c59-eb2a2c0...</td>\n",
       "      <td>1</td>\n",
       "      <td>trip-153671042288605164</td>\n",
       "      <td>IND561203AAB</td>\n",
       "      <td>Doddablpur_ChikaDPP_D (Karnataka)</td>\n",
       "      <td>IND561203AAB</td>\n",
       "      <td>Doddablpur_ChikaDPP_D (Karnataka)</td>\n",
       "      <td>180.0</td>\n",
       "      <td>...</td>\n",
       "      <td>155.0</td>\n",
       "      <td>95.0</td>\n",
       "      <td>209.1151</td>\n",
       "      <td>55.9899</td>\n",
       "      <td>39.0</td>\n",
       "      <td>2018</td>\n",
       "      <td>9</td>\n",
       "      <td>37</td>\n",
       "      <td>12</td>\n",
       "      <td>0</td>\n",
       "    </tr>\n",
       "    <tr>\n",
       "      <th>1</th>\n",
       "      <td>0</td>\n",
       "      <td>2018-09-12 00:01:00.113710</td>\n",
       "      <td>thanos::sroute:f0176492-a679-4597-8332-bbd1c7f...</td>\n",
       "      <td>1</td>\n",
       "      <td>trip-153671046011330457</td>\n",
       "      <td>IND400072AAB</td>\n",
       "      <td>Mumbai Hub (Maharashtra)</td>\n",
       "      <td>IND401104AAA</td>\n",
       "      <td>Mumbai_MiraRd_IP (Maharashtra)</td>\n",
       "      <td>100.0</td>\n",
       "      <td>...</td>\n",
       "      <td>24.0</td>\n",
       "      <td>59.0</td>\n",
       "      <td>31.6475</td>\n",
       "      <td>19.8766</td>\n",
       "      <td>16.0</td>\n",
       "      <td>2018</td>\n",
       "      <td>9</td>\n",
       "      <td>37</td>\n",
       "      <td>12</td>\n",
       "      <td>0</td>\n",
       "    </tr>\n",
       "    <tr>\n",
       "      <th>2</th>\n",
       "      <td>0</td>\n",
       "      <td>2018-09-12 00:02:09.740725</td>\n",
       "      <td>thanos::sroute:d9f07b12-65e0-4f3b-bec8-df06134...</td>\n",
       "      <td>0</td>\n",
       "      <td>trip-153671052974046625</td>\n",
       "      <td>IND583101AAA</td>\n",
       "      <td>Bellary_Dc (Karnataka)</td>\n",
       "      <td>IND583119AAA</td>\n",
       "      <td>Sandur_WrdN1DPP_D (Karnataka)</td>\n",
       "      <td>717.0</td>\n",
       "      <td>...</td>\n",
       "      <td>48.0</td>\n",
       "      <td>63.0</td>\n",
       "      <td>53.1588</td>\n",
       "      <td>29.5697</td>\n",
       "      <td>26.0</td>\n",
       "      <td>2018</td>\n",
       "      <td>9</td>\n",
       "      <td>37</td>\n",
       "      <td>12</td>\n",
       "      <td>0</td>\n",
       "    </tr>\n",
       "    <tr>\n",
       "      <th>3</th>\n",
       "      <td>0</td>\n",
       "      <td>2018-09-12 00:02:34.161600</td>\n",
       "      <td>thanos::sroute:9bf03170-d0a2-4a3f-aa4d-9aaab3d...</td>\n",
       "      <td>1</td>\n",
       "      <td>trip-153671055416136166</td>\n",
       "      <td>IND600116AAB</td>\n",
       "      <td>Chennai_Porur_DPC (Tamil Nadu)</td>\n",
       "      <td>IND602105AAB</td>\n",
       "      <td>Chennai_Sriperumbudur_Dc (Tamil Nadu)</td>\n",
       "      <td>189.0</td>\n",
       "      <td>...</td>\n",
       "      <td>19.0</td>\n",
       "      <td>39.0</td>\n",
       "      <td>26.3531</td>\n",
       "      <td>16.2225</td>\n",
       "      <td>12.0</td>\n",
       "      <td>2018</td>\n",
       "      <td>9</td>\n",
       "      <td>37</td>\n",
       "      <td>12</td>\n",
       "      <td>0</td>\n",
       "    </tr>\n",
       "    <tr>\n",
       "      <th>4</th>\n",
       "      <td>0</td>\n",
       "      <td>2018-09-12 00:04:22.011653</td>\n",
       "      <td>thanos::sroute:a97698cc-846e-41a7-916b-88b1741...</td>\n",
       "      <td>1</td>\n",
       "      <td>trip-153671066201138152</td>\n",
       "      <td>IND600044AAD</td>\n",
       "      <td>Chennai_Chrompet_DPC (Tamil Nadu)</td>\n",
       "      <td>IND600048AAA</td>\n",
       "      <td>Chennai_Vandalur_Dc (Tamil Nadu)</td>\n",
       "      <td>98.0</td>\n",
       "      <td>...</td>\n",
       "      <td>13.0</td>\n",
       "      <td>24.0</td>\n",
       "      <td>12.0184</td>\n",
       "      <td>12.0184</td>\n",
       "      <td>13.0</td>\n",
       "      <td>2018</td>\n",
       "      <td>9</td>\n",
       "      <td>37</td>\n",
       "      <td>12</td>\n",
       "      <td>0</td>\n",
       "    </tr>\n",
       "    <tr>\n",
       "      <th>...</th>\n",
       "      <td>...</td>\n",
       "      <td>...</td>\n",
       "      <td>...</td>\n",
       "      <td>...</td>\n",
       "      <td>...</td>\n",
       "      <td>...</td>\n",
       "      <td>...</td>\n",
       "      <td>...</td>\n",
       "      <td>...</td>\n",
       "      <td>...</td>\n",
       "      <td>...</td>\n",
       "      <td>...</td>\n",
       "      <td>...</td>\n",
       "      <td>...</td>\n",
       "      <td>...</td>\n",
       "      <td>...</td>\n",
       "      <td>...</td>\n",
       "      <td>...</td>\n",
       "      <td>...</td>\n",
       "      <td>...</td>\n",
       "      <td>...</td>\n",
       "    </tr>\n",
       "    <tr>\n",
       "      <th>11580</th>\n",
       "      <td>1</td>\n",
       "      <td>2018-10-03 23:55:56.258533</td>\n",
       "      <td>thanos::sroute:8a120994-f577-4491-9e4b-b7e4a14...</td>\n",
       "      <td>1</td>\n",
       "      <td>trip-153861095625827784</td>\n",
       "      <td>IND160102AAD</td>\n",
       "      <td>Chandigarh_Raiprkln_C (Chandigarh)</td>\n",
       "      <td>IND140603AAA</td>\n",
       "      <td>Zirakpur_DC (Punjab)</td>\n",
       "      <td>257.0</td>\n",
       "      <td>...</td>\n",
       "      <td>51.0</td>\n",
       "      <td>33.0</td>\n",
       "      <td>58.2599</td>\n",
       "      <td>28.8991</td>\n",
       "      <td>28.0</td>\n",
       "      <td>2018</td>\n",
       "      <td>10</td>\n",
       "      <td>40</td>\n",
       "      <td>3</td>\n",
       "      <td>23</td>\n",
       "    </tr>\n",
       "    <tr>\n",
       "      <th>11581</th>\n",
       "      <td>1</td>\n",
       "      <td>2018-10-03 23:57:23.863155</td>\n",
       "      <td>thanos::sroute:b30e1ec3-3bfa-4bd2-a7fb-3b75769...</td>\n",
       "      <td>1</td>\n",
       "      <td>trip-153861104386292051</td>\n",
       "      <td>IND121004AAB</td>\n",
       "      <td>FBD_Balabhgarh_DPC (Haryana)</td>\n",
       "      <td>IND121004AAA</td>\n",
       "      <td>Faridabad_Blbgarh_DC (Haryana)</td>\n",
       "      <td>60.0</td>\n",
       "      <td>...</td>\n",
       "      <td>19.0</td>\n",
       "      <td>21.0</td>\n",
       "      <td>26.5333</td>\n",
       "      <td>16.0883</td>\n",
       "      <td>11.0</td>\n",
       "      <td>2018</td>\n",
       "      <td>10</td>\n",
       "      <td>40</td>\n",
       "      <td>3</td>\n",
       "      <td>23</td>\n",
       "    </tr>\n",
       "    <tr>\n",
       "      <th>11582</th>\n",
       "      <td>1</td>\n",
       "      <td>2018-10-03 23:57:44.429324</td>\n",
       "      <td>thanos::sroute:5609c268-e436-4e0a-8180-3db4a74...</td>\n",
       "      <td>1</td>\n",
       "      <td>trip-153861106442901555</td>\n",
       "      <td>IND209304AAA</td>\n",
       "      <td>Kanpur_Central_H_6 (Uttar Pradesh)</td>\n",
       "      <td>IND209304AAA</td>\n",
       "      <td>Kanpur_Central_H_6 (Uttar Pradesh)</td>\n",
       "      <td>421.0</td>\n",
       "      <td>...</td>\n",
       "      <td>61.0</td>\n",
       "      <td>190.0</td>\n",
       "      <td>74.2798</td>\n",
       "      <td>35.4369</td>\n",
       "      <td>36.0</td>\n",
       "      <td>2018</td>\n",
       "      <td>10</td>\n",
       "      <td>40</td>\n",
       "      <td>3</td>\n",
       "      <td>23</td>\n",
       "    </tr>\n",
       "    <tr>\n",
       "      <th>11583</th>\n",
       "      <td>1</td>\n",
       "      <td>2018-10-03 23:59:14.390954</td>\n",
       "      <td>thanos::sroute:c5f2ba2c-8486-4940-8af6-d1d2a6a...</td>\n",
       "      <td>1</td>\n",
       "      <td>trip-153861115439069069</td>\n",
       "      <td>IND628204AAA</td>\n",
       "      <td>Tirchchndr_Shnmgprm_D (Tamil Nadu)</td>\n",
       "      <td>IND628204AAA</td>\n",
       "      <td>Tirchchndr_Shnmgprm_D (Tamil Nadu)</td>\n",
       "      <td>347.0</td>\n",
       "      <td>...</td>\n",
       "      <td>22.0</td>\n",
       "      <td>29.0</td>\n",
       "      <td>25.5371</td>\n",
       "      <td>16.0184</td>\n",
       "      <td>14.0</td>\n",
       "      <td>2018</td>\n",
       "      <td>10</td>\n",
       "      <td>40</td>\n",
       "      <td>3</td>\n",
       "      <td>23</td>\n",
       "    </tr>\n",
       "    <tr>\n",
       "      <th>11584</th>\n",
       "      <td>1</td>\n",
       "      <td>2018-10-03 23:59:42.701692</td>\n",
       "      <td>thanos::sroute:412fea14-6d1f-4222-8a5f-a517042...</td>\n",
       "      <td>0</td>\n",
       "      <td>trip-153861118270144424</td>\n",
       "      <td>IND583119AAA</td>\n",
       "      <td>Sandur_WrdN1DPP_D (Karnataka)</td>\n",
       "      <td>IND583119AAA</td>\n",
       "      <td>Sandur_WrdN1DPP_D (Karnataka)</td>\n",
       "      <td>353.0</td>\n",
       "      <td>...</td>\n",
       "      <td>47.0</td>\n",
       "      <td>41.0</td>\n",
       "      <td>51.2851</td>\n",
       "      <td>28.0484</td>\n",
       "      <td>25.0</td>\n",
       "      <td>2018</td>\n",
       "      <td>10</td>\n",
       "      <td>40</td>\n",
       "      <td>3</td>\n",
       "      <td>23</td>\n",
       "    </tr>\n",
       "  </tbody>\n",
       "</table>\n",
       "<p>11585 rows × 26 columns</p>\n",
       "</div>"
      ],
      "text/plain": [
       "       data         trip_creation_time  \\\n",
       "0         0 2018-09-12 00:00:22.886430   \n",
       "1         0 2018-09-12 00:01:00.113710   \n",
       "2         0 2018-09-12 00:02:09.740725   \n",
       "3         0 2018-09-12 00:02:34.161600   \n",
       "4         0 2018-09-12 00:04:22.011653   \n",
       "...     ...                        ...   \n",
       "11580     1 2018-10-03 23:55:56.258533   \n",
       "11581     1 2018-10-03 23:57:23.863155   \n",
       "11582     1 2018-10-03 23:57:44.429324   \n",
       "11583     1 2018-10-03 23:59:14.390954   \n",
       "11584     1 2018-10-03 23:59:42.701692   \n",
       "\n",
       "                                     route_schedule_uuid  route_type  \\\n",
       "0      thanos::sroute:3a1b0ab2-bb0b-4c53-8c59-eb2a2c0...           1   \n",
       "1      thanos::sroute:f0176492-a679-4597-8332-bbd1c7f...           1   \n",
       "2      thanos::sroute:d9f07b12-65e0-4f3b-bec8-df06134...           0   \n",
       "3      thanos::sroute:9bf03170-d0a2-4a3f-aa4d-9aaab3d...           1   \n",
       "4      thanos::sroute:a97698cc-846e-41a7-916b-88b1741...           1   \n",
       "...                                                  ...         ...   \n",
       "11580  thanos::sroute:8a120994-f577-4491-9e4b-b7e4a14...           1   \n",
       "11581  thanos::sroute:b30e1ec3-3bfa-4bd2-a7fb-3b75769...           1   \n",
       "11582  thanos::sroute:5609c268-e436-4e0a-8180-3db4a74...           1   \n",
       "11583  thanos::sroute:c5f2ba2c-8486-4940-8af6-d1d2a6a...           1   \n",
       "11584  thanos::sroute:412fea14-6d1f-4222-8a5f-a517042...           0   \n",
       "\n",
       "                     trip_uuid source_center  \\\n",
       "0      trip-153671042288605164  IND561203AAB   \n",
       "1      trip-153671046011330457  IND400072AAB   \n",
       "2      trip-153671052974046625  IND583101AAA   \n",
       "3      trip-153671055416136166  IND600116AAB   \n",
       "4      trip-153671066201138152  IND600044AAD   \n",
       "...                        ...           ...   \n",
       "11580  trip-153861095625827784  IND160102AAD   \n",
       "11581  trip-153861104386292051  IND121004AAB   \n",
       "11582  trip-153861106442901555  IND209304AAA   \n",
       "11583  trip-153861115439069069  IND628204AAA   \n",
       "11584  trip-153861118270144424  IND583119AAA   \n",
       "\n",
       "                              source_name destination_center  \\\n",
       "0       Doddablpur_ChikaDPP_D (Karnataka)       IND561203AAB   \n",
       "1                Mumbai Hub (Maharashtra)       IND401104AAA   \n",
       "2                  Bellary_Dc (Karnataka)       IND583119AAA   \n",
       "3          Chennai_Porur_DPC (Tamil Nadu)       IND602105AAB   \n",
       "4       Chennai_Chrompet_DPC (Tamil Nadu)       IND600048AAA   \n",
       "...                                   ...                ...   \n",
       "11580  Chandigarh_Raiprkln_C (Chandigarh)       IND140603AAA   \n",
       "11581        FBD_Balabhgarh_DPC (Haryana)       IND121004AAA   \n",
       "11582  Kanpur_Central_H_6 (Uttar Pradesh)       IND209304AAA   \n",
       "11583  Tirchchndr_Shnmgprm_D (Tamil Nadu)       IND628204AAA   \n",
       "11584       Sandur_WrdN1DPP_D (Karnataka)       IND583119AAA   \n",
       "\n",
       "                            destination_name  start_scan_to_end_scan  ...  \\\n",
       "0          Doddablpur_ChikaDPP_D (Karnataka)                   180.0  ...   \n",
       "1             Mumbai_MiraRd_IP (Maharashtra)                   100.0  ...   \n",
       "2              Sandur_WrdN1DPP_D (Karnataka)                   717.0  ...   \n",
       "3      Chennai_Sriperumbudur_Dc (Tamil Nadu)                   189.0  ...   \n",
       "4           Chennai_Vandalur_Dc (Tamil Nadu)                    98.0  ...   \n",
       "...                                      ...                     ...  ...   \n",
       "11580                   Zirakpur_DC (Punjab)                   257.0  ...   \n",
       "11581         Faridabad_Blbgarh_DC (Haryana)                    60.0  ...   \n",
       "11582     Kanpur_Central_H_6 (Uttar Pradesh)                   421.0  ...   \n",
       "11583     Tirchchndr_Shnmgprm_D (Tamil Nadu)                   347.0  ...   \n",
       "11584          Sandur_WrdN1DPP_D (Karnataka)                   353.0  ...   \n",
       "\n",
       "       osrm_time_agg_value  segment_actual_time_agg_value  \\\n",
       "0                    155.0                           95.0   \n",
       "1                     24.0                           59.0   \n",
       "2                     48.0                           63.0   \n",
       "3                     19.0                           39.0   \n",
       "4                     13.0                           24.0   \n",
       "...                    ...                            ...   \n",
       "11580                 51.0                           33.0   \n",
       "11581                 19.0                           21.0   \n",
       "11582                 61.0                          190.0   \n",
       "11583                 22.0                           29.0   \n",
       "11584                 47.0                           41.0   \n",
       "\n",
       "       osrm_distance_agg_value  segment_osrm_distance_agg_value  \\\n",
       "0                     209.1151                          55.9899   \n",
       "1                      31.6475                          19.8766   \n",
       "2                      53.1588                          29.5697   \n",
       "3                      26.3531                          16.2225   \n",
       "4                      12.0184                          12.0184   \n",
       "...                        ...                              ...   \n",
       "11580                  58.2599                          28.8991   \n",
       "11581                  26.5333                          16.0883   \n",
       "11582                  74.2798                          35.4369   \n",
       "11583                  25.5371                          16.0184   \n",
       "11584                  51.2851                          28.0484   \n",
       "\n",
       "       segment_osrm_time_agg_value  trip_creation_year  trip_creation_month  \\\n",
       "0                             39.0                2018                    9   \n",
       "1                             16.0                2018                    9   \n",
       "2                             26.0                2018                    9   \n",
       "3                             12.0                2018                    9   \n",
       "4                             13.0                2018                    9   \n",
       "...                            ...                 ...                  ...   \n",
       "11580                         28.0                2018                   10   \n",
       "11581                         11.0                2018                   10   \n",
       "11582                         36.0                2018                   10   \n",
       "11583                         14.0                2018                   10   \n",
       "11584                         25.0                2018                   10   \n",
       "\n",
       "       trip_creation_week  trip_creation_day  trip_creation_hour  \n",
       "0                      37                 12                   0  \n",
       "1                      37                 12                   0  \n",
       "2                      37                 12                   0  \n",
       "3                      37                 12                   0  \n",
       "4                      37                 12                   0  \n",
       "...                   ...                ...                 ...  \n",
       "11580                  40                  3                  23  \n",
       "11581                  40                  3                  23  \n",
       "11582                  40                  3                  23  \n",
       "11583                  40                  3                  23  \n",
       "11584                  40                  3                  23  \n",
       "\n",
       "[11585 rows x 26 columns]"
      ]
     },
     "execution_count": 95,
     "metadata": {},
     "output_type": "execute_result"
    }
   ],
   "source": [
    "second_segment"
   ]
  },
  {
   "cell_type": "code",
   "execution_count": null,
   "id": "931cc38b",
   "metadata": {},
   "outputs": [],
   "source": []
  },
  {
   "cell_type": "code",
   "execution_count": 96,
   "id": "79888bfe",
   "metadata": {},
   "outputs": [],
   "source": [
    "second_segment_copy[cols[1:]] = stdscr.transform(second_segment_copy[cols[1:]]) "
   ]
  },
  {
   "cell_type": "code",
   "execution_count": 97,
   "id": "f4ce5ba0",
   "metadata": {},
   "outputs": [
    {
     "data": {
      "text/html": [
       "<div>\n",
       "<style scoped>\n",
       "    .dataframe tbody tr th:only-of-type {\n",
       "        vertical-align: middle;\n",
       "    }\n",
       "\n",
       "    .dataframe tbody tr th {\n",
       "        vertical-align: top;\n",
       "    }\n",
       "\n",
       "    .dataframe thead th {\n",
       "        text-align: right;\n",
       "    }\n",
       "</style>\n",
       "<table border=\"1\" class=\"dataframe\">\n",
       "  <thead>\n",
       "    <tr style=\"text-align: right;\">\n",
       "      <th></th>\n",
       "      <th>start_scan_to_end_scan</th>\n",
       "      <th>od_scan_time</th>\n",
       "      <th>actual_distance_to_destination</th>\n",
       "      <th>actual_time</th>\n",
       "      <th>osrm_time</th>\n",
       "      <th>osrm_distance</th>\n",
       "      <th>actual_time_agg_value</th>\n",
       "      <th>osrm_time_agg_value</th>\n",
       "      <th>segment_actual_time_agg_value</th>\n",
       "      <th>osrm_distance_agg_value</th>\n",
       "      <th>segment_osrm_distance_agg_value</th>\n",
       "      <th>segment_osrm_time_agg_value</th>\n",
       "    </tr>\n",
       "  </thead>\n",
       "  <tbody>\n",
       "    <tr>\n",
       "      <th>0</th>\n",
       "      <td>-0.472130</td>\n",
       "      <td>-0.468550</td>\n",
       "      <td>0.126545</td>\n",
       "      <td>0.175275</td>\n",
       "      <td>0.203215</td>\n",
       "      <td>0.543182</td>\n",
       "      <td>0.551487</td>\n",
       "      <td>0.671043</td>\n",
       "      <td>0.173310</td>\n",
       "      <td>0.989354</td>\n",
       "      <td>0.379181</td>\n",
       "      <td>-0.053291</td>\n",
       "    </tr>\n",
       "    <tr>\n",
       "      <th>1</th>\n",
       "      <td>-0.781336</td>\n",
       "      <td>-0.781592</td>\n",
       "      <td>-0.696548</td>\n",
       "      <td>-0.476793</td>\n",
       "      <td>-1.003473</td>\n",
       "      <td>-0.813626</td>\n",
       "      <td>-0.697144</td>\n",
       "      <td>-0.879558</td>\n",
       "      <td>-0.464362</td>\n",
       "      <td>-0.785176</td>\n",
       "      <td>-0.836494</td>\n",
       "      <td>-0.944335</td>\n",
       "    </tr>\n",
       "    <tr>\n",
       "      <th>2</th>\n",
       "      <td>1.603415</td>\n",
       "      <td>1.602795</td>\n",
       "      <td>0.923921</td>\n",
       "      <td>-0.406299</td>\n",
       "      <td>-0.467167</td>\n",
       "      <td>-0.453225</td>\n",
       "      <td>-0.612395</td>\n",
       "      <td>-0.595478</td>\n",
       "      <td>-0.393509</td>\n",
       "      <td>-0.570080</td>\n",
       "      <td>-0.510197</td>\n",
       "      <td>-0.556925</td>\n",
       "    </tr>\n",
       "    <tr>\n",
       "      <th>3</th>\n",
       "      <td>-0.437344</td>\n",
       "      <td>-0.434297</td>\n",
       "      <td>-0.587485</td>\n",
       "      <td>-0.811638</td>\n",
       "      <td>-1.137550</td>\n",
       "      <td>-0.939625</td>\n",
       "      <td>-0.759293</td>\n",
       "      <td>-0.938741</td>\n",
       "      <td>-0.818624</td>\n",
       "      <td>-0.838115</td>\n",
       "      <td>-0.959501</td>\n",
       "      <td>-1.099299</td>\n",
       "    </tr>\n",
       "    <tr>\n",
       "      <th>4</th>\n",
       "      <td>-0.789066</td>\n",
       "      <td>-0.791199</td>\n",
       "      <td>-0.815207</td>\n",
       "      <td>-1.093614</td>\n",
       "      <td>-1.092857</td>\n",
       "      <td>-1.092832</td>\n",
       "      <td>-1.024839</td>\n",
       "      <td>-1.009761</td>\n",
       "      <td>-1.084320</td>\n",
       "      <td>-0.981451</td>\n",
       "      <td>-1.101023</td>\n",
       "      <td>-1.060558</td>\n",
       "    </tr>\n",
       "    <tr>\n",
       "      <th>...</th>\n",
       "      <td>...</td>\n",
       "      <td>...</td>\n",
       "      <td>...</td>\n",
       "      <td>...</td>\n",
       "      <td>...</td>\n",
       "      <td>...</td>\n",
       "      <td>...</td>\n",
       "      <td>...</td>\n",
       "      <td>...</td>\n",
       "      <td>...</td>\n",
       "      <td>...</td>\n",
       "      <td>...</td>\n",
       "    </tr>\n",
       "    <tr>\n",
       "      <th>11580</th>\n",
       "      <td>-0.174519</td>\n",
       "      <td>-0.173646</td>\n",
       "      <td>-0.100120</td>\n",
       "      <td>-0.917379</td>\n",
       "      <td>-0.422475</td>\n",
       "      <td>-0.477660</td>\n",
       "      <td>-0.764943</td>\n",
       "      <td>-0.559968</td>\n",
       "      <td>-0.924902</td>\n",
       "      <td>-0.519074</td>\n",
       "      <td>-0.532771</td>\n",
       "      <td>-0.479443</td>\n",
       "    </tr>\n",
       "    <tr>\n",
       "      <th>11581</th>\n",
       "      <td>-0.935939</td>\n",
       "      <td>-0.935589</td>\n",
       "      <td>-0.720963</td>\n",
       "      <td>-1.146484</td>\n",
       "      <td>-1.137550</td>\n",
       "      <td>-0.944519</td>\n",
       "      <td>-0.973990</td>\n",
       "      <td>-0.938741</td>\n",
       "      <td>-1.137460</td>\n",
       "      <td>-0.836314</td>\n",
       "      <td>-0.964018</td>\n",
       "      <td>-1.138040</td>\n",
       "    </tr>\n",
       "    <tr>\n",
       "      <th>11582</th>\n",
       "      <td>0.459353</td>\n",
       "      <td>0.459604</td>\n",
       "      <td>-0.380464</td>\n",
       "      <td>1.831879</td>\n",
       "      <td>-0.601244</td>\n",
       "      <td>-0.435554</td>\n",
       "      <td>0.489337</td>\n",
       "      <td>-0.441602</td>\n",
       "      <td>1.856055</td>\n",
       "      <td>-0.358888</td>\n",
       "      <td>-0.312691</td>\n",
       "      <td>-0.169514</td>\n",
       "    </tr>\n",
       "    <tr>\n",
       "      <th>11583</th>\n",
       "      <td>0.173337</td>\n",
       "      <td>0.175544</td>\n",
       "      <td>1.030832</td>\n",
       "      <td>-0.987873</td>\n",
       "      <td>-1.048165</td>\n",
       "      <td>-0.947059</td>\n",
       "      <td>-0.872291</td>\n",
       "      <td>-0.903231</td>\n",
       "      <td>-0.995755</td>\n",
       "      <td>-0.846275</td>\n",
       "      <td>-0.966371</td>\n",
       "      <td>-1.021817</td>\n",
       "    </tr>\n",
       "    <tr>\n",
       "      <th>11584</th>\n",
       "      <td>0.196528</td>\n",
       "      <td>0.198293</td>\n",
       "      <td>0.022131</td>\n",
       "      <td>-0.776392</td>\n",
       "      <td>-0.511859</td>\n",
       "      <td>-0.508661</td>\n",
       "      <td>-0.753643</td>\n",
       "      <td>-0.607315</td>\n",
       "      <td>-0.783198</td>\n",
       "      <td>-0.588816</td>\n",
       "      <td>-0.561408</td>\n",
       "      <td>-0.595666</td>\n",
       "    </tr>\n",
       "  </tbody>\n",
       "</table>\n",
       "<p>11585 rows × 12 columns</p>\n",
       "</div>"
      ],
      "text/plain": [
       "       start_scan_to_end_scan  od_scan_time  actual_distance_to_destination  \\\n",
       "0                   -0.472130     -0.468550                        0.126545   \n",
       "1                   -0.781336     -0.781592                       -0.696548   \n",
       "2                    1.603415      1.602795                        0.923921   \n",
       "3                   -0.437344     -0.434297                       -0.587485   \n",
       "4                   -0.789066     -0.791199                       -0.815207   \n",
       "...                       ...           ...                             ...   \n",
       "11580               -0.174519     -0.173646                       -0.100120   \n",
       "11581               -0.935939     -0.935589                       -0.720963   \n",
       "11582                0.459353      0.459604                       -0.380464   \n",
       "11583                0.173337      0.175544                        1.030832   \n",
       "11584                0.196528      0.198293                        0.022131   \n",
       "\n",
       "       actual_time  osrm_time  osrm_distance  actual_time_agg_value  \\\n",
       "0         0.175275   0.203215       0.543182               0.551487   \n",
       "1        -0.476793  -1.003473      -0.813626              -0.697144   \n",
       "2        -0.406299  -0.467167      -0.453225              -0.612395   \n",
       "3        -0.811638  -1.137550      -0.939625              -0.759293   \n",
       "4        -1.093614  -1.092857      -1.092832              -1.024839   \n",
       "...            ...        ...            ...                    ...   \n",
       "11580    -0.917379  -0.422475      -0.477660              -0.764943   \n",
       "11581    -1.146484  -1.137550      -0.944519              -0.973990   \n",
       "11582     1.831879  -0.601244      -0.435554               0.489337   \n",
       "11583    -0.987873  -1.048165      -0.947059              -0.872291   \n",
       "11584    -0.776392  -0.511859      -0.508661              -0.753643   \n",
       "\n",
       "       osrm_time_agg_value  segment_actual_time_agg_value  \\\n",
       "0                 0.671043                       0.173310   \n",
       "1                -0.879558                      -0.464362   \n",
       "2                -0.595478                      -0.393509   \n",
       "3                -0.938741                      -0.818624   \n",
       "4                -1.009761                      -1.084320   \n",
       "...                    ...                            ...   \n",
       "11580            -0.559968                      -0.924902   \n",
       "11581            -0.938741                      -1.137460   \n",
       "11582            -0.441602                       1.856055   \n",
       "11583            -0.903231                      -0.995755   \n",
       "11584            -0.607315                      -0.783198   \n",
       "\n",
       "       osrm_distance_agg_value  segment_osrm_distance_agg_value  \\\n",
       "0                     0.989354                         0.379181   \n",
       "1                    -0.785176                        -0.836494   \n",
       "2                    -0.570080                        -0.510197   \n",
       "3                    -0.838115                        -0.959501   \n",
       "4                    -0.981451                        -1.101023   \n",
       "...                        ...                              ...   \n",
       "11580                -0.519074                        -0.532771   \n",
       "11581                -0.836314                        -0.964018   \n",
       "11582                -0.358888                        -0.312691   \n",
       "11583                -0.846275                        -0.966371   \n",
       "11584                -0.588816                        -0.561408   \n",
       "\n",
       "       segment_osrm_time_agg_value  \n",
       "0                        -0.053291  \n",
       "1                        -0.944335  \n",
       "2                        -0.556925  \n",
       "3                        -1.099299  \n",
       "4                        -1.060558  \n",
       "...                            ...  \n",
       "11580                    -0.479443  \n",
       "11581                    -1.138040  \n",
       "11582                    -0.169514  \n",
       "11583                    -1.021817  \n",
       "11584                    -0.595666  \n",
       "\n",
       "[11585 rows x 12 columns]"
      ]
     },
     "execution_count": 97,
     "metadata": {},
     "output_type": "execute_result"
    }
   ],
   "source": [
    "second_segment_copy[cols[1:]]"
   ]
  },
  {
   "cell_type": "code",
   "execution_count": null,
   "id": "8d0e47da",
   "metadata": {},
   "outputs": [],
   "source": []
  },
  {
   "cell_type": "code",
   "execution_count": null,
   "id": "e4849590",
   "metadata": {},
   "outputs": [],
   "source": []
  },
  {
   "cell_type": "markdown",
   "id": "2617754e",
   "metadata": {},
   "source": [
    "## where most orders are coming from"
   ]
  },
  {
   "cell_type": "markdown",
   "id": "5fd2e5fa",
   "metadata": {},
   "source": [
    "### State with most orders"
   ]
  },
  {
   "cell_type": "code",
   "execution_count": 98,
   "id": "e8e75f0c",
   "metadata": {},
   "outputs": [],
   "source": [
    "def statefilter(x):\n",
    "    text = x.split(\" (\")[1]\n",
    "    return text[:-1]"
   ]
  },
  {
   "cell_type": "code",
   "execution_count": 99,
   "id": "59363b09",
   "metadata": {},
   "outputs": [],
   "source": [
    "second_segment[\"destination_state\"] = second_segment[\"destination_name\"].apply(lambda x:statefilter(x))"
   ]
  },
  {
   "cell_type": "code",
   "execution_count": 100,
   "id": "ffa4582e",
   "metadata": {},
   "outputs": [],
   "source": [
    "second_segment[\"source_state\"] = second_segment[\"source_name\"].apply(lambda x:statefilter(x))"
   ]
  },
  {
   "cell_type": "code",
   "execution_count": 101,
   "id": "2375d04d",
   "metadata": {},
   "outputs": [
    {
     "data": {
      "text/plain": [
       "Maharashtra               2218\n",
       "Karnataka                 2016\n",
       "Tamil Nadu                1018\n",
       "Haryana                    987\n",
       "Telangana                  642\n",
       "Delhi                      601\n",
       "Gujarat                    583\n",
       "Uttar Pradesh              571\n",
       "West Bengal                531\n",
       "Punjab                     355\n",
       "Rajasthan                  346\n",
       "Andhra Pradesh             344\n",
       "Bihar                      263\n",
       "Kerala                     244\n",
       "Madhya Pradesh             200\n",
       "Assam                      175\n",
       "Jharkhand                   92\n",
       "Chandigarh                  89\n",
       "Uttarakhand                 86\n",
       "Orissa                      69\n",
       "Himachal Pradesh            37\n",
       "Goa                         35\n",
       "Chhattisgarh                31\n",
       "Dadra and Nagar Haveli      15\n",
       "Jammu & Kashmir             14\n",
       "Arunachal Pradesh           10\n",
       "Pondicherry                  8\n",
       "Nagaland                     3\n",
       "Meghalaya                    2\n",
       "Name: source_state, dtype: int64"
      ]
     },
     "execution_count": 101,
     "metadata": {},
     "output_type": "execute_result"
    }
   ],
   "source": [
    "second_segment[\"source_state\"].value_counts()"
   ]
  },
  {
   "cell_type": "code",
   "execution_count": 102,
   "id": "73635f24",
   "metadata": {},
   "outputs": [
    {
     "data": {
      "text/plain": [
       "Maharashtra               2207\n",
       "Karnataka                 2005\n",
       "Tamil Nadu                1024\n",
       "Haryana                   1003\n",
       "Telangana                  651\n",
       "Uttar Pradesh              578\n",
       "Gujarat                    571\n",
       "Delhi                      532\n",
       "West Bengal                531\n",
       "Punjab                     402\n",
       "Rajasthan                  355\n",
       "Andhra Pradesh             345\n",
       "Bihar                      263\n",
       "Kerala                     246\n",
       "Madhya Pradesh             224\n",
       "Assam                      159\n",
       "Uttarakhand                 92\n",
       "Jharkhand                   92\n",
       "Orissa                      69\n",
       "Chandigarh                  57\n",
       "Himachal Pradesh            49\n",
       "Goa                         32\n",
       "Chhattisgarh                31\n",
       "Arunachal Pradesh           20\n",
       "Dadra and Nagar Haveli      17\n",
       "Jammu & Kashmir             15\n",
       "Meghalaya                    8\n",
       "Pondicherry                  3\n",
       "Mizoram                      2\n",
       "Daman & Diu                  1\n",
       "Tripura                      1\n",
       "Name: destination_state, dtype: int64"
      ]
     },
     "execution_count": 102,
     "metadata": {},
     "output_type": "execute_result"
    }
   ],
   "source": [
    "second_segment[\"destination_state\"].value_counts()"
   ]
  },
  {
   "cell_type": "code",
   "execution_count": 103,
   "id": "c5706ee9",
   "metadata": {},
   "outputs": [
    {
     "data": {
      "image/png": "[encoded data removed]",
      "text/plain": [
       "<Figure size 1080x720 with 1 Axes>"
      ]
     },
     "metadata": {
      "needs_background": "light"
     },
     "output_type": "display_data"
    }
   ],
   "source": [
    "plt.figure(figsize=(15,10))\n",
    "sns.countplot(data =  second_segment,x=second_segment[\"source_state\"])\n",
    "plt.xticks(rotation=45)\n",
    "plt.show()"
   ]
  },
  {
   "cell_type": "code",
   "execution_count": 104,
   "id": "6de40414",
   "metadata": {},
   "outputs": [
    {
     "data": {
      "image/png": "[encoded data removed]",
      "text/plain": [
       "<Figure size 1224x720 with 1 Axes>"
      ]
     },
     "metadata": {
      "needs_background": "light"
     },
     "output_type": "display_data"
    }
   ],
   "source": [
    "plt.figure(figsize=(17,10))\n",
    "sns.countplot(data =  second_segment,x=second_segment[\"destination_state\"])\n",
    "plt.xticks(rotation=45)\n",
    "plt.show()"
   ]
  },
  {
   "cell_type": "code",
   "execution_count": 105,
   "id": "29e59578",
   "metadata": {},
   "outputs": [],
   "source": [
    "indian_state_regions = {\n",
    "    \"Andhra Pradesh\": \"South\",\n",
    "    \"Arunachal Pradesh\": \"Northeast\",\n",
    "    \"Assam\": \"Northeast\",\n",
    "    \"Bihar\": \"East\",\n",
    "    \"Chhattisgarh\": \"Central\",\n",
    "    \"Goa\": \"West\",\n",
    "    \"Gujarat\": \"West\",\n",
    "    \"Haryana\": \"North\",\n",
    "    \"Himachal Pradesh\": \"North\",\n",
    "    \"Jharkhand\": \"East\",\n",
    "    \"Karnataka\": \"South\",\n",
    "    \"Kerala\": \"South\",\n",
    "    \"Madhya Pradesh\": \"Central\",\n",
    "    \"Maharashtra\": \"West\",\n",
    "    \"Manipur\": \"Northeast\",\n",
    "    \"Meghalaya\": \"Northeast\",\n",
    "    \"Mizoram\": \"Northeast\",\n",
    "    \"Nagaland\": \"Northeast\",\n",
    "    \"Odisha\": \"East\",\n",
    "    \"Punjab\": \"North\",\n",
    "    \"Rajasthan\": \"North\",\n",
    "    \"Sikkim\": \"Northeast\",\n",
    "    \"Tamil Nadu\": \"South\",\n",
    "    \"Telangana\": \"South\",\n",
    "    \"Tripura\": \"Northeast\",\n",
    "    \"Uttar Pradesh\": \"North\",\n",
    "    \"Uttarakhand\": \"North\",\n",
    "    \"West Bengal\": \"East\",\n",
    "    \"Jammu and Kashmir\": \"North\",\n",
    "    \"Ladakh\": \"North\",\n",
    "    \"Delhi\": \"North\",\n",
    "    \"Puducherry\": \"South\",\n",
    "    \"Chandigarh\": \"North\",\n",
    "    \"Lakshadweep\": \"South\",\n",
    "    \"Daman and Diu\": \"West\",\n",
    "    \"Dadra and Nagar Haveli\": \"West\",\n",
    "}\n",
    "\n",
    "\n"
   ]
  },
  {
   "cell_type": "code",
   "execution_count": 106,
   "id": "f0237b4a",
   "metadata": {},
   "outputs": [],
   "source": [
    "second_segment[\"region\"] = second_segment[\"source_state\"].map(indian_state_regions)"
   ]
  },
  {
   "cell_type": "code",
   "execution_count": 107,
   "id": "98b95af2",
   "metadata": {},
   "outputs": [
    {
     "data": {
      "image/png": "[encoded data removed]",
      "text/plain": [
       "<Figure size 1080x720 with 1 Axes>"
      ]
     },
     "metadata": {
      "needs_background": "light"
     },
     "output_type": "display_data"
    }
   ],
   "source": [
    "plt.figure(figsize=(15,10))\n",
    "sns.countplot(data =  second_segment,x=second_segment[\"region\"])\n",
    "plt.xticks(rotation=45)\n",
    "plt.show()\n",
    "\n"
   ]
  },
  {
   "cell_type": "markdown",
   "id": "2a262489",
   "metadata": {},
   "source": [
    "## Insights"
   ]
  },
  {
   "cell_type": "markdown",
   "id": "af9d527a",
   "metadata": {},
   "source": [
    "- There is a significant difference between OSRM and actual parameters.\n",
    "- South, West and North corridors have significantly higher number of orders. We have very less orders from Northeast, central and east regions.\n",
    "- Good number of orders are form Maharashtra followed by karnataka. The next in line are Tamil Nadu and Haryana."
   ]
  },
  {
   "cell_type": "markdown",
   "id": "efa015dc",
   "metadata": {},
   "source": [
    "## Recommendations"
   ]
  },
  {
   "cell_type": "markdown",
   "id": "2fd2e667",
   "metadata": {},
   "source": [
    "- There is a significat difference between OSRM and actual parameters. Hence company must revisit on what data they are feeding to Open Source Routing Machine.\n",
    "- Also check if the routing machine, update/configured to consider all kinds of situatons.\n",
    "- Company can leverage local knowledge and expertise to identify routes that are known to be faster or more efficient than what the routing engine suggests."
   ]
  },
  {
   "cell_type": "code",
   "execution_count": null,
   "id": "983fa7a9",
   "metadata": {},
   "outputs": [],
   "source": []
  }
 ],
 "metadata": {
  "kernelspec": {
   "display_name": "Python 3",
   "language": "python",
   "name": "python3"
  },
  "language_info": {
   "codemirror_mode": {
    "name": "ipython",
    "version": 3
   },
   "file_extension": ".py",
   "mimetype": "text/x-python",
   "name": "python",
   "nbconvert_exporter": "python",
   "pygments_lexer": "ipython3",
   "version": "3.8.8"
  }
 },
 "nbformat": 4,
 "nbformat_minor": 5
}
