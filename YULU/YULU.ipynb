{
 "cells": [
  {
   "cell_type": "code",
   "execution_count": 1,
   "id": "f08fed8c",
   "metadata": {},
   "outputs": [
    {
     "name": "stderr",
     "output_type": "stream",
     "text": [
      "Downloading...\n",
      "From: https://drive.google.com/uc?id=10HSfiYjHPoDrD9LMrtvE1AIAHzAsMkSe\n",
      "To: C:\\Users\\Asus\\my python\\DSML\\yulu.csv\n",
      "\n",
      "  0%|          | 0.00/648k [00:00<?, ?B/s]\n",
      " 81%|########  | 524k/648k [00:00<00:00, 4.79MB/s]\n",
      "100%|##########| 648k/648k [00:00<00:00, 5.19MB/s]\n"
     ]
    }
   ],
   "source": [
    "!gdown 10HSfiYjHPoDrD9LMrtvE1AIAHzAsMkSe"
   ]
  },
  {
   "cell_type": "code",
   "execution_count": 2,
   "id": "18e613b0",
   "metadata": {},
   "outputs": [],
   "source": [
    "import pandas as pd\n",
    "import numpy as np\n",
    "import matplotlib.pyplot as plt\n",
    "import seaborn as sns\n",
    "from scipy.stats import norm ,binom,ttest_1samp,ttest_ind,chisquare,chi2_contingency,chi2,f_oneway,spearmanr\n",
    "from statsmodels.graphics.gofplots import qqplot\n",
    "from scipy.stats import ks_2samp\n",
    "from scipy.stats import shapiro \n",
    "from scipy.stats import levene,kruskal"
   ]
  },
  {
   "cell_type": "markdown",
   "id": "a7620044",
   "metadata": {},
   "source": [
    "# Problem Statement\n",
    "\n",
    "To determine which variables are significant in predicting the demand for shared electric cycles in the Indian market and how well those variables describe the demand."
   ]
  },
  {
   "cell_type": "code",
   "execution_count": 3,
   "id": "4afb9fb5",
   "metadata": {},
   "outputs": [],
   "source": [
    "df = pd.read_csv(\"yulu.csv\")"
   ]
  },
  {
   "cell_type": "code",
   "execution_count": 4,
   "id": "dec474e9",
   "metadata": {},
   "outputs": [
    {
     "data": {
      "text/html": [
       "<div>\n",
       "<style scoped>\n",
       "    .dataframe tbody tr th:only-of-type {\n",
       "        vertical-align: middle;\n",
       "    }\n",
       "\n",
       "    .dataframe tbody tr th {\n",
       "        vertical-align: top;\n",
       "    }\n",
       "\n",
       "    .dataframe thead th {\n",
       "        text-align: right;\n",
       "    }\n",
       "</style>\n",
       "<table border=\"1\" class=\"dataframe\">\n",
       "  <thead>\n",
       "    <tr style=\"text-align: right;\">\n",
       "      <th></th>\n",
       "      <th>datetime</th>\n",
       "      <th>season</th>\n",
       "      <th>holiday</th>\n",
       "      <th>workingday</th>\n",
       "      <th>weather</th>\n",
       "      <th>temp</th>\n",
       "      <th>atemp</th>\n",
       "      <th>humidity</th>\n",
       "      <th>windspeed</th>\n",
       "      <th>casual</th>\n",
       "      <th>registered</th>\n",
       "      <th>count</th>\n",
       "    </tr>\n",
       "  </thead>\n",
       "  <tbody>\n",
       "    <tr>\n",
       "      <th>0</th>\n",
       "      <td>2011-01-01 00:00:00</td>\n",
       "      <td>1</td>\n",
       "      <td>0</td>\n",
       "      <td>0</td>\n",
       "      <td>1</td>\n",
       "      <td>9.84</td>\n",
       "      <td>14.395</td>\n",
       "      <td>81</td>\n",
       "      <td>0.0000</td>\n",
       "      <td>3</td>\n",
       "      <td>13</td>\n",
       "      <td>16</td>\n",
       "    </tr>\n",
       "    <tr>\n",
       "      <th>1</th>\n",
       "      <td>2011-01-01 01:00:00</td>\n",
       "      <td>1</td>\n",
       "      <td>0</td>\n",
       "      <td>0</td>\n",
       "      <td>1</td>\n",
       "      <td>9.02</td>\n",
       "      <td>13.635</td>\n",
       "      <td>80</td>\n",
       "      <td>0.0000</td>\n",
       "      <td>8</td>\n",
       "      <td>32</td>\n",
       "      <td>40</td>\n",
       "    </tr>\n",
       "    <tr>\n",
       "      <th>2</th>\n",
       "      <td>2011-01-01 02:00:00</td>\n",
       "      <td>1</td>\n",
       "      <td>0</td>\n",
       "      <td>0</td>\n",
       "      <td>1</td>\n",
       "      <td>9.02</td>\n",
       "      <td>13.635</td>\n",
       "      <td>80</td>\n",
       "      <td>0.0000</td>\n",
       "      <td>5</td>\n",
       "      <td>27</td>\n",
       "      <td>32</td>\n",
       "    </tr>\n",
       "    <tr>\n",
       "      <th>3</th>\n",
       "      <td>2011-01-01 03:00:00</td>\n",
       "      <td>1</td>\n",
       "      <td>0</td>\n",
       "      <td>0</td>\n",
       "      <td>1</td>\n",
       "      <td>9.84</td>\n",
       "      <td>14.395</td>\n",
       "      <td>75</td>\n",
       "      <td>0.0000</td>\n",
       "      <td>3</td>\n",
       "      <td>10</td>\n",
       "      <td>13</td>\n",
       "    </tr>\n",
       "    <tr>\n",
       "      <th>4</th>\n",
       "      <td>2011-01-01 04:00:00</td>\n",
       "      <td>1</td>\n",
       "      <td>0</td>\n",
       "      <td>0</td>\n",
       "      <td>1</td>\n",
       "      <td>9.84</td>\n",
       "      <td>14.395</td>\n",
       "      <td>75</td>\n",
       "      <td>0.0000</td>\n",
       "      <td>0</td>\n",
       "      <td>1</td>\n",
       "      <td>1</td>\n",
       "    </tr>\n",
       "    <tr>\n",
       "      <th>...</th>\n",
       "      <td>...</td>\n",
       "      <td>...</td>\n",
       "      <td>...</td>\n",
       "      <td>...</td>\n",
       "      <td>...</td>\n",
       "      <td>...</td>\n",
       "      <td>...</td>\n",
       "      <td>...</td>\n",
       "      <td>...</td>\n",
       "      <td>...</td>\n",
       "      <td>...</td>\n",
       "      <td>...</td>\n",
       "    </tr>\n",
       "    <tr>\n",
       "      <th>10881</th>\n",
       "      <td>2012-12-19 19:00:00</td>\n",
       "      <td>4</td>\n",
       "      <td>0</td>\n",
       "      <td>1</td>\n",
       "      <td>1</td>\n",
       "      <td>15.58</td>\n",
       "      <td>19.695</td>\n",
       "      <td>50</td>\n",
       "      <td>26.0027</td>\n",
       "      <td>7</td>\n",
       "      <td>329</td>\n",
       "      <td>336</td>\n",
       "    </tr>\n",
       "    <tr>\n",
       "      <th>10882</th>\n",
       "      <td>2012-12-19 20:00:00</td>\n",
       "      <td>4</td>\n",
       "      <td>0</td>\n",
       "      <td>1</td>\n",
       "      <td>1</td>\n",
       "      <td>14.76</td>\n",
       "      <td>17.425</td>\n",
       "      <td>57</td>\n",
       "      <td>15.0013</td>\n",
       "      <td>10</td>\n",
       "      <td>231</td>\n",
       "      <td>241</td>\n",
       "    </tr>\n",
       "    <tr>\n",
       "      <th>10883</th>\n",
       "      <td>2012-12-19 21:00:00</td>\n",
       "      <td>4</td>\n",
       "      <td>0</td>\n",
       "      <td>1</td>\n",
       "      <td>1</td>\n",
       "      <td>13.94</td>\n",
       "      <td>15.910</td>\n",
       "      <td>61</td>\n",
       "      <td>15.0013</td>\n",
       "      <td>4</td>\n",
       "      <td>164</td>\n",
       "      <td>168</td>\n",
       "    </tr>\n",
       "    <tr>\n",
       "      <th>10884</th>\n",
       "      <td>2012-12-19 22:00:00</td>\n",
       "      <td>4</td>\n",
       "      <td>0</td>\n",
       "      <td>1</td>\n",
       "      <td>1</td>\n",
       "      <td>13.94</td>\n",
       "      <td>17.425</td>\n",
       "      <td>61</td>\n",
       "      <td>6.0032</td>\n",
       "      <td>12</td>\n",
       "      <td>117</td>\n",
       "      <td>129</td>\n",
       "    </tr>\n",
       "    <tr>\n",
       "      <th>10885</th>\n",
       "      <td>2012-12-19 23:00:00</td>\n",
       "      <td>4</td>\n",
       "      <td>0</td>\n",
       "      <td>1</td>\n",
       "      <td>1</td>\n",
       "      <td>13.12</td>\n",
       "      <td>16.665</td>\n",
       "      <td>66</td>\n",
       "      <td>8.9981</td>\n",
       "      <td>4</td>\n",
       "      <td>84</td>\n",
       "      <td>88</td>\n",
       "    </tr>\n",
       "  </tbody>\n",
       "</table>\n",
       "<p>10886 rows × 12 columns</p>\n",
       "</div>"
      ],
      "text/plain": [
       "                  datetime  season  holiday  workingday  weather   temp  \\\n",
       "0      2011-01-01 00:00:00       1        0           0        1   9.84   \n",
       "1      2011-01-01 01:00:00       1        0           0        1   9.02   \n",
       "2      2011-01-01 02:00:00       1        0           0        1   9.02   \n",
       "3      2011-01-01 03:00:00       1        0           0        1   9.84   \n",
       "4      2011-01-01 04:00:00       1        0           0        1   9.84   \n",
       "...                    ...     ...      ...         ...      ...    ...   \n",
       "10881  2012-12-19 19:00:00       4        0           1        1  15.58   \n",
       "10882  2012-12-19 20:00:00       4        0           1        1  14.76   \n",
       "10883  2012-12-19 21:00:00       4        0           1        1  13.94   \n",
       "10884  2012-12-19 22:00:00       4        0           1        1  13.94   \n",
       "10885  2012-12-19 23:00:00       4        0           1        1  13.12   \n",
       "\n",
       "        atemp  humidity  windspeed  casual  registered  count  \n",
       "0      14.395        81     0.0000       3          13     16  \n",
       "1      13.635        80     0.0000       8          32     40  \n",
       "2      13.635        80     0.0000       5          27     32  \n",
       "3      14.395        75     0.0000       3          10     13  \n",
       "4      14.395        75     0.0000       0           1      1  \n",
       "...       ...       ...        ...     ...         ...    ...  \n",
       "10881  19.695        50    26.0027       7         329    336  \n",
       "10882  17.425        57    15.0013      10         231    241  \n",
       "10883  15.910        61    15.0013       4         164    168  \n",
       "10884  17.425        61     6.0032      12         117    129  \n",
       "10885  16.665        66     8.9981       4          84     88  \n",
       "\n",
       "[10886 rows x 12 columns]"
      ]
     },
     "execution_count": 4,
     "metadata": {},
     "output_type": "execute_result"
    }
   ],
   "source": [
    "df"
   ]
  },
  {
   "cell_type": "code",
   "execution_count": 5,
   "id": "374473af",
   "metadata": {},
   "outputs": [
    {
     "data": {
      "text/plain": [
       "array([1, 2, 3, 4], dtype=int64)"
      ]
     },
     "execution_count": 5,
     "metadata": {},
     "output_type": "execute_result"
    }
   ],
   "source": [
    "df[\"weather\"].unique()"
   ]
  },
  {
   "cell_type": "code",
   "execution_count": 6,
   "id": "7b85db66",
   "metadata": {},
   "outputs": [],
   "source": [
    "new_df = df.copy()"
   ]
  },
  {
   "cell_type": "code",
   "execution_count": 7,
   "id": "c906a15a",
   "metadata": {},
   "outputs": [
    {
     "data": {
      "text/plain": [
       "array([0, 1], dtype=int64)"
      ]
     },
     "execution_count": 7,
     "metadata": {},
     "output_type": "execute_result"
    }
   ],
   "source": [
    "df[\"holiday\"].unique()"
   ]
  },
  {
   "cell_type": "code",
   "execution_count": 8,
   "id": "eb45f13d",
   "metadata": {},
   "outputs": [],
   "source": [
    "def func_holi(x):\n",
    "    if x == 0:\n",
    "        return \"NO\"\n",
    "    return \"Yes\"\n",
    "\n",
    "new_df[\"holiday\"] = new_df[\"holiday\"].apply(lambda x : func_holi(x))"
   ]
  },
  {
   "cell_type": "code",
   "execution_count": 9,
   "id": "de36b01b",
   "metadata": {},
   "outputs": [
    {
     "data": {
      "text/html": [
       "<div>\n",
       "<style scoped>\n",
       "    .dataframe tbody tr th:only-of-type {\n",
       "        vertical-align: middle;\n",
       "    }\n",
       "\n",
       "    .dataframe tbody tr th {\n",
       "        vertical-align: top;\n",
       "    }\n",
       "\n",
       "    .dataframe thead th {\n",
       "        text-align: right;\n",
       "    }\n",
       "</style>\n",
       "<table border=\"1\" class=\"dataframe\">\n",
       "  <thead>\n",
       "    <tr style=\"text-align: right;\">\n",
       "      <th></th>\n",
       "      <th>datetime</th>\n",
       "      <th>season</th>\n",
       "      <th>holiday</th>\n",
       "      <th>workingday</th>\n",
       "      <th>weather</th>\n",
       "      <th>temp</th>\n",
       "      <th>atemp</th>\n",
       "      <th>humidity</th>\n",
       "      <th>windspeed</th>\n",
       "      <th>casual</th>\n",
       "      <th>registered</th>\n",
       "      <th>count</th>\n",
       "    </tr>\n",
       "  </thead>\n",
       "  <tbody>\n",
       "    <tr>\n",
       "      <th>0</th>\n",
       "      <td>2011-01-01 00:00:00</td>\n",
       "      <td>1</td>\n",
       "      <td>NO</td>\n",
       "      <td>0</td>\n",
       "      <td>1</td>\n",
       "      <td>9.84</td>\n",
       "      <td>14.395</td>\n",
       "      <td>81</td>\n",
       "      <td>0.0000</td>\n",
       "      <td>3</td>\n",
       "      <td>13</td>\n",
       "      <td>16</td>\n",
       "    </tr>\n",
       "    <tr>\n",
       "      <th>1</th>\n",
       "      <td>2011-01-01 01:00:00</td>\n",
       "      <td>1</td>\n",
       "      <td>NO</td>\n",
       "      <td>0</td>\n",
       "      <td>1</td>\n",
       "      <td>9.02</td>\n",
       "      <td>13.635</td>\n",
       "      <td>80</td>\n",
       "      <td>0.0000</td>\n",
       "      <td>8</td>\n",
       "      <td>32</td>\n",
       "      <td>40</td>\n",
       "    </tr>\n",
       "    <tr>\n",
       "      <th>2</th>\n",
       "      <td>2011-01-01 02:00:00</td>\n",
       "      <td>1</td>\n",
       "      <td>NO</td>\n",
       "      <td>0</td>\n",
       "      <td>1</td>\n",
       "      <td>9.02</td>\n",
       "      <td>13.635</td>\n",
       "      <td>80</td>\n",
       "      <td>0.0000</td>\n",
       "      <td>5</td>\n",
       "      <td>27</td>\n",
       "      <td>32</td>\n",
       "    </tr>\n",
       "    <tr>\n",
       "      <th>3</th>\n",
       "      <td>2011-01-01 03:00:00</td>\n",
       "      <td>1</td>\n",
       "      <td>NO</td>\n",
       "      <td>0</td>\n",
       "      <td>1</td>\n",
       "      <td>9.84</td>\n",
       "      <td>14.395</td>\n",
       "      <td>75</td>\n",
       "      <td>0.0000</td>\n",
       "      <td>3</td>\n",
       "      <td>10</td>\n",
       "      <td>13</td>\n",
       "    </tr>\n",
       "    <tr>\n",
       "      <th>4</th>\n",
       "      <td>2011-01-01 04:00:00</td>\n",
       "      <td>1</td>\n",
       "      <td>NO</td>\n",
       "      <td>0</td>\n",
       "      <td>1</td>\n",
       "      <td>9.84</td>\n",
       "      <td>14.395</td>\n",
       "      <td>75</td>\n",
       "      <td>0.0000</td>\n",
       "      <td>0</td>\n",
       "      <td>1</td>\n",
       "      <td>1</td>\n",
       "    </tr>\n",
       "    <tr>\n",
       "      <th>...</th>\n",
       "      <td>...</td>\n",
       "      <td>...</td>\n",
       "      <td>...</td>\n",
       "      <td>...</td>\n",
       "      <td>...</td>\n",
       "      <td>...</td>\n",
       "      <td>...</td>\n",
       "      <td>...</td>\n",
       "      <td>...</td>\n",
       "      <td>...</td>\n",
       "      <td>...</td>\n",
       "      <td>...</td>\n",
       "    </tr>\n",
       "    <tr>\n",
       "      <th>10881</th>\n",
       "      <td>2012-12-19 19:00:00</td>\n",
       "      <td>4</td>\n",
       "      <td>NO</td>\n",
       "      <td>1</td>\n",
       "      <td>1</td>\n",
       "      <td>15.58</td>\n",
       "      <td>19.695</td>\n",
       "      <td>50</td>\n",
       "      <td>26.0027</td>\n",
       "      <td>7</td>\n",
       "      <td>329</td>\n",
       "      <td>336</td>\n",
       "    </tr>\n",
       "    <tr>\n",
       "      <th>10882</th>\n",
       "      <td>2012-12-19 20:00:00</td>\n",
       "      <td>4</td>\n",
       "      <td>NO</td>\n",
       "      <td>1</td>\n",
       "      <td>1</td>\n",
       "      <td>14.76</td>\n",
       "      <td>17.425</td>\n",
       "      <td>57</td>\n",
       "      <td>15.0013</td>\n",
       "      <td>10</td>\n",
       "      <td>231</td>\n",
       "      <td>241</td>\n",
       "    </tr>\n",
       "    <tr>\n",
       "      <th>10883</th>\n",
       "      <td>2012-12-19 21:00:00</td>\n",
       "      <td>4</td>\n",
       "      <td>NO</td>\n",
       "      <td>1</td>\n",
       "      <td>1</td>\n",
       "      <td>13.94</td>\n",
       "      <td>15.910</td>\n",
       "      <td>61</td>\n",
       "      <td>15.0013</td>\n",
       "      <td>4</td>\n",
       "      <td>164</td>\n",
       "      <td>168</td>\n",
       "    </tr>\n",
       "    <tr>\n",
       "      <th>10884</th>\n",
       "      <td>2012-12-19 22:00:00</td>\n",
       "      <td>4</td>\n",
       "      <td>NO</td>\n",
       "      <td>1</td>\n",
       "      <td>1</td>\n",
       "      <td>13.94</td>\n",
       "      <td>17.425</td>\n",
       "      <td>61</td>\n",
       "      <td>6.0032</td>\n",
       "      <td>12</td>\n",
       "      <td>117</td>\n",
       "      <td>129</td>\n",
       "    </tr>\n",
       "    <tr>\n",
       "      <th>10885</th>\n",
       "      <td>2012-12-19 23:00:00</td>\n",
       "      <td>4</td>\n",
       "      <td>NO</td>\n",
       "      <td>1</td>\n",
       "      <td>1</td>\n",
       "      <td>13.12</td>\n",
       "      <td>16.665</td>\n",
       "      <td>66</td>\n",
       "      <td>8.9981</td>\n",
       "      <td>4</td>\n",
       "      <td>84</td>\n",
       "      <td>88</td>\n",
       "    </tr>\n",
       "  </tbody>\n",
       "</table>\n",
       "<p>10886 rows × 12 columns</p>\n",
       "</div>"
      ],
      "text/plain": [
       "                  datetime  season holiday  workingday  weather   temp  \\\n",
       "0      2011-01-01 00:00:00       1      NO           0        1   9.84   \n",
       "1      2011-01-01 01:00:00       1      NO           0        1   9.02   \n",
       "2      2011-01-01 02:00:00       1      NO           0        1   9.02   \n",
       "3      2011-01-01 03:00:00       1      NO           0        1   9.84   \n",
       "4      2011-01-01 04:00:00       1      NO           0        1   9.84   \n",
       "...                    ...     ...     ...         ...      ...    ...   \n",
       "10881  2012-12-19 19:00:00       4      NO           1        1  15.58   \n",
       "10882  2012-12-19 20:00:00       4      NO           1        1  14.76   \n",
       "10883  2012-12-19 21:00:00       4      NO           1        1  13.94   \n",
       "10884  2012-12-19 22:00:00       4      NO           1        1  13.94   \n",
       "10885  2012-12-19 23:00:00       4      NO           1        1  13.12   \n",
       "\n",
       "        atemp  humidity  windspeed  casual  registered  count  \n",
       "0      14.395        81     0.0000       3          13     16  \n",
       "1      13.635        80     0.0000       8          32     40  \n",
       "2      13.635        80     0.0000       5          27     32  \n",
       "3      14.395        75     0.0000       3          10     13  \n",
       "4      14.395        75     0.0000       0           1      1  \n",
       "...       ...       ...        ...     ...         ...    ...  \n",
       "10881  19.695        50    26.0027       7         329    336  \n",
       "10882  17.425        57    15.0013      10         231    241  \n",
       "10883  15.910        61    15.0013       4         164    168  \n",
       "10884  17.425        61     6.0032      12         117    129  \n",
       "10885  16.665        66     8.9981       4          84     88  \n",
       "\n",
       "[10886 rows x 12 columns]"
      ]
     },
     "execution_count": 9,
     "metadata": {},
     "output_type": "execute_result"
    }
   ],
   "source": [
    "new_df"
   ]
  },
  {
   "cell_type": "code",
   "execution_count": 10,
   "id": "30b63a55",
   "metadata": {},
   "outputs": [
    {
     "name": "stdout",
     "output_type": "stream",
     "text": [
      "<class 'pandas.core.frame.DataFrame'>\n",
      "RangeIndex: 10886 entries, 0 to 10885\n",
      "Data columns (total 12 columns):\n",
      " #   Column      Non-Null Count  Dtype  \n",
      "---  ------      --------------  -----  \n",
      " 0   datetime    10886 non-null  object \n",
      " 1   season      10886 non-null  int64  \n",
      " 2   holiday     10886 non-null  int64  \n",
      " 3   workingday  10886 non-null  int64  \n",
      " 4   weather     10886 non-null  int64  \n",
      " 5   temp        10886 non-null  float64\n",
      " 6   atemp       10886 non-null  float64\n",
      " 7   humidity    10886 non-null  int64  \n",
      " 8   windspeed   10886 non-null  float64\n",
      " 9   casual      10886 non-null  int64  \n",
      " 10  registered  10886 non-null  int64  \n",
      " 11  count       10886 non-null  int64  \n",
      "dtypes: float64(3), int64(8), object(1)\n",
      "memory usage: 1020.7+ KB\n"
     ]
    }
   ],
   "source": [
    "df.info()"
   ]
  },
  {
   "cell_type": "markdown",
   "id": "368ed304",
   "metadata": {},
   "source": [
    "There are 10886 records in the data set with 12 different features. Most of them are integer type eventhough they are catagorical. We may need to assess this."
   ]
  },
  {
   "cell_type": "code",
   "execution_count": 11,
   "id": "0ecc957a",
   "metadata": {},
   "outputs": [
    {
     "data": {
      "text/plain": [
       "datetime      0\n",
       "season        0\n",
       "holiday       0\n",
       "workingday    0\n",
       "weather       0\n",
       "temp          0\n",
       "atemp         0\n",
       "humidity      0\n",
       "windspeed     0\n",
       "casual        0\n",
       "registered    0\n",
       "count         0\n",
       "dtype: int64"
      ]
     },
     "execution_count": 11,
     "metadata": {},
     "output_type": "execute_result"
    }
   ],
   "source": [
    "df.isnull().sum()"
   ]
  },
  {
   "cell_type": "markdown",
   "id": "a8235bdc",
   "metadata": {},
   "source": [
    "The dataset doesnot have any missing values."
   ]
  },
  {
   "cell_type": "code",
   "execution_count": 12,
   "id": "81c43ee3",
   "metadata": {},
   "outputs": [
    {
     "data": {
      "text/plain": [
       "NO     10575\n",
       "Yes      311\n",
       "Name: holiday, dtype: int64"
      ]
     },
     "execution_count": 12,
     "metadata": {},
     "output_type": "execute_result"
    }
   ],
   "source": [
    "new_df[\"holiday\"].value_counts()"
   ]
  },
  {
   "cell_type": "code",
   "execution_count": 13,
   "id": "08cacb5b",
   "metadata": {},
   "outputs": [
    {
     "data": {
      "text/plain": [
       "array(['spring', 'summer', 'fall', 'winter'], dtype=object)"
      ]
     },
     "execution_count": 13,
     "metadata": {},
     "output_type": "execute_result"
    }
   ],
   "source": [
    "def func_season(x):\n",
    "    d = {1: \"spring\", 2: \"summer\", 3: \"fall\", 4: \"winter\"}\n",
    "    return d[x]\n",
    "\n",
    "new_df[\"season\"] = new_df[\"season\"].apply(lambda x:func_season(x))\n",
    "\n",
    "\n",
    "new_df[\"season\"].unique()"
   ]
  },
  {
   "cell_type": "code",
   "execution_count": 14,
   "id": "a8a6c0bc",
   "metadata": {},
   "outputs": [],
   "source": [
    "temp = new_df[\"datetime\"].str.split(expand=True).rename({0:\"date\",1:\"time\"},axis = 1)"
   ]
  },
  {
   "cell_type": "code",
   "execution_count": 15,
   "id": "08fc2d23",
   "metadata": {},
   "outputs": [],
   "source": [
    "new_df[\"date\"] = temp[\"date\"]\n",
    "new_df[\"time\"] = temp[\"time\"]\n"
   ]
  },
  {
   "cell_type": "code",
   "execution_count": 16,
   "id": "ff200835",
   "metadata": {},
   "outputs": [],
   "source": [
    "new_df.drop(columns=[\"datetime\"] , inplace = True)"
   ]
  },
  {
   "cell_type": "code",
   "execution_count": 17,
   "id": "03a21370",
   "metadata": {},
   "outputs": [
    {
     "data": {
      "text/html": [
       "<div>\n",
       "<style scoped>\n",
       "    .dataframe tbody tr th:only-of-type {\n",
       "        vertical-align: middle;\n",
       "    }\n",
       "\n",
       "    .dataframe tbody tr th {\n",
       "        vertical-align: top;\n",
       "    }\n",
       "\n",
       "    .dataframe thead th {\n",
       "        text-align: right;\n",
       "    }\n",
       "</style>\n",
       "<table border=\"1\" class=\"dataframe\">\n",
       "  <thead>\n",
       "    <tr style=\"text-align: right;\">\n",
       "      <th></th>\n",
       "      <th>season</th>\n",
       "      <th>holiday</th>\n",
       "      <th>workingday</th>\n",
       "      <th>weather</th>\n",
       "      <th>temp</th>\n",
       "      <th>atemp</th>\n",
       "      <th>humidity</th>\n",
       "      <th>windspeed</th>\n",
       "      <th>casual</th>\n",
       "      <th>registered</th>\n",
       "      <th>count</th>\n",
       "      <th>date</th>\n",
       "      <th>time</th>\n",
       "    </tr>\n",
       "  </thead>\n",
       "  <tbody>\n",
       "    <tr>\n",
       "      <th>0</th>\n",
       "      <td>spring</td>\n",
       "      <td>NO</td>\n",
       "      <td>0</td>\n",
       "      <td>1</td>\n",
       "      <td>9.84</td>\n",
       "      <td>14.395</td>\n",
       "      <td>81</td>\n",
       "      <td>0.0000</td>\n",
       "      <td>3</td>\n",
       "      <td>13</td>\n",
       "      <td>16</td>\n",
       "      <td>2011-01-01</td>\n",
       "      <td>00:00:00</td>\n",
       "    </tr>\n",
       "    <tr>\n",
       "      <th>1</th>\n",
       "      <td>spring</td>\n",
       "      <td>NO</td>\n",
       "      <td>0</td>\n",
       "      <td>1</td>\n",
       "      <td>9.02</td>\n",
       "      <td>13.635</td>\n",
       "      <td>80</td>\n",
       "      <td>0.0000</td>\n",
       "      <td>8</td>\n",
       "      <td>32</td>\n",
       "      <td>40</td>\n",
       "      <td>2011-01-01</td>\n",
       "      <td>01:00:00</td>\n",
       "    </tr>\n",
       "    <tr>\n",
       "      <th>2</th>\n",
       "      <td>spring</td>\n",
       "      <td>NO</td>\n",
       "      <td>0</td>\n",
       "      <td>1</td>\n",
       "      <td>9.02</td>\n",
       "      <td>13.635</td>\n",
       "      <td>80</td>\n",
       "      <td>0.0000</td>\n",
       "      <td>5</td>\n",
       "      <td>27</td>\n",
       "      <td>32</td>\n",
       "      <td>2011-01-01</td>\n",
       "      <td>02:00:00</td>\n",
       "    </tr>\n",
       "    <tr>\n",
       "      <th>3</th>\n",
       "      <td>spring</td>\n",
       "      <td>NO</td>\n",
       "      <td>0</td>\n",
       "      <td>1</td>\n",
       "      <td>9.84</td>\n",
       "      <td>14.395</td>\n",
       "      <td>75</td>\n",
       "      <td>0.0000</td>\n",
       "      <td>3</td>\n",
       "      <td>10</td>\n",
       "      <td>13</td>\n",
       "      <td>2011-01-01</td>\n",
       "      <td>03:00:00</td>\n",
       "    </tr>\n",
       "    <tr>\n",
       "      <th>4</th>\n",
       "      <td>spring</td>\n",
       "      <td>NO</td>\n",
       "      <td>0</td>\n",
       "      <td>1</td>\n",
       "      <td>9.84</td>\n",
       "      <td>14.395</td>\n",
       "      <td>75</td>\n",
       "      <td>0.0000</td>\n",
       "      <td>0</td>\n",
       "      <td>1</td>\n",
       "      <td>1</td>\n",
       "      <td>2011-01-01</td>\n",
       "      <td>04:00:00</td>\n",
       "    </tr>\n",
       "    <tr>\n",
       "      <th>...</th>\n",
       "      <td>...</td>\n",
       "      <td>...</td>\n",
       "      <td>...</td>\n",
       "      <td>...</td>\n",
       "      <td>...</td>\n",
       "      <td>...</td>\n",
       "      <td>...</td>\n",
       "      <td>...</td>\n",
       "      <td>...</td>\n",
       "      <td>...</td>\n",
       "      <td>...</td>\n",
       "      <td>...</td>\n",
       "      <td>...</td>\n",
       "    </tr>\n",
       "    <tr>\n",
       "      <th>10881</th>\n",
       "      <td>winter</td>\n",
       "      <td>NO</td>\n",
       "      <td>1</td>\n",
       "      <td>1</td>\n",
       "      <td>15.58</td>\n",
       "      <td>19.695</td>\n",
       "      <td>50</td>\n",
       "      <td>26.0027</td>\n",
       "      <td>7</td>\n",
       "      <td>329</td>\n",
       "      <td>336</td>\n",
       "      <td>2012-12-19</td>\n",
       "      <td>19:00:00</td>\n",
       "    </tr>\n",
       "    <tr>\n",
       "      <th>10882</th>\n",
       "      <td>winter</td>\n",
       "      <td>NO</td>\n",
       "      <td>1</td>\n",
       "      <td>1</td>\n",
       "      <td>14.76</td>\n",
       "      <td>17.425</td>\n",
       "      <td>57</td>\n",
       "      <td>15.0013</td>\n",
       "      <td>10</td>\n",
       "      <td>231</td>\n",
       "      <td>241</td>\n",
       "      <td>2012-12-19</td>\n",
       "      <td>20:00:00</td>\n",
       "    </tr>\n",
       "    <tr>\n",
       "      <th>10883</th>\n",
       "      <td>winter</td>\n",
       "      <td>NO</td>\n",
       "      <td>1</td>\n",
       "      <td>1</td>\n",
       "      <td>13.94</td>\n",
       "      <td>15.910</td>\n",
       "      <td>61</td>\n",
       "      <td>15.0013</td>\n",
       "      <td>4</td>\n",
       "      <td>164</td>\n",
       "      <td>168</td>\n",
       "      <td>2012-12-19</td>\n",
       "      <td>21:00:00</td>\n",
       "    </tr>\n",
       "    <tr>\n",
       "      <th>10884</th>\n",
       "      <td>winter</td>\n",
       "      <td>NO</td>\n",
       "      <td>1</td>\n",
       "      <td>1</td>\n",
       "      <td>13.94</td>\n",
       "      <td>17.425</td>\n",
       "      <td>61</td>\n",
       "      <td>6.0032</td>\n",
       "      <td>12</td>\n",
       "      <td>117</td>\n",
       "      <td>129</td>\n",
       "      <td>2012-12-19</td>\n",
       "      <td>22:00:00</td>\n",
       "    </tr>\n",
       "    <tr>\n",
       "      <th>10885</th>\n",
       "      <td>winter</td>\n",
       "      <td>NO</td>\n",
       "      <td>1</td>\n",
       "      <td>1</td>\n",
       "      <td>13.12</td>\n",
       "      <td>16.665</td>\n",
       "      <td>66</td>\n",
       "      <td>8.9981</td>\n",
       "      <td>4</td>\n",
       "      <td>84</td>\n",
       "      <td>88</td>\n",
       "      <td>2012-12-19</td>\n",
       "      <td>23:00:00</td>\n",
       "    </tr>\n",
       "  </tbody>\n",
       "</table>\n",
       "<p>10886 rows × 13 columns</p>\n",
       "</div>"
      ],
      "text/plain": [
       "       season holiday  workingday  weather   temp   atemp  humidity  \\\n",
       "0      spring      NO           0        1   9.84  14.395        81   \n",
       "1      spring      NO           0        1   9.02  13.635        80   \n",
       "2      spring      NO           0        1   9.02  13.635        80   \n",
       "3      spring      NO           0        1   9.84  14.395        75   \n",
       "4      spring      NO           0        1   9.84  14.395        75   \n",
       "...       ...     ...         ...      ...    ...     ...       ...   \n",
       "10881  winter      NO           1        1  15.58  19.695        50   \n",
       "10882  winter      NO           1        1  14.76  17.425        57   \n",
       "10883  winter      NO           1        1  13.94  15.910        61   \n",
       "10884  winter      NO           1        1  13.94  17.425        61   \n",
       "10885  winter      NO           1        1  13.12  16.665        66   \n",
       "\n",
       "       windspeed  casual  registered  count        date      time  \n",
       "0         0.0000       3          13     16  2011-01-01  00:00:00  \n",
       "1         0.0000       8          32     40  2011-01-01  01:00:00  \n",
       "2         0.0000       5          27     32  2011-01-01  02:00:00  \n",
       "3         0.0000       3          10     13  2011-01-01  03:00:00  \n",
       "4         0.0000       0           1      1  2011-01-01  04:00:00  \n",
       "...          ...     ...         ...    ...         ...       ...  \n",
       "10881    26.0027       7         329    336  2012-12-19  19:00:00  \n",
       "10882    15.0013      10         231    241  2012-12-19  20:00:00  \n",
       "10883    15.0013       4         164    168  2012-12-19  21:00:00  \n",
       "10884     6.0032      12         117    129  2012-12-19  22:00:00  \n",
       "10885     8.9981       4          84     88  2012-12-19  23:00:00  \n",
       "\n",
       "[10886 rows x 13 columns]"
      ]
     },
     "execution_count": 17,
     "metadata": {},
     "output_type": "execute_result"
    }
   ],
   "source": [
    "new_df"
   ]
  },
  {
   "cell_type": "code",
   "execution_count": 18,
   "id": "54e1f718",
   "metadata": {},
   "outputs": [
    {
     "data": {
      "text/html": [
       "<div>\n",
       "<style scoped>\n",
       "    .dataframe tbody tr th:only-of-type {\n",
       "        vertical-align: middle;\n",
       "    }\n",
       "\n",
       "    .dataframe tbody tr th {\n",
       "        vertical-align: top;\n",
       "    }\n",
       "\n",
       "    .dataframe thead th {\n",
       "        text-align: right;\n",
       "    }\n",
       "</style>\n",
       "<table border=\"1\" class=\"dataframe\">\n",
       "  <thead>\n",
       "    <tr style=\"text-align: right;\">\n",
       "      <th></th>\n",
       "      <th>season</th>\n",
       "      <th>date</th>\n",
       "      <th>time</th>\n",
       "      <th>holiday</th>\n",
       "      <th>workingday</th>\n",
       "      <th>weather</th>\n",
       "      <th>temp</th>\n",
       "      <th>atemp</th>\n",
       "      <th>humidity</th>\n",
       "      <th>windspeed</th>\n",
       "      <th>casual</th>\n",
       "      <th>registered</th>\n",
       "      <th>count</th>\n",
       "    </tr>\n",
       "  </thead>\n",
       "  <tbody>\n",
       "    <tr>\n",
       "      <th>0</th>\n",
       "      <td>spring</td>\n",
       "      <td>2011-01-01</td>\n",
       "      <td>00:00:00</td>\n",
       "      <td>NO</td>\n",
       "      <td>0</td>\n",
       "      <td>1</td>\n",
       "      <td>9.84</td>\n",
       "      <td>14.395</td>\n",
       "      <td>81</td>\n",
       "      <td>0.0000</td>\n",
       "      <td>3</td>\n",
       "      <td>13</td>\n",
       "      <td>16</td>\n",
       "    </tr>\n",
       "    <tr>\n",
       "      <th>1</th>\n",
       "      <td>spring</td>\n",
       "      <td>2011-01-01</td>\n",
       "      <td>01:00:00</td>\n",
       "      <td>NO</td>\n",
       "      <td>0</td>\n",
       "      <td>1</td>\n",
       "      <td>9.02</td>\n",
       "      <td>13.635</td>\n",
       "      <td>80</td>\n",
       "      <td>0.0000</td>\n",
       "      <td>8</td>\n",
       "      <td>32</td>\n",
       "      <td>40</td>\n",
       "    </tr>\n",
       "    <tr>\n",
       "      <th>2</th>\n",
       "      <td>spring</td>\n",
       "      <td>2011-01-01</td>\n",
       "      <td>02:00:00</td>\n",
       "      <td>NO</td>\n",
       "      <td>0</td>\n",
       "      <td>1</td>\n",
       "      <td>9.02</td>\n",
       "      <td>13.635</td>\n",
       "      <td>80</td>\n",
       "      <td>0.0000</td>\n",
       "      <td>5</td>\n",
       "      <td>27</td>\n",
       "      <td>32</td>\n",
       "    </tr>\n",
       "    <tr>\n",
       "      <th>3</th>\n",
       "      <td>spring</td>\n",
       "      <td>2011-01-01</td>\n",
       "      <td>03:00:00</td>\n",
       "      <td>NO</td>\n",
       "      <td>0</td>\n",
       "      <td>1</td>\n",
       "      <td>9.84</td>\n",
       "      <td>14.395</td>\n",
       "      <td>75</td>\n",
       "      <td>0.0000</td>\n",
       "      <td>3</td>\n",
       "      <td>10</td>\n",
       "      <td>13</td>\n",
       "    </tr>\n",
       "    <tr>\n",
       "      <th>4</th>\n",
       "      <td>spring</td>\n",
       "      <td>2011-01-01</td>\n",
       "      <td>04:00:00</td>\n",
       "      <td>NO</td>\n",
       "      <td>0</td>\n",
       "      <td>1</td>\n",
       "      <td>9.84</td>\n",
       "      <td>14.395</td>\n",
       "      <td>75</td>\n",
       "      <td>0.0000</td>\n",
       "      <td>0</td>\n",
       "      <td>1</td>\n",
       "      <td>1</td>\n",
       "    </tr>\n",
       "    <tr>\n",
       "      <th>...</th>\n",
       "      <td>...</td>\n",
       "      <td>...</td>\n",
       "      <td>...</td>\n",
       "      <td>...</td>\n",
       "      <td>...</td>\n",
       "      <td>...</td>\n",
       "      <td>...</td>\n",
       "      <td>...</td>\n",
       "      <td>...</td>\n",
       "      <td>...</td>\n",
       "      <td>...</td>\n",
       "      <td>...</td>\n",
       "      <td>...</td>\n",
       "    </tr>\n",
       "    <tr>\n",
       "      <th>10881</th>\n",
       "      <td>winter</td>\n",
       "      <td>2012-12-19</td>\n",
       "      <td>19:00:00</td>\n",
       "      <td>NO</td>\n",
       "      <td>1</td>\n",
       "      <td>1</td>\n",
       "      <td>15.58</td>\n",
       "      <td>19.695</td>\n",
       "      <td>50</td>\n",
       "      <td>26.0027</td>\n",
       "      <td>7</td>\n",
       "      <td>329</td>\n",
       "      <td>336</td>\n",
       "    </tr>\n",
       "    <tr>\n",
       "      <th>10882</th>\n",
       "      <td>winter</td>\n",
       "      <td>2012-12-19</td>\n",
       "      <td>20:00:00</td>\n",
       "      <td>NO</td>\n",
       "      <td>1</td>\n",
       "      <td>1</td>\n",
       "      <td>14.76</td>\n",
       "      <td>17.425</td>\n",
       "      <td>57</td>\n",
       "      <td>15.0013</td>\n",
       "      <td>10</td>\n",
       "      <td>231</td>\n",
       "      <td>241</td>\n",
       "    </tr>\n",
       "    <tr>\n",
       "      <th>10883</th>\n",
       "      <td>winter</td>\n",
       "      <td>2012-12-19</td>\n",
       "      <td>21:00:00</td>\n",
       "      <td>NO</td>\n",
       "      <td>1</td>\n",
       "      <td>1</td>\n",
       "      <td>13.94</td>\n",
       "      <td>15.910</td>\n",
       "      <td>61</td>\n",
       "      <td>15.0013</td>\n",
       "      <td>4</td>\n",
       "      <td>164</td>\n",
       "      <td>168</td>\n",
       "    </tr>\n",
       "    <tr>\n",
       "      <th>10884</th>\n",
       "      <td>winter</td>\n",
       "      <td>2012-12-19</td>\n",
       "      <td>22:00:00</td>\n",
       "      <td>NO</td>\n",
       "      <td>1</td>\n",
       "      <td>1</td>\n",
       "      <td>13.94</td>\n",
       "      <td>17.425</td>\n",
       "      <td>61</td>\n",
       "      <td>6.0032</td>\n",
       "      <td>12</td>\n",
       "      <td>117</td>\n",
       "      <td>129</td>\n",
       "    </tr>\n",
       "    <tr>\n",
       "      <th>10885</th>\n",
       "      <td>winter</td>\n",
       "      <td>2012-12-19</td>\n",
       "      <td>23:00:00</td>\n",
       "      <td>NO</td>\n",
       "      <td>1</td>\n",
       "      <td>1</td>\n",
       "      <td>13.12</td>\n",
       "      <td>16.665</td>\n",
       "      <td>66</td>\n",
       "      <td>8.9981</td>\n",
       "      <td>4</td>\n",
       "      <td>84</td>\n",
       "      <td>88</td>\n",
       "    </tr>\n",
       "  </tbody>\n",
       "</table>\n",
       "<p>10886 rows × 13 columns</p>\n",
       "</div>"
      ],
      "text/plain": [
       "       season        date      time holiday  workingday  weather   temp  \\\n",
       "0      spring  2011-01-01  00:00:00      NO           0        1   9.84   \n",
       "1      spring  2011-01-01  01:00:00      NO           0        1   9.02   \n",
       "2      spring  2011-01-01  02:00:00      NO           0        1   9.02   \n",
       "3      spring  2011-01-01  03:00:00      NO           0        1   9.84   \n",
       "4      spring  2011-01-01  04:00:00      NO           0        1   9.84   \n",
       "...       ...         ...       ...     ...         ...      ...    ...   \n",
       "10881  winter  2012-12-19  19:00:00      NO           1        1  15.58   \n",
       "10882  winter  2012-12-19  20:00:00      NO           1        1  14.76   \n",
       "10883  winter  2012-12-19  21:00:00      NO           1        1  13.94   \n",
       "10884  winter  2012-12-19  22:00:00      NO           1        1  13.94   \n",
       "10885  winter  2012-12-19  23:00:00      NO           1        1  13.12   \n",
       "\n",
       "        atemp  humidity  windspeed  casual  registered  count  \n",
       "0      14.395        81     0.0000       3          13     16  \n",
       "1      13.635        80     0.0000       8          32     40  \n",
       "2      13.635        80     0.0000       5          27     32  \n",
       "3      14.395        75     0.0000       3          10     13  \n",
       "4      14.395        75     0.0000       0           1      1  \n",
       "...       ...       ...        ...     ...         ...    ...  \n",
       "10881  19.695        50    26.0027       7         329    336  \n",
       "10882  17.425        57    15.0013      10         231    241  \n",
       "10883  15.910        61    15.0013       4         164    168  \n",
       "10884  17.425        61     6.0032      12         117    129  \n",
       "10885  16.665        66     8.9981       4          84     88  \n",
       "\n",
       "[10886 rows x 13 columns]"
      ]
     },
     "execution_count": 18,
     "metadata": {},
     "output_type": "execute_result"
    }
   ],
   "source": [
    "new_df.reindex(columns=['season','date','time', 'holiday', 'workingday', 'weather', 'temp', 'atemp',\n",
    "       'humidity', 'windspeed', 'casual', 'registered', 'count'])"
   ]
  },
  {
   "cell_type": "code",
   "execution_count": 19,
   "id": "1312f6bd",
   "metadata": {},
   "outputs": [],
   "source": [
    "# add weather split and explode and start analysis\n",
    "d = {1: \"Clear, Few clouds, partly cloudy, partly cloudy\"\n",
    ",2: \"Mist + Cloudy, Mist + Broken clouds, Mist + Few clouds, Mist\"\n",
    ",3: \"Light Snow, Light Rain + Thunderstorm + Scattered clouds, Light Rain + Scattered clouds\"\n",
    ",4: \"Heavy Rain + Ice Pallets + Thunderstorm + Mist, Snow + Fog\"}\n",
    "    \n"
   ]
  },
  {
   "cell_type": "code",
   "execution_count": 20,
   "id": "97d7005a",
   "metadata": {},
   "outputs": [
    {
     "data": {
      "text/plain": [
       "{1: 'Clear, Few clouds, partly cloudy, partly cloudy',\n",
       " 2: 'Mist + Cloudy, Mist + Broken clouds, Mist + Few clouds, Mist',\n",
       " 3: 'Light Snow, Light Rain + Thunderstorm + Scattered clouds, Light Rain + Scattered clouds',\n",
       " 4: 'Heavy Rain + Ice Pallets + Thunderstorm + Mist, Snow + Fog'}"
      ]
     },
     "execution_count": 20,
     "metadata": {},
     "output_type": "execute_result"
    }
   ],
   "source": [
    "d"
   ]
  },
  {
   "cell_type": "code",
   "execution_count": 21,
   "id": "99fe37ca",
   "metadata": {},
   "outputs": [],
   "source": [
    "def func_working(x):\n",
    "    if x == 0:\n",
    "        return \"NonWorkingDay\"\n",
    "    return \"WorkingDay\"\n",
    "\n",
    "new_df[\"workingDay\"] = new_df[\"workingday\"].apply(lambda x : func_working(x))"
   ]
  },
  {
   "cell_type": "code",
   "execution_count": 22,
   "id": "143960a0",
   "metadata": {},
   "outputs": [
    {
     "data": {
      "text/plain": [
       "array(['NonWorkingDay', 'WorkingDay'], dtype=object)"
      ]
     },
     "execution_count": 22,
     "metadata": {},
     "output_type": "execute_result"
    }
   ],
   "source": [
    "new_df[\"workingDay\"].unique()"
   ]
  },
  {
   "cell_type": "markdown",
   "id": "5299e201",
   "metadata": {},
   "source": [
    "## Let's see if holiday has an impact on count."
   ]
  },
  {
   "cell_type": "code",
   "execution_count": 23,
   "id": "88cf113d",
   "metadata": {},
   "outputs": [
    {
     "data": {
      "text/plain": [
       "<AxesSubplot:xlabel='holiday', ylabel='count'>"
      ]
     },
     "execution_count": 23,
     "metadata": {},
     "output_type": "execute_result"
    },
    {
     "data": {
      "image/png": "[encoded data removed]",
      "text/plain": [
       "<Figure size 432x288 with 1 Axes>"
      ]
     },
     "metadata": {
      "needs_background": "light"
     },
     "output_type": "display_data"
    }
   ],
   "source": [
    "sns.boxplot(x = new_df[\"holiday\"],y=df[\"count\"])"
   ]
  },
  {
   "cell_type": "code",
   "execution_count": 24,
   "id": "1da78685",
   "metadata": {},
   "outputs": [
    {
     "data": {
      "text/plain": [
       "holiday\n",
       "NO     2027668\n",
       "Yes      57808\n",
       "Name: count, dtype: int64"
      ]
     },
     "execution_count": 24,
     "metadata": {},
     "output_type": "execute_result"
    }
   ],
   "source": [
    "new_df.groupby(\"holiday\")[\"count\"].sum()"
   ]
  },
  {
   "cell_type": "code",
   "execution_count": 25,
   "id": "8f25ff00",
   "metadata": {},
   "outputs": [
    {
     "data": {
      "text/html": [
       "<div>\n",
       "<style scoped>\n",
       "    .dataframe tbody tr th:only-of-type {\n",
       "        vertical-align: middle;\n",
       "    }\n",
       "\n",
       "    .dataframe tbody tr th {\n",
       "        vertical-align: top;\n",
       "    }\n",
       "\n",
       "    .dataframe thead th {\n",
       "        text-align: right;\n",
       "    }\n",
       "</style>\n",
       "<table border=\"1\" class=\"dataframe\">\n",
       "  <thead>\n",
       "    <tr style=\"text-align: right;\">\n",
       "      <th></th>\n",
       "      <th>count</th>\n",
       "      <th>mean</th>\n",
       "      <th>std</th>\n",
       "      <th>min</th>\n",
       "      <th>25%</th>\n",
       "      <th>50%</th>\n",
       "      <th>75%</th>\n",
       "      <th>max</th>\n",
       "    </tr>\n",
       "    <tr>\n",
       "      <th>holiday</th>\n",
       "      <th></th>\n",
       "      <th></th>\n",
       "      <th></th>\n",
       "      <th></th>\n",
       "      <th></th>\n",
       "      <th></th>\n",
       "      <th></th>\n",
       "      <th></th>\n",
       "    </tr>\n",
       "  </thead>\n",
       "  <tbody>\n",
       "    <tr>\n",
       "      <th>NO</th>\n",
       "      <td>10575.0</td>\n",
       "      <td>191.741655</td>\n",
       "      <td>181.513131</td>\n",
       "      <td>1.0</td>\n",
       "      <td>43.0</td>\n",
       "      <td>145.0</td>\n",
       "      <td>283.0</td>\n",
       "      <td>977.0</td>\n",
       "    </tr>\n",
       "    <tr>\n",
       "      <th>Yes</th>\n",
       "      <td>311.0</td>\n",
       "      <td>185.877814</td>\n",
       "      <td>168.300531</td>\n",
       "      <td>1.0</td>\n",
       "      <td>38.5</td>\n",
       "      <td>133.0</td>\n",
       "      <td>308.0</td>\n",
       "      <td>712.0</td>\n",
       "    </tr>\n",
       "  </tbody>\n",
       "</table>\n",
       "</div>"
      ],
      "text/plain": [
       "           count        mean         std  min   25%    50%    75%    max\n",
       "holiday                                                                 \n",
       "NO       10575.0  191.741655  181.513131  1.0  43.0  145.0  283.0  977.0\n",
       "Yes        311.0  185.877814  168.300531  1.0  38.5  133.0  308.0  712.0"
      ]
     },
     "execution_count": 25,
     "metadata": {},
     "output_type": "execute_result"
    }
   ],
   "source": [
    "new_df.groupby(\"holiday\")[\"count\"].describe()"
   ]
  },
  {
   "cell_type": "code",
   "execution_count": 26,
   "id": "540c33f0",
   "metadata": {},
   "outputs": [
    {
     "data": {
      "text/plain": [
       "holiday\n",
       "NO     191.741655\n",
       "Yes    185.877814\n",
       "Name: count, dtype: float64"
      ]
     },
     "execution_count": 26,
     "metadata": {},
     "output_type": "execute_result"
    }
   ],
   "source": [
    "new_df.groupby(\"holiday\")[\"count\"].mean()"
   ]
  },
  {
   "cell_type": "markdown",
   "id": "0acb6cf1",
   "metadata": {},
   "source": [
    "We see the avegage number of electric cycles rented on weekdays is more when compared to those on holidays.We have to confirm this using Hypothesys testing."
   ]
  },
  {
   "cell_type": "markdown",
   "id": "ea47696e",
   "metadata": {},
   "source": [
    "As this we are using Numerical vs categorical feature with two  categories we can use **2 sample T-test**\n",
    "- we check for 5% significance,10% significance\n",
    "- we assumen the data is independent\n",
    "- we assume the samples are random."
   ]
  },
  {
   "cell_type": "markdown",
   "id": "047ab014",
   "metadata": {},
   "source": [
    "checcking if data is normal"
   ]
  },
  {
   "cell_type": "code",
   "execution_count": 27,
   "id": "1f2e4938",
   "metadata": {},
   "outputs": [],
   "source": [
    "holiday = df[new_df[\"holiday\"] == \"Yes\"][\"count\"]\n",
    "\n",
    "nonholiday = df[new_df[\"holiday\"] == \"NO\"][\"count\"]\n"
   ]
  },
  {
   "cell_type": "code",
   "execution_count": 28,
   "id": "28f735e1",
   "metadata": {},
   "outputs": [],
   "source": [
    "sample_size_holi = 30\n",
    "iterations = 1000\n",
    "sample_size_non = 1000\n"
   ]
  },
  {
   "cell_type": "code",
   "execution_count": 29,
   "id": "160810d1",
   "metadata": {},
   "outputs": [
    {
     "data": {
      "image/png": "[encoded data removed]",
      "text/plain": [
       "<Figure size 1080x360 with 2 Axes>"
      ]
     },
     "metadata": {
      "needs_background": "light"
     },
     "output_type": "display_data"
    }
   ],
   "source": [
    "fig,axes = plt.subplots(1,2,figsize=(15,5))\n",
    "list_of_holiday_means = [holiday.sample(sample_size_holi).mean() for i in range(iterations)]\n",
    "axes[0].set_title(\"Holidays\")\n",
    "sns.histplot(list_of_holiday_means,kde=True,ax=axes[0])\n",
    "\n",
    "list_of_non_holiday_means = [nonholiday.sample(sample_size_non).mean() for i in range(iterations)]\n",
    "axes[1].set_title(\"Non Holidays\")\n",
    "sns.histplot(list_of_non_holiday_means,kde=True,ax=axes[1])\n",
    "plt.show()"
   ]
  },
  {
   "cell_type": "markdown",
   "id": "5e5fe9e2",
   "metadata": {},
   "source": [
    "We see distribution looks normal.But we have to use qqplots and shapiro to test for gaussian. Not required at this moment. We can see that when we do ANOVA."
   ]
  },
  {
   "cell_type": "markdown",
   "id": "3a5bb569",
   "metadata": {},
   "source": [
    "Test Statistic: Average number of rentals. μ<br>\n",
    "**Step 1**: defining Null Hypothesis and alternate Hypothesis<br>\n",
    "μ1 is mean on Non holidays<br>\n",
    "μ2 is mean on holidays\n",
    "\n",
    "**H0**: μ1 = μ2 <br>\n",
    "**Ha**: μ1 ≠  μ2 <br>"
   ]
  },
  {
   "cell_type": "code",
   "execution_count": 30,
   "id": "14c35bb3",
   "metadata": {},
   "outputs": [
    {
     "name": "stdout",
     "output_type": "stream",
     "text": [
      "T Statistic: 0.5626388963477119\n",
      "P Value: 0.5736923883271103\n",
      "--------------------------------------------------\n",
      "\u001b[1mFor 0.05% significance\u001b[0m\n",
      "Failed to reject H0\n",
      "The Difference between μ1 and μ2 is stastically Insgnificant\n",
      "--------------------------------------------------\n",
      "--------------------------------------------------\n",
      "\u001b[1mFor 0.1% significance\u001b[0m\n",
      "Failed to reject H0\n",
      "The Difference between μ1 and μ2 is stastically Insgnificant\n",
      "--------------------------------------------------\n"
     ]
    }
   ],
   "source": [
    "BOLD = '\\033[1m'\n",
    "END = '\\033[0m'\n",
    "t_statistic,p_val = ttest_ind(nonholiday,holiday)\n",
    "print(f\"T Statistic: {t_statistic}\\nP Value: {p_val}\")\n",
    "def func(alpha):\n",
    "    print(\"-\"*50)\n",
    "    print(BOLD+f\"For {alpha}% significance\"+END)\n",
    "    if p_val < alpha :\n",
    "        print(\"Reject null hypothesis\")\n",
    "        print(\"μ1 ≠  μ2\")\n",
    "    else:\n",
    "        print(\"Failed to reject H0\")\n",
    "        print(\"The Difference between μ1 and μ2 is stastically Insgnificant\")\n",
    "    print(\"-\"*50)\n",
    "for i in [0.05,0.1]:\n",
    "    func(i)"
   ]
  },
  {
   "cell_type": "markdown",
   "id": "f96b8470",
   "metadata": {},
   "source": [
    "Conclusion: Holiday does not seem to effect the business."
   ]
  },
  {
   "cell_type": "markdown",
   "id": "dd4a4356",
   "metadata": {},
   "source": [
    "## Working Day has an effect on count?"
   ]
  },
  {
   "cell_type": "code",
   "execution_count": 31,
   "id": "4339d766",
   "metadata": {},
   "outputs": [],
   "source": [
    "new_df.drop(columns=[\"workingday\"],inplace=True)"
   ]
  },
  {
   "cell_type": "code",
   "execution_count": 32,
   "id": "1ab69177",
   "metadata": {},
   "outputs": [],
   "source": [
    "new_df.rename(columns={\"workingDay\":\"workingday\"},inplace = True)"
   ]
  },
  {
   "cell_type": "code",
   "execution_count": 33,
   "id": "afd4905a",
   "metadata": {},
   "outputs": [
    {
     "data": {
      "text/plain": [
       "WorkingDay       7412\n",
       "NonWorkingDay    3474\n",
       "Name: workingday, dtype: int64"
      ]
     },
     "execution_count": 33,
     "metadata": {},
     "output_type": "execute_result"
    }
   ],
   "source": [
    "new_df[\"workingday\"].value_counts()"
   ]
  },
  {
   "cell_type": "code",
   "execution_count": 34,
   "id": "52478950",
   "metadata": {},
   "outputs": [
    {
     "data": {
      "text/plain": [
       "workingday\n",
       "NonWorkingDay    188.506621\n",
       "WorkingDay       193.011873\n",
       "Name: count, dtype: float64"
      ]
     },
     "execution_count": 34,
     "metadata": {},
     "output_type": "execute_result"
    }
   ],
   "source": [
    "new_df.groupby([\"workingday\"])[\"count\"].mean()"
   ]
  },
  {
   "cell_type": "markdown",
   "id": "0e5715d6",
   "metadata": {},
   "source": [
    "We see the avegage number of electric cycles rented on working day is more when compared to those on non working day.We have to confirm this using Hypothesys testing."
   ]
  },
  {
   "cell_type": "code",
   "execution_count": 35,
   "id": "ef3cd4ca",
   "metadata": {},
   "outputs": [],
   "source": [
    "workingDay = df[new_df[\"workingday\"] == \"WorkingDay\"][\"count\"]\n",
    "\n",
    "nonworkingDay = df[new_df[\"workingday\"] == \"NonWorkingDay\"][\"count\"]\n",
    "\n"
   ]
  },
  {
   "cell_type": "code",
   "execution_count": 36,
   "id": "db46cada",
   "metadata": {},
   "outputs": [],
   "source": [
    "sample_size_working = 700\n",
    "iterations = 1000\n",
    "sample_size_nonworking = 300\n"
   ]
  },
  {
   "cell_type": "code",
   "execution_count": 37,
   "id": "1bd89f15",
   "metadata": {},
   "outputs": [
    {
     "data": {
      "image/png": "[encoded data removed]",
      "text/plain": [
       "<Figure size 1080x360 with 2 Axes>"
      ]
     },
     "metadata": {
      "needs_background": "light"
     },
     "output_type": "display_data"
    }
   ],
   "source": [
    "fig,axes = plt.subplots(1,2,figsize=(15,5))\n",
    "list_of_workingday_means = [workingDay.sample(sample_size_working).mean() for i in range(iterations)]\n",
    "axes[0].set_title(\"Working Days\")\n",
    "sns.histplot(list_of_workingday_means,kde=True,ax=axes[0])\n",
    "\n",
    "list_of_non_workingday_means = [nonworkingDay.sample(sample_size_nonworking).mean() for i in range(iterations)]\n",
    "axes[1].set_title(\"Non Holidays\")\n",
    "sns.histplot(list_of_non_workingday_means,kde=True,ax=axes[1])\n",
    "plt.show()"
   ]
  },
  {
   "cell_type": "markdown",
   "id": "359f599b",
   "metadata": {},
   "source": [
    "Test Statistic: Average number of rentals. μ <br>\n",
    "Step 1: defining Null Hypothesis and alternate Hypothesis <br>\n",
    "μ1 is mean on Non Working Days<br>\n",
    "μ2 is mean on Working Days<br>\n",
    "\n",
    "H0: μ1 = μ2<br>\n",
    "Ha: μ1 ≠ μ2<br>"
   ]
  },
  {
   "cell_type": "code",
   "execution_count": 38,
   "id": "d69369a9",
   "metadata": {},
   "outputs": [
    {
     "name": "stdout",
     "output_type": "stream",
     "text": [
      "T Statistic: -1.2096277376026694\n",
      "P Value: 0.22644804226361348\n",
      "--------------------------------------------------\n",
      "\u001b[1mFor 0.05% significance\u001b[0m\n",
      "Failed to reject H0\n",
      "The Difference between μ1 and μ2 is stastically Insgnificant\n",
      "--------------------------------------------------\n",
      "--------------------------------------------------\n",
      "\u001b[1mFor 0.1% significance\u001b[0m\n",
      "Failed to reject H0\n",
      "The Difference between μ1 and μ2 is stastically Insgnificant\n",
      "--------------------------------------------------\n"
     ]
    }
   ],
   "source": [
    "BOLD = '\\033[1m'\n",
    "END = '\\033[0m'\n",
    "t_statistic,p_val = ttest_ind(nonworkingDay,workingDay)\n",
    "print(f\"T Statistic: {t_statistic}\\nP Value: {p_val}\")\n",
    "def func(alpha):\n",
    "    print(\"-\"*50)\n",
    "    print(BOLD+f\"For {alpha}% significance\"+END)\n",
    "    if p_val < alpha :\n",
    "        print(\"Reject null hypothesis\")\n",
    "        print(\"μ1 ≠  μ2\")\n",
    "    else:\n",
    "        print(\"Failed to reject H0\")\n",
    "        print(\"The Difference between μ1 and μ2 is stastically Insgnificant\")\n",
    "    print(\"-\"*50)\n",
    "for i in [0.05,0.1]:\n",
    "    func(i)"
   ]
  },
  {
   "cell_type": "markdown",
   "id": "8b563763",
   "metadata": {},
   "source": [
    "Conclusion: Working day doesnot have a significant effect on the business."
   ]
  },
  {
   "cell_type": "markdown",
   "id": "e5f1ea03",
   "metadata": {},
   "source": [
    "## No. of cycles rented similar or different in different seasons\n"
   ]
  },
  {
   "cell_type": "code",
   "execution_count": null,
   "id": "44a265fd",
   "metadata": {},
   "outputs": [],
   "source": []
  },
  {
   "cell_type": "code",
   "execution_count": 39,
   "id": "ba01a8fd",
   "metadata": {},
   "outputs": [
    {
     "data": {
      "text/plain": [
       "<AxesSubplot:xlabel='season', ylabel='count'>"
      ]
     },
     "execution_count": 39,
     "metadata": {},
     "output_type": "execute_result"
    },
    {
     "data": {
      "image/png": "[encoded data removed]",
      "text/plain": [
       "<Figure size 432x288 with 1 Axes>"
      ]
     },
     "metadata": {
      "needs_background": "light"
     },
     "output_type": "display_data"
    }
   ],
   "source": [
    "sns.boxplot(x = new_df[\"season\"],y=df[\"count\"])"
   ]
  },
  {
   "cell_type": "code",
   "execution_count": 40,
   "id": "a2b3d765",
   "metadata": {},
   "outputs": [
    {
     "data": {
      "text/html": [
       "<div>\n",
       "<style scoped>\n",
       "    .dataframe tbody tr th:only-of-type {\n",
       "        vertical-align: middle;\n",
       "    }\n",
       "\n",
       "    .dataframe tbody tr th {\n",
       "        vertical-align: top;\n",
       "    }\n",
       "\n",
       "    .dataframe thead th {\n",
       "        text-align: right;\n",
       "    }\n",
       "</style>\n",
       "<table border=\"1\" class=\"dataframe\">\n",
       "  <thead>\n",
       "    <tr style=\"text-align: right;\">\n",
       "      <th></th>\n",
       "      <th>count</th>\n",
       "      <th>mean</th>\n",
       "      <th>std</th>\n",
       "      <th>min</th>\n",
       "      <th>25%</th>\n",
       "      <th>50%</th>\n",
       "      <th>75%</th>\n",
       "      <th>max</th>\n",
       "    </tr>\n",
       "    <tr>\n",
       "      <th>season</th>\n",
       "      <th></th>\n",
       "      <th></th>\n",
       "      <th></th>\n",
       "      <th></th>\n",
       "      <th></th>\n",
       "      <th></th>\n",
       "      <th></th>\n",
       "      <th></th>\n",
       "    </tr>\n",
       "  </thead>\n",
       "  <tbody>\n",
       "    <tr>\n",
       "      <th>fall</th>\n",
       "      <td>2733.0</td>\n",
       "      <td>234.417124</td>\n",
       "      <td>197.151001</td>\n",
       "      <td>1.0</td>\n",
       "      <td>68.0</td>\n",
       "      <td>195.0</td>\n",
       "      <td>347.0</td>\n",
       "      <td>977.0</td>\n",
       "    </tr>\n",
       "    <tr>\n",
       "      <th>spring</th>\n",
       "      <td>2686.0</td>\n",
       "      <td>116.343261</td>\n",
       "      <td>125.273974</td>\n",
       "      <td>1.0</td>\n",
       "      <td>24.0</td>\n",
       "      <td>78.0</td>\n",
       "      <td>164.0</td>\n",
       "      <td>801.0</td>\n",
       "    </tr>\n",
       "    <tr>\n",
       "      <th>summer</th>\n",
       "      <td>2733.0</td>\n",
       "      <td>215.251372</td>\n",
       "      <td>192.007843</td>\n",
       "      <td>1.0</td>\n",
       "      <td>49.0</td>\n",
       "      <td>172.0</td>\n",
       "      <td>321.0</td>\n",
       "      <td>873.0</td>\n",
       "    </tr>\n",
       "    <tr>\n",
       "      <th>winter</th>\n",
       "      <td>2734.0</td>\n",
       "      <td>198.988296</td>\n",
       "      <td>177.622409</td>\n",
       "      <td>1.0</td>\n",
       "      <td>51.0</td>\n",
       "      <td>161.0</td>\n",
       "      <td>294.0</td>\n",
       "      <td>948.0</td>\n",
       "    </tr>\n",
       "  </tbody>\n",
       "</table>\n",
       "</div>"
      ],
      "text/plain": [
       "         count        mean         std  min   25%    50%    75%    max\n",
       "season                                                                \n",
       "fall    2733.0  234.417124  197.151001  1.0  68.0  195.0  347.0  977.0\n",
       "spring  2686.0  116.343261  125.273974  1.0  24.0   78.0  164.0  801.0\n",
       "summer  2733.0  215.251372  192.007843  1.0  49.0  172.0  321.0  873.0\n",
       "winter  2734.0  198.988296  177.622409  1.0  51.0  161.0  294.0  948.0"
      ]
     },
     "execution_count": 40,
     "metadata": {},
     "output_type": "execute_result"
    }
   ],
   "source": [
    "new_df.groupby(\"season\")[\"count\"].describe()"
   ]
  },
  {
   "cell_type": "code",
   "execution_count": 41,
   "id": "32d86898",
   "metadata": {},
   "outputs": [
    {
     "data": {
      "text/plain": [
       "season\n",
       "fall      234.417124\n",
       "spring    116.343261\n",
       "summer    215.251372\n",
       "winter    198.988296\n",
       "Name: count, dtype: float64"
      ]
     },
     "execution_count": 41,
     "metadata": {},
     "output_type": "execute_result"
    }
   ],
   "source": [
    "new_df.groupby(\"season\")[\"count\"].mean()"
   ]
  },
  {
   "cell_type": "markdown",
   "id": "2c8f08a3",
   "metadata": {},
   "source": [
    "#### ANOVA is required to check for significance"
   ]
  },
  {
   "cell_type": "code",
   "execution_count": 42,
   "id": "a2ff577e",
   "metadata": {},
   "outputs": [],
   "source": [
    "fall = new_df[new_df[\"season\"]==\"fall\"][\"count\"]\n",
    "spring = new_df[new_df[\"season\"]==\"spring\"][\"count\"]\n",
    "summer = new_df[new_df[\"season\"]==\"summer\"][\"count\"]\n",
    "winter = new_df[new_df[\"season\"]==\"winter\"][\"count\"]"
   ]
  },
  {
   "cell_type": "markdown",
   "id": "ed95ee23",
   "metadata": {},
   "source": [
    "**Test if assumptions of ANOVA holds true**"
   ]
  },
  {
   "cell_type": "markdown",
   "id": "6e9ffbe3",
   "metadata": {},
   "source": [
    "1. We assume the data collected are independent."
   ]
  },
  {
   "cell_type": "markdown",
   "id": "2ca6f72d",
   "metadata": {},
   "source": [
    "2. Test for Gaussian<br>\n",
    "    a. QQ-plot"
   ]
  },
  {
   "cell_type": "code",
   "execution_count": 43,
   "id": "c9de7e41",
   "metadata": {},
   "outputs": [
    {
     "data": {
      "image/png": "[encoded data removed]",
      "text/plain": [
       "<Figure size 1080x720 with 4 Axes>"
      ]
     },
     "metadata": {
      "needs_background": "light"
     },
     "output_type": "display_data"
    }
   ],
   "source": [
    "fig,axs = plt.subplots(2,2,figsize=(15,10))\n",
    "qqplot(fall,line=\"s\",ax = axs[0,0])\n",
    "axs[0,0].set_title(\"Fall\")\n",
    "qqplot(spring,line=\"s\",ax = axs[0,1])\n",
    "axs[0,1].set_title(\"Spring\")\n",
    "qqplot(summer,line=\"s\",ax = axs[1,0])\n",
    "axs[1,0].set_title(\"Summer\")\n",
    "qqplot(winter,line=\"s\",ax = axs[1,1])\n",
    "axs[1,1].set_title(\"Winter\")\n",
    "plt.show()"
   ]
  },
  {
   "cell_type": "markdown",
   "id": "6dc8ecb2",
   "metadata": {},
   "source": [
    "    b. Shapiro test for Gaussian"
   ]
  },
  {
   "cell_type": "markdown",
   "id": "733b6b6d",
   "metadata": {},
   "source": [
    "H0: Data is Gaussian <br>\n",
    "Ha: Data is not Gaussian <br>\n",
    "Lets test for 5% significance"
   ]
  },
  {
   "cell_type": "code",
   "execution_count": 44,
   "id": "7fdc7876",
   "metadata": {},
   "outputs": [
    {
     "name": "stdout",
     "output_type": "stream",
     "text": [
      "--------------------Fall--------------------\n",
      "Reject Null Hypothesys\n",
      "Data is Not Gaussian\n",
      "--------------------------------------------------\n",
      "--------------------Spring--------------------\n",
      "Reject Null Hypothesys\n",
      "Data is Not Gaussian\n",
      "--------------------------------------------------\n",
      "--------------------Summer--------------------\n",
      "Reject Null Hypothesys\n",
      "Data is Not Gaussian\n",
      "--------------------------------------------------\n",
      "--------------------Winter--------------------\n",
      "Reject Null Hypothesys\n",
      "Data is Not Gaussian\n",
      "--------------------------------------------------\n"
     ]
    }
   ],
   "source": [
    "alpha = 0.05\n",
    "y = new_df[\"season\"].unique()\n",
    "y.sort()\n",
    "def func(x):\n",
    "    j=0\n",
    "    for i in x:\n",
    "        \n",
    "        test_stat, p_value = shapiro(i.head(100))\n",
    "        print((\"-\"*20)+str(y[j].capitalize())+(\"-\"*20))\n",
    "        if p_value < alpha:\n",
    "            print(\"Reject Null Hypothesys\")\n",
    "            print(\"Data is Not Gaussian\")\n",
    "        else:\n",
    "            print(\"Failed to reject Null Hypothesis\")\n",
    "            print(\"Data is Gaussian\")\n",
    "        print(\"-\"*50)\n",
    "        j+=1\n",
    "\n",
    "x = [fall,spring,summer,winter]\n",
    "func(x)"
   ]
  },
  {
   "cell_type": "markdown",
   "id": "3efb494c",
   "metadata": {},
   "source": [
    "**Conclusion:** The data is not Gaussian"
   ]
  },
  {
   "cell_type": "markdown",
   "id": "bc3936e8",
   "metadata": {},
   "source": [
    "3. Test for Equal Varience<br>\n",
    "Levene<br>\n",
    "H0: Variances are equal<br>\n",
    "Ha: Variances are not equal"
   ]
  },
  {
   "cell_type": "code",
   "execution_count": 45,
   "id": "1b225a11",
   "metadata": {},
   "outputs": [
    {
     "name": "stdout",
     "output_type": "stream",
     "text": [
      "Reject Null Hypothesis\n",
      "Variances are not equal\n"
     ]
    }
   ],
   "source": [
    "levene_stat, p_value = levene(fall,spring,summer,winter)\n",
    "if p_value < 0.05:\n",
    "    print(\"Reject Null Hypothesis\")\n",
    "    print(\"Variances are not equal\")\n",
    "else:\n",
    "    print(\"Failed to reject Null Hypothesis\")\n",
    "    "
   ]
  },
  {
   "cell_type": "markdown",
   "id": "2755f62d",
   "metadata": {},
   "source": [
    "**The Assumptions of ANOVA doesnot hold true.However we will perform ANOVA but we will also do Kruskal Wallis test.**"
   ]
  },
  {
   "cell_type": "code",
   "execution_count": 46,
   "id": "5260e553",
   "metadata": {},
   "outputs": [
    {
     "name": "stdout",
     "output_type": "stream",
     "text": [
      "Fall:  234.417124039517\n"
     ]
    }
   ],
   "source": [
    "print(\"Fall: \",fall.mean())"
   ]
  },
  {
   "cell_type": "code",
   "execution_count": 47,
   "id": "c8a37309",
   "metadata": {},
   "outputs": [
    {
     "name": "stdout",
     "output_type": "stream",
     "text": [
      "Spring:  116.34326135517499\n"
     ]
    }
   ],
   "source": [
    "print(\"Spring: \",spring.mean())"
   ]
  },
  {
   "cell_type": "code",
   "execution_count": 48,
   "id": "c28ca5bd",
   "metadata": {},
   "outputs": [
    {
     "name": "stdout",
     "output_type": "stream",
     "text": [
      "Summer:  215.25137211855105\n"
     ]
    }
   ],
   "source": [
    "print(\"Summer: \",summer.mean())"
   ]
  },
  {
   "cell_type": "code",
   "execution_count": 49,
   "id": "cfad1d64",
   "metadata": {},
   "outputs": [
    {
     "name": "stdout",
     "output_type": "stream",
     "text": [
      "Winter:  198.98829553767374\n"
     ]
    }
   ],
   "source": [
    "print(\"Winter: \",winter.mean())"
   ]
  },
  {
   "cell_type": "markdown",
   "id": "1c72fc79",
   "metadata": {},
   "source": [
    "H0: All groups have same mean<br>\n",
    "Ha: One or more groups have different mean"
   ]
  },
  {
   "cell_type": "code",
   "execution_count": 50,
   "id": "5854c6a8",
   "metadata": {},
   "outputs": [
    {
     "name": "stdout",
     "output_type": "stream",
     "text": [
      "Reject Null Hypothesis\n",
      "One or more groups have different mean\n"
     ]
    }
   ],
   "source": [
    "f_ratio,p_value = f_oneway(fall,spring,summer,winter)\n",
    "alpha = 0.05\n",
    "if p_value<alpha:\n",
    "    print(\"Reject Null Hypothesis\\nOne or more groups have different mean\")\n",
    "else:\n",
    "    print(\"Failed to Reject Null Hypothesis\\nAll groups have same mean\")"
   ]
  },
  {
   "cell_type": "markdown",
   "id": "e81042c5",
   "metadata": {},
   "source": [
    "We also need to do kruskal's test as the assumptions of ANOVA were false."
   ]
  },
  {
   "cell_type": "code",
   "execution_count": 51,
   "id": "e3e395c1",
   "metadata": {},
   "outputs": [
    {
     "name": "stdout",
     "output_type": "stream",
     "text": [
      "Reject Null Hypothesis\n",
      "One or more groups have different mean\n"
     ]
    }
   ],
   "source": [
    "f_ratio,p_value = kruskal(fall,spring,summer,winter)\n",
    "alpha = 0.05\n",
    "if p_value<alpha:\n",
    "    print(\"Reject Null Hypothesis\\nOne or more groups have different mean\")\n",
    "else:\n",
    "    print(\"Failed to Reject Null Hypothesis\\nAll groups have same mean\")"
   ]
  },
  {
   "cell_type": "markdown",
   "id": "d03429bb",
   "metadata": {},
   "source": [
    "Kruskal yielded similar results as ANOVA"
   ]
  },
  {
   "cell_type": "code",
   "execution_count": 52,
   "id": "183d4799",
   "metadata": {},
   "outputs": [
    {
     "data": {
      "image/png": "[encoded data removed]",
      "text/plain": [
       "<Figure size 432x288 with 1 Axes>"
      ]
     },
     "metadata": {
      "needs_background": "light"
     },
     "output_type": "display_data"
    }
   ],
   "source": [
    "x = new_df.groupby([\"season\"])[\"count\"].mean().index\n",
    "y = new_df.groupby([\"season\"])[\"count\"].mean()\n",
    "plt.plot(x,y)\n",
    "plt.show()"
   ]
  },
  {
   "cell_type": "markdown",
   "id": "0bc9eb92",
   "metadata": {},
   "source": [
    "The average number of rentals during fall is High and there is a clear dip in number durinf spring season. During Summer and winter we see a rise in number but their difference doesnot seem to be high. We can do 2 sampled ttest for these seasons to find the significance. But comparing to the spring season the other 3 have a higher number."
   ]
  },
  {
   "cell_type": "markdown",
   "id": "4afe3936",
   "metadata": {},
   "source": [
    "### No. of cycles rented similar or different in different weather\n"
   ]
  },
  {
   "cell_type": "code",
   "execution_count": 53,
   "id": "2e0816fc",
   "metadata": {},
   "outputs": [
    {
     "data": {
      "text/plain": [
       "weather\n",
       "1    205.236791\n",
       "2    178.955540\n",
       "3    118.846333\n",
       "4    164.000000\n",
       "Name: count, dtype: float64"
      ]
     },
     "execution_count": 53,
     "metadata": {},
     "output_type": "execute_result"
    }
   ],
   "source": [
    "new_df.groupby([\"weather\"])[\"count\"].mean()"
   ]
  },
  {
   "cell_type": "code",
   "execution_count": 54,
   "id": "1600c445",
   "metadata": {},
   "outputs": [],
   "source": [
    "one = new_df[new_df[\"weather\"]==1][\"count\"]\n",
    "two = new_df[new_df[\"weather\"]==2][\"count\"]\n",
    "three = new_df[new_df[\"weather\"]==3][\"count\"]\n",
    "four = new_df[new_df[\"weather\"]==4][\"count\"]"
   ]
  },
  {
   "cell_type": "code",
   "execution_count": 55,
   "id": "90a6fe70",
   "metadata": {},
   "outputs": [
    {
     "data": {
      "text/plain": [
       "<AxesSubplot:xlabel='weather', ylabel='count'>"
      ]
     },
     "execution_count": 55,
     "metadata": {},
     "output_type": "execute_result"
    },
    {
     "data": {
      "image/png": "[encoded data removed]",
      "text/plain": [
       "<Figure size 432x288 with 1 Axes>"
      ]
     },
     "metadata": {
      "needs_background": "light"
     },
     "output_type": "display_data"
    }
   ],
   "source": [
    "sns.boxplot(x = new_df[\"weather\"],y=new_df[\"count\"])"
   ]
  },
  {
   "cell_type": "markdown",
   "id": "4ebb6a6d",
   "metadata": {},
   "source": [
    "**Test if assumptions of ANOVA holds true**"
   ]
  },
  {
   "cell_type": "markdown",
   "id": "d7fa402b",
   "metadata": {},
   "source": [
    "1. We assume the data collected are independent.\n",
    "\n",
    "2. Test for Gaussian<br>\n",
    "    a. QQ-plot"
   ]
  },
  {
   "cell_type": "code",
   "execution_count": 56,
   "id": "131ebec1",
   "metadata": {},
   "outputs": [
    {
     "data": {
      "image/png": "[encoded data removed]",
      "text/plain": [
       "<Figure size 1080x720 with 4 Axes>"
      ]
     },
     "metadata": {
      "needs_background": "light"
     },
     "output_type": "display_data"
    }
   ],
   "source": [
    "fig,axs = plt.subplots(2,2,figsize=(15,10))\n",
    "qqplot(one,line=\"s\",ax = axs[0,0])\n",
    "axs[0,0].set_title(\"Fall\")\n",
    "qqplot(two,line=\"s\",ax = axs[0,1])\n",
    "axs[0,1].set_title(\"Spring\")\n",
    "qqplot(three,line=\"s\",ax = axs[1,0])\n",
    "axs[1,0].set_title(\"Summer\")\n",
    "qqplot(four,line=\"s\",ax = axs[1,1])\n",
    "axs[1,1].set_title(\"Winter\")\n",
    "plt.show()"
   ]
  },
  {
   "cell_type": "markdown",
   "id": "27c396c4",
   "metadata": {},
   "source": [
    "We can drop the season number 4 as it has only one data point"
   ]
  },
  {
   "cell_type": "markdown",
   "id": "ad5623fc",
   "metadata": {},
   "source": [
    "    b. Shapiro test for Gaussian\n",
    "\n",
    "H0: Data is Gaussian <br>\n",
    "Ha: Data is not Gaussian <br>\n",
    "Lets test for 5% significance"
   ]
  },
  {
   "cell_type": "code",
   "execution_count": 57,
   "id": "7e46ef96",
   "metadata": {},
   "outputs": [
    {
     "name": "stdout",
     "output_type": "stream",
     "text": [
      "--------------------1--------------------\n",
      "Reject Null Hypothesys\n",
      "Data is Not Gaussian\n",
      "--------------------------------------------------\n",
      "--------------------2--------------------\n",
      "Reject Null Hypothesys\n",
      "Data is Not Gaussian\n",
      "--------------------------------------------------\n",
      "--------------------3--------------------\n",
      "Reject Null Hypothesys\n",
      "Data is Not Gaussian\n",
      "--------------------------------------------------\n"
     ]
    }
   ],
   "source": [
    "alpha = 0.05\n",
    "y = new_df[\"weather\"].unique()\n",
    "y.sort()\n",
    "def func(x):\n",
    "    j=0\n",
    "    for i in x:\n",
    "        \n",
    "        test_stat, p_value = shapiro(i.head(100))\n",
    "        print((\"-\"*20)+str(y[j])+(\"-\"*20))\n",
    "        if p_value < alpha:\n",
    "            print(\"Reject Null Hypothesys\")\n",
    "            print(\"Data is Not Gaussian\")\n",
    "        else:\n",
    "            print(\"Failed to reject Null Hypothesis\")\n",
    "            print(\"Data is Gaussian\")\n",
    "        print(\"-\"*50)\n",
    "        j+=1\n",
    "\n",
    "x = [one,two,three]\n",
    "func(x)"
   ]
  },
  {
   "cell_type": "markdown",
   "id": "c13cc845",
   "metadata": {},
   "source": [
    "**Conclusion:** The data is not Gaussian\n",
    "3. Test for Equal Varience<br>\n",
    "Levene<br>\n",
    "H0: Variances are equal<br>\n",
    "Ha: Variances are not equal"
   ]
  },
  {
   "cell_type": "code",
   "execution_count": 58,
   "id": "eae341cd",
   "metadata": {},
   "outputs": [
    {
     "name": "stdout",
     "output_type": "stream",
     "text": [
      "Reject Null Hypothesis\n",
      "Variances are not equal\n"
     ]
    }
   ],
   "source": [
    "levene_stat, p_value = levene(one,two,three)\n",
    "if p_value < 0.05:\n",
    "    print(\"Reject Null Hypothesis\")\n",
    "    print(\"Variances are not equal\")\n",
    "else:\n",
    "    print(\"Failed to reject Null Hypothesis\")\n",
    "    "
   ]
  },
  {
   "cell_type": "markdown",
   "id": "e026c678",
   "metadata": {},
   "source": [
    "The Assumptions of ANOVA doesnot hold true.However we will perform ANOVA but we will also do Kruskal Wallis test."
   ]
  },
  {
   "cell_type": "markdown",
   "id": "2407d72b",
   "metadata": {},
   "source": [
    "H0: All groups have same mean<br>\n",
    "Ha: One or more groups have different mean"
   ]
  },
  {
   "cell_type": "code",
   "execution_count": 59,
   "id": "06e1b7ff",
   "metadata": {},
   "outputs": [
    {
     "name": "stdout",
     "output_type": "stream",
     "text": [
      "Reject Null Hypothesis\n",
      "One or more groups have different mean\n"
     ]
    }
   ],
   "source": [
    "f_ratio,p_value = f_oneway(one,two,three)\n",
    "alpha = 0.05\n",
    "if p_value<alpha:\n",
    "    print(\"Reject Null Hypothesis\\nOne or more groups have different mean\")\n",
    "else:\n",
    "    print(\"Failed to Reject Null Hypothesis\\nAll groups have same mean\")"
   ]
  },
  {
   "cell_type": "code",
   "execution_count": 60,
   "id": "4df1857e",
   "metadata": {},
   "outputs": [
    {
     "data": {
      "text/plain": [
       "205.23679087875416"
      ]
     },
     "execution_count": 60,
     "metadata": {},
     "output_type": "execute_result"
    }
   ],
   "source": [
    "one.mean()"
   ]
  },
  {
   "cell_type": "code",
   "execution_count": 61,
   "id": "a52341c6",
   "metadata": {},
   "outputs": [
    {
     "data": {
      "text/plain": [
       "178.95553987297106"
      ]
     },
     "execution_count": 61,
     "metadata": {},
     "output_type": "execute_result"
    }
   ],
   "source": [
    "two.mean()"
   ]
  },
  {
   "cell_type": "code",
   "execution_count": 62,
   "id": "9abafa3e",
   "metadata": {},
   "outputs": [
    {
     "data": {
      "text/plain": [
       "118.84633294528521"
      ]
     },
     "execution_count": 62,
     "metadata": {},
     "output_type": "execute_result"
    }
   ],
   "source": [
    "three.mean()"
   ]
  },
  {
   "cell_type": "markdown",
   "id": "35c2d6d2",
   "metadata": {},
   "source": [
    "We also need to do kruskal's test as the assumptions of ANOVA were false."
   ]
  },
  {
   "cell_type": "code",
   "execution_count": 63,
   "id": "86d23c35",
   "metadata": {},
   "outputs": [
    {
     "name": "stdout",
     "output_type": "stream",
     "text": [
      "Reject Null Hypothesis\n",
      "One or more groups have different mean\n"
     ]
    }
   ],
   "source": [
    "f_ratio,p_value = kruskal(one,two,three)\n",
    "alpha = 0.05\n",
    "if p_value<alpha:\n",
    "    print(\"Reject Null Hypothesis\\nOne or more groups have different mean\")\n",
    "else:\n",
    "    print(\"Failed to Reject Null Hypothesis\\nAll groups have same mean\")"
   ]
  },
  {
   "cell_type": "markdown",
   "id": "b4e6739a",
   "metadata": {},
   "source": [
    "Kruskal yielded similar results as ANOVA"
   ]
  },
  {
   "cell_type": "code",
   "execution_count": 64,
   "id": "6a8d28db",
   "metadata": {},
   "outputs": [
    {
     "data": {
      "image/png": "[encoded data removed]",
      "text/plain": [
       "<Figure size 432x288 with 1 Axes>"
      ]
     },
     "metadata": {
      "needs_background": "light"
     },
     "output_type": "display_data"
    }
   ],
   "source": [
    "x = new_df.groupby([\"weather\"])[\"count\"].mean().index\n",
    "y = new_df.groupby([\"weather\"])[\"count\"].mean()\n",
    "plt.plot(x,y)\n",
    "plt.show()"
   ]
  },
  {
   "cell_type": "markdown",
   "id": "e7fc4741",
   "metadata": {},
   "source": [
    "In weather type 1 the business is at it's peak but it starts gradually reducing from type 2 to 3 and again raises to not much significance during weather type 4. So, weather has an impact on business."
   ]
  },
  {
   "cell_type": "code",
   "execution_count": 65,
   "id": "9dc36005",
   "metadata": {},
   "outputs": [
    {
     "data": {
      "text/plain": [
       "<AxesSubplot:xlabel='weather', ylabel='count'>"
      ]
     },
     "execution_count": 65,
     "metadata": {},
     "output_type": "execute_result"
    },
    {
     "data": {
      "image/png": "[encoded data removed]",
      "text/plain": [
       "<Figure size 432x288 with 1 Axes>"
      ]
     },
     "metadata": {
      "needs_background": "light"
     },
     "output_type": "display_data"
    }
   ],
   "source": [
    "sns.barplot(data=new_df,x=new_df[\"weather\"],y=new_df[\"count\"])"
   ]
  },
  {
   "cell_type": "markdown",
   "id": "0e3bb283",
   "metadata": {},
   "source": [
    "## Weather is dependent on season\n",
    "\n",
    "H0:Weather and season are independent<br>\n",
    "Ha:Weather is dependent on season"
   ]
  },
  {
   "cell_type": "code",
   "execution_count": 66,
   "id": "f3e32779",
   "metadata": {},
   "outputs": [],
   "source": [
    "weather_vs_season=pd.crosstab(index = new_df[\"weather\"],columns=new_df[\"season\"],values=new_df[\"count\"],aggfunc=\"mean\").fillna(0)"
   ]
  },
  {
   "cell_type": "code",
   "execution_count": 67,
   "id": "64d11308",
   "metadata": {},
   "outputs": [],
   "source": [
    "chi_stat, p_value, df, exp_values = chi2_contingency(weather_vs_season)"
   ]
  },
  {
   "cell_type": "code",
   "execution_count": 68,
   "id": "d1eb359f",
   "metadata": {},
   "outputs": [
    {
     "name": "stdout",
     "output_type": "stream",
     "text": [
      "Reject Null Hypothesis\n",
      "Weather is dependent on season\n"
     ]
    }
   ],
   "source": [
    "alp = 0.05\n",
    "if p_value < alp:\n",
    "    print(\"Reject Null Hypothesis\")\n",
    "    print(\"Weather is dependent on season\")\n",
    "else:\n",
    "    print(\"Failed to reject Null Hypothesis\")\n",
    "    print(\"Weather and season are independent\")"
   ]
  },
  {
   "cell_type": "code",
   "execution_count": 69,
   "id": "44db850a",
   "metadata": {},
   "outputs": [
    {
     "data": {
      "text/html": [
       "<div>\n",
       "<style scoped>\n",
       "    .dataframe tbody tr th:only-of-type {\n",
       "        vertical-align: middle;\n",
       "    }\n",
       "\n",
       "    .dataframe tbody tr th {\n",
       "        vertical-align: top;\n",
       "    }\n",
       "\n",
       "    .dataframe thead th {\n",
       "        text-align: right;\n",
       "    }\n",
       "</style>\n",
       "<table border=\"1\" class=\"dataframe\">\n",
       "  <thead>\n",
       "    <tr style=\"text-align: right;\">\n",
       "      <th>season</th>\n",
       "      <th>fall</th>\n",
       "      <th>spring</th>\n",
       "      <th>summer</th>\n",
       "      <th>winter</th>\n",
       "    </tr>\n",
       "    <tr>\n",
       "      <th>weather</th>\n",
       "      <th></th>\n",
       "      <th></th>\n",
       "      <th></th>\n",
       "      <th></th>\n",
       "    </tr>\n",
       "  </thead>\n",
       "  <tbody>\n",
       "    <tr>\n",
       "      <th>1</th>\n",
       "      <td>243.583420</td>\n",
       "      <td>126.781694</td>\n",
       "      <td>236.729595</td>\n",
       "      <td>209.511163</td>\n",
       "    </tr>\n",
       "    <tr>\n",
       "      <th>2</th>\n",
       "      <td>230.771523</td>\n",
       "      <td>106.861538</td>\n",
       "      <td>189.515537</td>\n",
       "      <td>194.784387</td>\n",
       "    </tr>\n",
       "    <tr>\n",
       "      <th>3</th>\n",
       "      <td>156.582915</td>\n",
       "      <td>61.227488</td>\n",
       "      <td>123.906250</td>\n",
       "      <td>134.466667</td>\n",
       "    </tr>\n",
       "    <tr>\n",
       "      <th>4</th>\n",
       "      <td>0.000000</td>\n",
       "      <td>164.000000</td>\n",
       "      <td>0.000000</td>\n",
       "      <td>0.000000</td>\n",
       "    </tr>\n",
       "  </tbody>\n",
       "</table>\n",
       "</div>"
      ],
      "text/plain": [
       "season         fall      spring      summer      winter\n",
       "weather                                                \n",
       "1        243.583420  126.781694  236.729595  209.511163\n",
       "2        230.771523  106.861538  189.515537  194.784387\n",
       "3        156.582915   61.227488  123.906250  134.466667\n",
       "4          0.000000  164.000000    0.000000    0.000000"
      ]
     },
     "execution_count": 69,
     "metadata": {},
     "output_type": "execute_result"
    }
   ],
   "source": [
    "weather_vs_season # heatmap required"
   ]
  },
  {
   "cell_type": "code",
   "execution_count": null,
   "id": "cb3f9fe8",
   "metadata": {},
   "outputs": [],
   "source": []
  },
  {
   "cell_type": "code",
   "execution_count": 70,
   "id": "728baafb",
   "metadata": {},
   "outputs": [],
   "source": [
    "l = list(d.values())"
   ]
  },
  {
   "cell_type": "code",
   "execution_count": 71,
   "id": "4707693b",
   "metadata": {},
   "outputs": [
    {
     "data": {
      "text/plain": [
       "['Clear, Few clouds, partly cloudy, partly cloudy',\n",
       " 'Mist + Cloudy, Mist + Broken clouds, Mist + Few clouds, Mist',\n",
       " 'Light Snow, Light Rain + Thunderstorm + Scattered clouds, Light Rain + Scattered clouds',\n",
       " 'Heavy Rain + Ice Pallets + Thunderstorm + Mist, Snow + Fog']"
      ]
     },
     "execution_count": 71,
     "metadata": {},
     "output_type": "execute_result"
    }
   ],
   "source": [
    "l"
   ]
  },
  {
   "cell_type": "code",
   "execution_count": 72,
   "id": "763324f1",
   "metadata": {},
   "outputs": [
    {
     "data": {
      "text/plain": [
       "<AxesSubplot:xlabel='season', ylabel='weather'>"
      ]
     },
     "execution_count": 72,
     "metadata": {},
     "output_type": "execute_result"
    },
    {
     "data": {
      "image/png": "[encoded data removed]",
      "text/plain": [
       "<Figure size 504x504 with 2 Axes>"
      ]
     },
     "metadata": {
      "needs_background": "light"
     },
     "output_type": "display_data"
    }
   ],
   "source": [
    "plt.figure(figsize=(7,7))\n",
    "sns.heatmap(weather_vs_season,cmap=\"bone_r\",yticklabels=l)"
   ]
  },
  {
   "cell_type": "markdown",
   "id": "640a0bc1",
   "metadata": {},
   "source": [
    "Heatmap shows the dependency of weather vs season on number of rentals. Darker regions have higher number of rentals."
   ]
  },
  {
   "cell_type": "markdown",
   "id": "713098c7",
   "metadata": {},
   "source": [
    "### Insights"
   ]
  },
  {
   "cell_type": "markdown",
   "id": "bab4cf55",
   "metadata": {},
   "source": [
    "- Holiday and working day have no significant impact on business.\n",
    "- Weather seem to effect the business.\n",
    "- Season also seem to effect the business.\n",
    "- We also found out that weather and season combined has an impact on business.(represented as heatmap)"
   ]
  },
  {
   "cell_type": "markdown",
   "id": "6a3a1b86",
   "metadata": {},
   "source": [
    "## Recommendations\n",
    "\n",
    "- Whenever there is a weather condition(spring) that is effecting business, we can move the business to an alternate geography where the weather is in the other categories(summer,winter,fall).\n",
    "- Same goes for season. Move to a nearby location(type 1,2 or 4) where there is a minimal impact of season on business.\n",
    "- 'Clear, Few clouds, partly cloudy, partly cloudy' weather + fall season,  'Mist + Cloudy, Mist + Broken clouds, Mist + Few clouds, Mist' weather + fall have higher number of rentals. So when there is a  'Heavy Rain + Ice Pallets + Thunderstorm + Mist, Snow + Fog' weather combined with fall, summer or winter, it is better to move the business to other locations."
   ]
  }
 ],
 "metadata": {
  "kernelspec": {
   "display_name": "Python 3",
   "language": "python",
   "name": "python3"
  },
  "language_info": {
   "codemirror_mode": {
    "name": "ipython",
    "version": 3
   },
   "file_extension": ".py",
   "mimetype": "text/x-python",
   "name": "python",
   "nbconvert_exporter": "python",
   "pygments_lexer": "ipython3",
   "version": "3.8.8"
  }
 },
 "nbformat": 4,
 "nbformat_minor": 5
}
