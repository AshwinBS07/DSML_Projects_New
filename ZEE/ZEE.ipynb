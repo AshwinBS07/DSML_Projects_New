{
 "cells": [
  {
   "cell_type": "code",
   "execution_count": 16,
   "id": "f0acafb4",
   "metadata": {},
   "outputs": [],
   "source": [
    "import pandas as pd\n",
    "import numpy as np\n",
    "import pickle\n",
    "import re\n",
    "import requests\n",
    "from bs4 import BeautifulSoup"
   ]
  },
  {
   "cell_type": "code",
   "execution_count": 2,
   "id": "3feae2cd",
   "metadata": {},
   "outputs": [],
   "source": [
    "users = pd.read_fwf(\"zee-users.dat\",encoding='ISO-8859-1')"
   ]
  },
  {
   "cell_type": "code",
   "execution_count": 3,
   "id": "bb87e3cc",
   "metadata": {},
   "outputs": [
    {
     "data": {
      "text/html": [
       "<div>\n",
       "<style scoped>\n",
       "    .dataframe tbody tr th:only-of-type {\n",
       "        vertical-align: middle;\n",
       "    }\n",
       "\n",
       "    .dataframe tbody tr th {\n",
       "        vertical-align: top;\n",
       "    }\n",
       "\n",
       "    .dataframe thead th {\n",
       "        text-align: right;\n",
       "    }\n",
       "</style>\n",
       "<table border=\"1\" class=\"dataframe\">\n",
       "  <thead>\n",
       "    <tr style=\"text-align: right;\">\n",
       "      <th></th>\n",
       "      <th>UserID::Gender::Age::Occupation::Zip-code</th>\n",
       "    </tr>\n",
       "  </thead>\n",
       "  <tbody>\n",
       "    <tr>\n",
       "      <th>0</th>\n",
       "      <td>1::F::1::10::48067</td>\n",
       "    </tr>\n",
       "    <tr>\n",
       "      <th>1</th>\n",
       "      <td>2::M::56::16::70072</td>\n",
       "    </tr>\n",
       "    <tr>\n",
       "      <th>2</th>\n",
       "      <td>3::M::25::15::55117</td>\n",
       "    </tr>\n",
       "    <tr>\n",
       "      <th>3</th>\n",
       "      <td>4::M::45::7::02460</td>\n",
       "    </tr>\n",
       "    <tr>\n",
       "      <th>4</th>\n",
       "      <td>5::M::25::20::55455</td>\n",
       "    </tr>\n",
       "    <tr>\n",
       "      <th>...</th>\n",
       "      <td>...</td>\n",
       "    </tr>\n",
       "    <tr>\n",
       "      <th>6035</th>\n",
       "      <td>6036::F::25::15::32603</td>\n",
       "    </tr>\n",
       "    <tr>\n",
       "      <th>6036</th>\n",
       "      <td>6037::F::45::1::76006</td>\n",
       "    </tr>\n",
       "    <tr>\n",
       "      <th>6037</th>\n",
       "      <td>6038::F::56::1::14706</td>\n",
       "    </tr>\n",
       "    <tr>\n",
       "      <th>6038</th>\n",
       "      <td>6039::F::45::0::01060</td>\n",
       "    </tr>\n",
       "    <tr>\n",
       "      <th>6039</th>\n",
       "      <td>6040::M::25::6::11106</td>\n",
       "    </tr>\n",
       "  </tbody>\n",
       "</table>\n",
       "<p>6040 rows × 1 columns</p>\n",
       "</div>"
      ],
      "text/plain": [
       "     UserID::Gender::Age::Occupation::Zip-code\n",
       "0                           1::F::1::10::48067\n",
       "1                          2::M::56::16::70072\n",
       "2                          3::M::25::15::55117\n",
       "3                           4::M::45::7::02460\n",
       "4                          5::M::25::20::55455\n",
       "...                                        ...\n",
       "6035                    6036::F::25::15::32603\n",
       "6036                     6037::F::45::1::76006\n",
       "6037                     6038::F::56::1::14706\n",
       "6038                     6039::F::45::0::01060\n",
       "6039                     6040::M::25::6::11106\n",
       "\n",
       "[6040 rows x 1 columns]"
      ]
     },
     "execution_count": 3,
     "metadata": {},
     "output_type": "execute_result"
    }
   ],
   "source": [
    "users"
   ]
  },
  {
   "cell_type": "code",
   "execution_count": 4,
   "id": "9a11cdc6",
   "metadata": {},
   "outputs": [
    {
     "data": {
      "text/html": [
       "<div>\n",
       "<style scoped>\n",
       "    .dataframe tbody tr th:only-of-type {\n",
       "        vertical-align: middle;\n",
       "    }\n",
       "\n",
       "    .dataframe tbody tr th {\n",
       "        vertical-align: top;\n",
       "    }\n",
       "\n",
       "    .dataframe thead th {\n",
       "        text-align: right;\n",
       "    }\n",
       "</style>\n",
       "<table border=\"1\" class=\"dataframe\">\n",
       "  <thead>\n",
       "    <tr style=\"text-align: right;\">\n",
       "      <th></th>\n",
       "      <th>UserID</th>\n",
       "      <th>Gender</th>\n",
       "      <th>Age</th>\n",
       "      <th>Occupation</th>\n",
       "      <th>Zip-code</th>\n",
       "    </tr>\n",
       "  </thead>\n",
       "  <tbody>\n",
       "    <tr>\n",
       "      <th>0</th>\n",
       "      <td>1</td>\n",
       "      <td>F</td>\n",
       "      <td>1</td>\n",
       "      <td>10</td>\n",
       "      <td>48067</td>\n",
       "    </tr>\n",
       "    <tr>\n",
       "      <th>1</th>\n",
       "      <td>2</td>\n",
       "      <td>M</td>\n",
       "      <td>56</td>\n",
       "      <td>16</td>\n",
       "      <td>70072</td>\n",
       "    </tr>\n",
       "    <tr>\n",
       "      <th>2</th>\n",
       "      <td>3</td>\n",
       "      <td>M</td>\n",
       "      <td>25</td>\n",
       "      <td>15</td>\n",
       "      <td>55117</td>\n",
       "    </tr>\n",
       "    <tr>\n",
       "      <th>3</th>\n",
       "      <td>4</td>\n",
       "      <td>M</td>\n",
       "      <td>45</td>\n",
       "      <td>7</td>\n",
       "      <td>02460</td>\n",
       "    </tr>\n",
       "    <tr>\n",
       "      <th>4</th>\n",
       "      <td>5</td>\n",
       "      <td>M</td>\n",
       "      <td>25</td>\n",
       "      <td>20</td>\n",
       "      <td>55455</td>\n",
       "    </tr>\n",
       "    <tr>\n",
       "      <th>...</th>\n",
       "      <td>...</td>\n",
       "      <td>...</td>\n",
       "      <td>...</td>\n",
       "      <td>...</td>\n",
       "      <td>...</td>\n",
       "    </tr>\n",
       "    <tr>\n",
       "      <th>6035</th>\n",
       "      <td>6036</td>\n",
       "      <td>F</td>\n",
       "      <td>25</td>\n",
       "      <td>15</td>\n",
       "      <td>32603</td>\n",
       "    </tr>\n",
       "    <tr>\n",
       "      <th>6036</th>\n",
       "      <td>6037</td>\n",
       "      <td>F</td>\n",
       "      <td>45</td>\n",
       "      <td>1</td>\n",
       "      <td>76006</td>\n",
       "    </tr>\n",
       "    <tr>\n",
       "      <th>6037</th>\n",
       "      <td>6038</td>\n",
       "      <td>F</td>\n",
       "      <td>56</td>\n",
       "      <td>1</td>\n",
       "      <td>14706</td>\n",
       "    </tr>\n",
       "    <tr>\n",
       "      <th>6038</th>\n",
       "      <td>6039</td>\n",
       "      <td>F</td>\n",
       "      <td>45</td>\n",
       "      <td>0</td>\n",
       "      <td>01060</td>\n",
       "    </tr>\n",
       "    <tr>\n",
       "      <th>6039</th>\n",
       "      <td>6040</td>\n",
       "      <td>M</td>\n",
       "      <td>25</td>\n",
       "      <td>6</td>\n",
       "      <td>11106</td>\n",
       "    </tr>\n",
       "  </tbody>\n",
       "</table>\n",
       "<p>6040 rows × 5 columns</p>\n",
       "</div>"
      ],
      "text/plain": [
       "     UserID Gender Age Occupation Zip-code\n",
       "0         1      F   1         10    48067\n",
       "1         2      M  56         16    70072\n",
       "2         3      M  25         15    55117\n",
       "3         4      M  45          7    02460\n",
       "4         5      M  25         20    55455\n",
       "...     ...    ...  ..        ...      ...\n",
       "6035   6036      F  25         15    32603\n",
       "6036   6037      F  45          1    76006\n",
       "6037   6038      F  56          1    14706\n",
       "6038   6039      F  45          0    01060\n",
       "6039   6040      M  25          6    11106\n",
       "\n",
       "[6040 rows x 5 columns]"
      ]
     },
     "execution_count": 4,
     "metadata": {},
     "output_type": "execute_result"
    }
   ],
   "source": [
    "cols = users.columns.str.split(\"::\")[0]\n",
    "\n",
    "users = users.iloc[:,0].str.split(\"::\",expand = True)\n",
    "\n",
    "users.columns = cols\n",
    "\n",
    "users"
   ]
  },
  {
   "cell_type": "code",
   "execution_count": 5,
   "id": "085a6476",
   "metadata": {},
   "outputs": [],
   "source": [
    "movies = pd.read_fwf(\"zee-movies.dat\",encoding='ISO-8859-1')"
   ]
  },
  {
   "cell_type": "code",
   "execution_count": 6,
   "id": "fc1da80b",
   "metadata": {},
   "outputs": [],
   "source": [
    "movies.drop(columns=[\"Unnamed: 1\",\"Unnamed: 2\"],inplace=True)"
   ]
  },
  {
   "cell_type": "code",
   "execution_count": 7,
   "id": "16e9c51a",
   "metadata": {},
   "outputs": [
    {
     "data": {
      "text/html": [
       "<div>\n",
       "<style scoped>\n",
       "    .dataframe tbody tr th:only-of-type {\n",
       "        vertical-align: middle;\n",
       "    }\n",
       "\n",
       "    .dataframe tbody tr th {\n",
       "        vertical-align: top;\n",
       "    }\n",
       "\n",
       "    .dataframe thead th {\n",
       "        text-align: right;\n",
       "    }\n",
       "</style>\n",
       "<table border=\"1\" class=\"dataframe\">\n",
       "  <thead>\n",
       "    <tr style=\"text-align: right;\">\n",
       "      <th></th>\n",
       "      <th>Movie ID</th>\n",
       "      <th>Title</th>\n",
       "      <th>Genres</th>\n",
       "    </tr>\n",
       "  </thead>\n",
       "  <tbody>\n",
       "    <tr>\n",
       "      <th>0</th>\n",
       "      <td>1</td>\n",
       "      <td>Toy Story (1995)</td>\n",
       "      <td>Animation|Children's|Comedy</td>\n",
       "    </tr>\n",
       "    <tr>\n",
       "      <th>1</th>\n",
       "      <td>2</td>\n",
       "      <td>Jumanji (1995)</td>\n",
       "      <td>Adventure|Children's|Fantasy</td>\n",
       "    </tr>\n",
       "    <tr>\n",
       "      <th>2</th>\n",
       "      <td>3</td>\n",
       "      <td>Grumpier Old Men (1995)</td>\n",
       "      <td>Comedy|Romance</td>\n",
       "    </tr>\n",
       "    <tr>\n",
       "      <th>3</th>\n",
       "      <td>4</td>\n",
       "      <td>Waiting to Exhale (1995)</td>\n",
       "      <td>Comedy|Drama</td>\n",
       "    </tr>\n",
       "    <tr>\n",
       "      <th>4</th>\n",
       "      <td>5</td>\n",
       "      <td>Father of the Bride Part II (1995)</td>\n",
       "      <td>Comedy</td>\n",
       "    </tr>\n",
       "    <tr>\n",
       "      <th>...</th>\n",
       "      <td>...</td>\n",
       "      <td>...</td>\n",
       "      <td>...</td>\n",
       "    </tr>\n",
       "    <tr>\n",
       "      <th>3878</th>\n",
       "      <td>3948</td>\n",
       "      <td>Meet the Parents (2000)</td>\n",
       "      <td>Comedy</td>\n",
       "    </tr>\n",
       "    <tr>\n",
       "      <th>3879</th>\n",
       "      <td>3949</td>\n",
       "      <td>Requiem for a Dream (2000)</td>\n",
       "      <td>Drama</td>\n",
       "    </tr>\n",
       "    <tr>\n",
       "      <th>3880</th>\n",
       "      <td>3950</td>\n",
       "      <td>Tigerland (2000)</td>\n",
       "      <td>Drama</td>\n",
       "    </tr>\n",
       "    <tr>\n",
       "      <th>3881</th>\n",
       "      <td>3951</td>\n",
       "      <td>Two Family House (2000)</td>\n",
       "      <td>Drama</td>\n",
       "    </tr>\n",
       "    <tr>\n",
       "      <th>3882</th>\n",
       "      <td>3952</td>\n",
       "      <td>Contender, The (2000)</td>\n",
       "      <td>Drama|Thriller</td>\n",
       "    </tr>\n",
       "  </tbody>\n",
       "</table>\n",
       "<p>3883 rows × 3 columns</p>\n",
       "</div>"
      ],
      "text/plain": [
       "     Movie ID                               Title  \\\n",
       "0           1                    Toy Story (1995)   \n",
       "1           2                      Jumanji (1995)   \n",
       "2           3             Grumpier Old Men (1995)   \n",
       "3           4            Waiting to Exhale (1995)   \n",
       "4           5  Father of the Bride Part II (1995)   \n",
       "...       ...                                 ...   \n",
       "3878     3948             Meet the Parents (2000)   \n",
       "3879     3949          Requiem for a Dream (2000)   \n",
       "3880     3950                    Tigerland (2000)   \n",
       "3881     3951             Two Family House (2000)   \n",
       "3882     3952               Contender, The (2000)   \n",
       "\n",
       "                            Genres  \n",
       "0      Animation|Children's|Comedy  \n",
       "1     Adventure|Children's|Fantasy  \n",
       "2                   Comedy|Romance  \n",
       "3                     Comedy|Drama  \n",
       "4                           Comedy  \n",
       "...                            ...  \n",
       "3878                        Comedy  \n",
       "3879                         Drama  \n",
       "3880                         Drama  \n",
       "3881                         Drama  \n",
       "3882                Drama|Thriller  \n",
       "\n",
       "[3883 rows x 3 columns]"
      ]
     },
     "execution_count": 7,
     "metadata": {},
     "output_type": "execute_result"
    }
   ],
   "source": [
    "cols = movies.columns.str.split(\"::\")[0]\n",
    "\n",
    "movies = movies.iloc[:,0].str.split(\"::\",expand = True)\n",
    "\n",
    "movies.columns = cols\n",
    "\n",
    "movies"
   ]
  },
  {
   "cell_type": "code",
   "execution_count": 8,
   "id": "f307c14f",
   "metadata": {},
   "outputs": [],
   "source": [
    "rating = pd.read_fwf(\"zee-ratings.dat\",encoding='ISO-8859-1')"
   ]
  },
  {
   "cell_type": "code",
   "execution_count": 9,
   "id": "87c3e0df",
   "metadata": {},
   "outputs": [
    {
     "data": {
      "text/html": [
       "<div>\n",
       "<style scoped>\n",
       "    .dataframe tbody tr th:only-of-type {\n",
       "        vertical-align: middle;\n",
       "    }\n",
       "\n",
       "    .dataframe tbody tr th {\n",
       "        vertical-align: top;\n",
       "    }\n",
       "\n",
       "    .dataframe thead th {\n",
       "        text-align: right;\n",
       "    }\n",
       "</style>\n",
       "<table border=\"1\" class=\"dataframe\">\n",
       "  <thead>\n",
       "    <tr style=\"text-align: right;\">\n",
       "      <th></th>\n",
       "      <th>UserID</th>\n",
       "      <th>MovieID</th>\n",
       "      <th>Rating</th>\n",
       "      <th>Timestamp</th>\n",
       "    </tr>\n",
       "  </thead>\n",
       "  <tbody>\n",
       "    <tr>\n",
       "      <th>0</th>\n",
       "      <td>1</td>\n",
       "      <td>1193</td>\n",
       "      <td>5</td>\n",
       "      <td>978300760</td>\n",
       "    </tr>\n",
       "    <tr>\n",
       "      <th>1</th>\n",
       "      <td>1</td>\n",
       "      <td>661</td>\n",
       "      <td>3</td>\n",
       "      <td>978302109</td>\n",
       "    </tr>\n",
       "    <tr>\n",
       "      <th>2</th>\n",
       "      <td>1</td>\n",
       "      <td>914</td>\n",
       "      <td>3</td>\n",
       "      <td>978301968</td>\n",
       "    </tr>\n",
       "    <tr>\n",
       "      <th>3</th>\n",
       "      <td>1</td>\n",
       "      <td>3408</td>\n",
       "      <td>4</td>\n",
       "      <td>978300275</td>\n",
       "    </tr>\n",
       "    <tr>\n",
       "      <th>4</th>\n",
       "      <td>1</td>\n",
       "      <td>2355</td>\n",
       "      <td>5</td>\n",
       "      <td>978824291</td>\n",
       "    </tr>\n",
       "    <tr>\n",
       "      <th>...</th>\n",
       "      <td>...</td>\n",
       "      <td>...</td>\n",
       "      <td>...</td>\n",
       "      <td>...</td>\n",
       "    </tr>\n",
       "    <tr>\n",
       "      <th>1000204</th>\n",
       "      <td>6040</td>\n",
       "      <td>1091</td>\n",
       "      <td>1</td>\n",
       "      <td>956716541</td>\n",
       "    </tr>\n",
       "    <tr>\n",
       "      <th>1000205</th>\n",
       "      <td>6040</td>\n",
       "      <td>1094</td>\n",
       "      <td>5</td>\n",
       "      <td>956704887</td>\n",
       "    </tr>\n",
       "    <tr>\n",
       "      <th>1000206</th>\n",
       "      <td>6040</td>\n",
       "      <td>562</td>\n",
       "      <td>5</td>\n",
       "      <td>956704746</td>\n",
       "    </tr>\n",
       "    <tr>\n",
       "      <th>1000207</th>\n",
       "      <td>6040</td>\n",
       "      <td>1096</td>\n",
       "      <td>4</td>\n",
       "      <td>956715648</td>\n",
       "    </tr>\n",
       "    <tr>\n",
       "      <th>1000208</th>\n",
       "      <td>6040</td>\n",
       "      <td>1097</td>\n",
       "      <td>4</td>\n",
       "      <td>956715569</td>\n",
       "    </tr>\n",
       "  </tbody>\n",
       "</table>\n",
       "<p>1000209 rows × 4 columns</p>\n",
       "</div>"
      ],
      "text/plain": [
       "        UserID MovieID Rating  Timestamp\n",
       "0            1    1193      5  978300760\n",
       "1            1     661      3  978302109\n",
       "2            1     914      3  978301968\n",
       "3            1    3408      4  978300275\n",
       "4            1    2355      5  978824291\n",
       "...        ...     ...    ...        ...\n",
       "1000204   6040    1091      1  956716541\n",
       "1000205   6040    1094      5  956704887\n",
       "1000206   6040     562      5  956704746\n",
       "1000207   6040    1096      4  956715648\n",
       "1000208   6040    1097      4  956715569\n",
       "\n",
       "[1000209 rows x 4 columns]"
      ]
     },
     "execution_count": 9,
     "metadata": {},
     "output_type": "execute_result"
    }
   ],
   "source": [
    "cols = rating.columns.str.split(\"::\")[0]\n",
    "\n",
    "rating = rating.iloc[:,0].str.split(\"::\",expand = True)\n",
    "\n",
    "rating.columns = cols\n",
    "\n",
    "rating"
   ]
  },
  {
   "cell_type": "code",
   "execution_count": 10,
   "id": "c039696f",
   "metadata": {},
   "outputs": [],
   "source": [
    "df = pd.merge(rating,movies,left_on=\"MovieID\",right_on=\"Movie ID\")"
   ]
  },
  {
   "cell_type": "code",
   "execution_count": 11,
   "id": "165523a2",
   "metadata": {},
   "outputs": [],
   "source": [
    "df = df.merge(users,left_on=\"UserID\",right_on = \"UserID\")"
   ]
  },
  {
   "cell_type": "code",
   "execution_count": 12,
   "id": "04041610",
   "metadata": {},
   "outputs": [],
   "source": [
    "df.drop(columns=\"Movie ID\",inplace = True)"
   ]
  },
  {
   "cell_type": "code",
   "execution_count": 13,
   "id": "07e009fe",
   "metadata": {},
   "outputs": [
    {
     "data": {
      "text/html": [
       "<div>\n",
       "<style scoped>\n",
       "    .dataframe tbody tr th:only-of-type {\n",
       "        vertical-align: middle;\n",
       "    }\n",
       "\n",
       "    .dataframe tbody tr th {\n",
       "        vertical-align: top;\n",
       "    }\n",
       "\n",
       "    .dataframe thead th {\n",
       "        text-align: right;\n",
       "    }\n",
       "</style>\n",
       "<table border=\"1\" class=\"dataframe\">\n",
       "  <thead>\n",
       "    <tr style=\"text-align: right;\">\n",
       "      <th></th>\n",
       "      <th>UserID</th>\n",
       "      <th>MovieID</th>\n",
       "      <th>Rating</th>\n",
       "      <th>Timestamp</th>\n",
       "      <th>Title</th>\n",
       "      <th>Genres</th>\n",
       "      <th>Gender</th>\n",
       "      <th>Age</th>\n",
       "      <th>Occupation</th>\n",
       "      <th>Zip-code</th>\n",
       "    </tr>\n",
       "  </thead>\n",
       "  <tbody>\n",
       "    <tr>\n",
       "      <th>0</th>\n",
       "      <td>1</td>\n",
       "      <td>1193</td>\n",
       "      <td>5</td>\n",
       "      <td>978300760</td>\n",
       "      <td>One Flew Over the Cuckoo's Nest (1975)</td>\n",
       "      <td>Drama</td>\n",
       "      <td>F</td>\n",
       "      <td>1</td>\n",
       "      <td>10</td>\n",
       "      <td>48067</td>\n",
       "    </tr>\n",
       "    <tr>\n",
       "      <th>1</th>\n",
       "      <td>1</td>\n",
       "      <td>661</td>\n",
       "      <td>3</td>\n",
       "      <td>978302109</td>\n",
       "      <td>James and the Giant Peach (1996)</td>\n",
       "      <td>Animation|Children's|Musical</td>\n",
       "      <td>F</td>\n",
       "      <td>1</td>\n",
       "      <td>10</td>\n",
       "      <td>48067</td>\n",
       "    </tr>\n",
       "    <tr>\n",
       "      <th>2</th>\n",
       "      <td>1</td>\n",
       "      <td>914</td>\n",
       "      <td>3</td>\n",
       "      <td>978301968</td>\n",
       "      <td>My Fair Lady (1964)</td>\n",
       "      <td>Musical|Romance</td>\n",
       "      <td>F</td>\n",
       "      <td>1</td>\n",
       "      <td>10</td>\n",
       "      <td>48067</td>\n",
       "    </tr>\n",
       "    <tr>\n",
       "      <th>3</th>\n",
       "      <td>1</td>\n",
       "      <td>3408</td>\n",
       "      <td>4</td>\n",
       "      <td>978300275</td>\n",
       "      <td>Erin Brockovich (2000)</td>\n",
       "      <td>Drama</td>\n",
       "      <td>F</td>\n",
       "      <td>1</td>\n",
       "      <td>10</td>\n",
       "      <td>48067</td>\n",
       "    </tr>\n",
       "    <tr>\n",
       "      <th>4</th>\n",
       "      <td>1</td>\n",
       "      <td>2355</td>\n",
       "      <td>5</td>\n",
       "      <td>978824291</td>\n",
       "      <td>Bug's Life, A (1998)</td>\n",
       "      <td>Animation|Children's|Comedy</td>\n",
       "      <td>F</td>\n",
       "      <td>1</td>\n",
       "      <td>10</td>\n",
       "      <td>48067</td>\n",
       "    </tr>\n",
       "  </tbody>\n",
       "</table>\n",
       "</div>"
      ],
      "text/plain": [
       "  UserID MovieID Rating  Timestamp                                   Title  \\\n",
       "0      1    1193      5  978300760  One Flew Over the Cuckoo's Nest (1975)   \n",
       "1      1     661      3  978302109        James and the Giant Peach (1996)   \n",
       "2      1     914      3  978301968                     My Fair Lady (1964)   \n",
       "3      1    3408      4  978300275                  Erin Brockovich (2000)   \n",
       "4      1    2355      5  978824291                    Bug's Life, A (1998)   \n",
       "\n",
       "                         Genres Gender Age Occupation Zip-code  \n",
       "0                         Drama      F   1         10    48067  \n",
       "1  Animation|Children's|Musical      F   1         10    48067  \n",
       "2               Musical|Romance      F   1         10    48067  \n",
       "3                         Drama      F   1         10    48067  \n",
       "4   Animation|Children's|Comedy      F   1         10    48067  "
      ]
     },
     "execution_count": 13,
     "metadata": {},
     "output_type": "execute_result"
    }
   ],
   "source": [
    "df.head()"
   ]
  },
  {
   "cell_type": "code",
   "execution_count": 14,
   "id": "df912404",
   "metadata": {},
   "outputs": [
    {
     "data": {
      "text/plain": [
       "(1000209, 10)"
      ]
     },
     "execution_count": 14,
     "metadata": {},
     "output_type": "execute_result"
    }
   ],
   "source": [
    "df.shape"
   ]
  },
  {
   "cell_type": "code",
   "execution_count": 15,
   "id": "2113071f",
   "metadata": {},
   "outputs": [
    {
     "name": "stdout",
     "output_type": "stream",
     "text": [
      "<class 'pandas.core.frame.DataFrame'>\n",
      "RangeIndex: 1000209 entries, 0 to 1000208\n",
      "Data columns (total 10 columns):\n",
      " #   Column      Non-Null Count    Dtype \n",
      "---  ------      --------------    ----- \n",
      " 0   UserID      1000209 non-null  object\n",
      " 1   MovieID     1000209 non-null  object\n",
      " 2   Rating      1000209 non-null  object\n",
      " 3   Timestamp   1000209 non-null  object\n",
      " 4   Title       1000209 non-null  object\n",
      " 5   Genres      996144 non-null   object\n",
      " 6   Gender      1000209 non-null  object\n",
      " 7   Age         1000209 non-null  object\n",
      " 8   Occupation  1000209 non-null  object\n",
      " 9   Zip-code    1000209 non-null  object\n",
      "dtypes: object(10)\n",
      "memory usage: 76.3+ MB\n"
     ]
    }
   ],
   "source": [
    "df.info()"
   ]
  },
  {
   "cell_type": "code",
   "execution_count": 43,
   "id": "98de6ee2",
   "metadata": {},
   "outputs": [],
   "source": [
    "def scrape_genere(name):\n",
    "    try:\n",
    "        url = f\"https://www.google.com/search?q={name}\"\n",
    "        response=requests.get(url)\n",
    "        soup = BeautifulSoup(response.content,\"html.parser\")\n",
    "        result = soup.find_all(\"div\",class_=\"BNeawe tAd8D AP7Wnd\")[0]\n",
    "        text = result.get_text()\n",
    "        st=re.findall(\"\\D{3,}\",text)[0]\n",
    "        st = st.replace(\"‧\",\"\").replace(\" \",\"\").replace(\"/\",\"|\")\n",
    "        return st\n",
    "    except:\n",
    "        return name\n",
    "#     print(text,type(text))"
   ]
  },
  {
   "cell_type": "code",
   "execution_count": 44,
   "id": "caa05f52",
   "metadata": {},
   "outputs": [
    {
     "data": {
      "text/plain": [
       "62                                          Comedy|Action\n",
       "197                                       Musical|Romance\n",
       "359     Wonderful, Horrible Life of Leni Riefenstahl, ...\n",
       "464                                        Comedy|Romance\n",
       "720                                      Thriller|Mystery\n",
       "740     Dr. Strangelove or: How I Learned to Stop Worr...\n",
       "783     My Life and Times With Antonin Artaud (En comp...\n",
       "787     Old Lady Who Walked in the Sea, The (Vieille q...\n",
       "1134                                       Crime|Thriller\n",
       "1160                                      Fantasy|Mystery\n",
       "1341    Garden of Finzi-Contini, The (Giardino dei Fin...\n",
       "1950                                              Viewall\n",
       "2170    Swept Away (Travolti da un insolito destino ne...\n",
       "2516                                      Romance|Mystery\n",
       "2522                                      Musical|Romance\n",
       "2563                                       Fantasy|Comedy\n",
       "2721    Final Conflict, The (a.k.a. Omen III: The Fina...\n",
       "3001                                        Sci-fi|Comedy\n",
       "3017    March of the Wooden Soldiers (a.k.a. Laurel & ...\n",
       "3133    Even Dwarfs Started Small (Auch Zwerge haben k...\n",
       "3567                                           Drama|LGBT\n",
       "3583    City of the Living Dead (Paura nella città dei...\n",
       "3611    Decline of Western Civilization Part II: The M...\n",
       "3626                                        Horror|Comedy\n",
       "3817                                      Indiefilm|Drama\n",
       "Name: Title, dtype: object"
      ]
     },
     "execution_count": 44,
     "metadata": {},
     "output_type": "execute_result"
    }
   ],
   "source": [
    "movies[movies[\"Genres\"].isna()][\"Title\"].apply(scrape_genere)"
   ]
  },
  {
   "cell_type": "code",
   "execution_count": 30,
   "id": "583ddd3e",
   "metadata": {},
   "outputs": [
    {
     "data": {
      "text/plain": [
       "'Comedy|Action'"
      ]
     },
     "execution_count": 30,
     "metadata": {},
     "output_type": "execute_result"
    }
   ],
   "source": [
    "scrape_genere(\"Don't Be a Menace to South Central While Drinking Your Juice in the\")"
   ]
  },
  {
   "cell_type": "code",
   "execution_count": 39,
   "id": "7b0c173a",
   "metadata": {},
   "outputs": [
    {
     "data": {
      "text/plain": [
       "'Wonderful, Horrible Life of Leni Riefenstahl, The (Die Macht der B'"
      ]
     },
     "execution_count": 39,
     "metadata": {},
     "output_type": "execute_result"
    }
   ],
   "source": [
    "movies[movies[\"Genres\"].isna()].loc[359,\"Title\"]"
   ]
  },
  {
   "cell_type": "code",
   "execution_count": 45,
   "id": "651abd31",
   "metadata": {},
   "outputs": [
    {
     "data": {
      "text/plain": [
       "\"Don't%Be%a%Menace%to%South%Central%While%Drinking%Your%Juice%in%the\""
      ]
     },
     "execution_count": 45,
     "metadata": {},
     "output_type": "execute_result"
    }
   ],
   "source": [
    "\"Don't Be a Menace to South Central While Drinking Your Juice in the\".replace(\" \",\"%\")"
   ]
  },
  {
   "cell_type": "code",
   "execution_count": 77,
   "id": "a8aedd5c",
   "metadata": {},
   "outputs": [],
   "source": [
    "name = \"Don't Be a Menace to South Central While Drinking Your Juice in the\".replace(\" \",\"+\") "
   ]
  },
  {
   "cell_type": "code",
   "execution_count": 89,
   "id": "d8e4c9fb",
   "metadata": {},
   "outputs": [],
   "source": [
    "url = f\"https://www.imdb.com/find/?q={name}\""
   ]
  },
  {
   "cell_type": "code",
   "execution_count": 90,
   "id": "59f886f0",
   "metadata": {},
   "outputs": [],
   "source": [
    "# url = \"https://www.imdb.com/find?q=Toy+Story\""
   ]
  },
  {
   "cell_type": "code",
   "execution_count": 91,
   "id": "56d3441a",
   "metadata": {},
   "outputs": [],
   "source": [
    "headers = {\n",
    "        'User-Agent': 'Mozilla/5.0 (Windows NT 10.0; Win64; x64) AppleWebKit/537.36 (KHTML, like Gecko) Chrome/91.0.4472.124 Safari/537.36'\n",
    "    }"
   ]
  },
  {
   "cell_type": "code",
   "execution_count": 92,
   "id": "cc917151",
   "metadata": {},
   "outputs": [],
   "source": [
    "response = requests.get(url,headers = headers)"
   ]
  },
  {
   "cell_type": "code",
   "execution_count": 93,
   "id": "173785d5",
   "metadata": {},
   "outputs": [
    {
     "data": {
      "text/plain": [
       "<Response [200]>"
      ]
     },
     "execution_count": 93,
     "metadata": {},
     "output_type": "execute_result"
    }
   ],
   "source": [
    "response"
   ]
  },
  {
   "cell_type": "code",
   "execution_count": 94,
   "id": "032dd62a",
   "metadata": {},
   "outputs": [],
   "source": [
    "soup = BeautifulSoup(response.content,\"html.parser\")"
   ]
  },
  {
   "cell_type": "code",
   "execution_count": 99,
   "id": "9b68cac9",
   "metadata": {},
   "outputs": [],
   "source": [
    "div = soup.find_all(\"div\",class_=\"ipc-metadata-list-summary-item__tc\")[0]"
   ]
  },
  {
   "cell_type": "code",
   "execution_count": 104,
   "id": "aec71f28",
   "metadata": {},
   "outputs": [],
   "source": [
    "h = div.find_all(\"a\")[0]"
   ]
  },
  {
   "cell_type": "code",
   "execution_count": 105,
   "id": "78136e17",
   "metadata": {},
   "outputs": [
    {
     "data": {
      "text/plain": [
       "<a aria-disabled=\"false\" class=\"ipc-metadata-list-summary-item__t\" href=\"/title/tt0116126/?ref_=fn_al_tt_1\" role=\"button\" tabindex=\"0\">Don't Be a Menace to South Central While Drinking Your Juice in the Hood</a>"
      ]
     },
     "execution_count": 105,
     "metadata": {},
     "output_type": "execute_result"
    }
   ],
   "source": [
    "h"
   ]
  },
  {
   "cell_type": "code",
   "execution_count": 109,
   "id": "df5352aa",
   "metadata": {},
   "outputs": [],
   "source": [
    "href = \"https://www.imdb.com/\"+ str(h.get(\"href\"))"
   ]
  },
  {
   "cell_type": "code",
   "execution_count": 113,
   "id": "f3b4f9e4",
   "metadata": {},
   "outputs": [],
   "source": [
    "response = requests.get(href,headers=headers)"
   ]
  },
  {
   "cell_type": "code",
   "execution_count": 114,
   "id": "f61aa614",
   "metadata": {},
   "outputs": [
    {
     "data": {
      "text/plain": [
       "<Response [200]>"
      ]
     },
     "execution_count": 114,
     "metadata": {},
     "output_type": "execute_result"
    }
   ],
   "source": [
    "response"
   ]
  },
  {
   "cell_type": "code",
   "execution_count": 115,
   "id": "5f88f95a",
   "metadata": {},
   "outputs": [],
   "source": [
    "soup = BeautifulSoup(response.content,\"html.parser\")"
   ]
  },
  {
   "cell_type": "code",
   "execution_count": 120,
   "id": "be8070ad",
   "metadata": {},
   "outputs": [],
   "source": [
    "r = soup.find_all(\"div\",class_ = \"ipc-chip-list__scroller\")[0]"
   ]
  },
  {
   "cell_type": "code",
   "execution_count": 131,
   "id": "716d90b2",
   "metadata": {},
   "outputs": [
    {
     "name": "stdout",
     "output_type": "stream",
     "text": [
      "Comedy\n",
      "Comedy|Crime\n"
     ]
    }
   ],
   "source": [
    "l = []\n",
    "for i in r.find_all(\"span\"):\n",
    "    k = i.get_text()\n",
    "    l.append(k)\n",
    "    print(\"|\".join(l))"
   ]
  },
  {
   "cell_type": "code",
   "execution_count": null,
   "id": "5e031282",
   "metadata": {},
   "outputs": [],
   "source": []
  },
  {
   "cell_type": "code",
   "execution_count": null,
   "id": "fd2fbcf3",
   "metadata": {},
   "outputs": [],
   "source": []
  },
  {
   "cell_type": "code",
   "execution_count": 82,
   "id": "63827042",
   "metadata": {},
   "outputs": [
    {
     "name": "stdout",
     "output_type": "stream",
     "text": [
      "https://www.imdb.com/find?q=Toy+Story\n"
     ]
    }
   ],
   "source": [
    "def construct_imdb_url(movie_title):\n",
    "    # Replace spaces with '+' characters and encode special characters\n",
    "    encoded_title = '+'.join(movie_title.split())\n",
    "    # Construct the IMDb search URL\n",
    "    imdb_url = f\"https://www.imdb.com/find?q={encoded_title}\"\n",
    "    return imdb_url\n",
    "\n",
    "# Example usage\n",
    "movie_title = \"Toy Story\"\n",
    "imdb_url = construct_imdb_url(movie_title)\n",
    "print(imdb_url)\n"
   ]
  },
  {
   "cell_type": "code",
   "execution_count": null,
   "id": "75cc60e4",
   "metadata": {},
   "outputs": [],
   "source": []
  }
 ],
 "metadata": {
  "kernelspec": {
   "display_name": "Python 3 (ipykernel)",
   "language": "python",
   "name": "python3"
  },
  "language_info": {
   "codemirror_mode": {
    "name": "ipython",
    "version": 3
   },
   "file_extension": ".py",
   "mimetype": "text/x-python",
   "name": "python",
   "nbconvert_exporter": "python",
   "pygments_lexer": "ipython3",
   "version": "3.11.5"
  }
 },
 "nbformat": 4,
 "nbformat_minor": 5
}
